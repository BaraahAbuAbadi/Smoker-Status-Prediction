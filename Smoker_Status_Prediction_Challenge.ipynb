{
  "nbformat": 4,
  "nbformat_minor": 0,
  "metadata": {
    "colab": {
      "provenance": [],
      "include_colab_link": true
    },
    "kernelspec": {
      "name": "python3",
      "display_name": "Python 3"
    }
  },
  "cells": [
    {
      "cell_type": "markdown",
      "metadata": {
        "id": "view-in-github",
        "colab_type": "text"
      },
      "source": [
        "<a href=\"https://colab.research.google.com/github/BaraahAbuAbadi/Smoker-Status-Prediction/blob/main/Smoker_Status_Prediction_Challenge.ipynb\" target=\"_parent\"><img src=\"https://colab.research.google.com/assets/colab-badge.svg\" alt=\"Open In Colab\"/></a>"
      ]
    },
    {
      "cell_type": "markdown",
      "metadata": {
        "id": "SKzBo_NmCSMR"
      },
      "source": [
        "# Challenge of the Week\n",
        "---\n",
        "© 2023, Zaka AI, Inc. All Rights Reserved.\n",
        "## Case Study: Insurance Medical Cost Prediction\n",
        "\n",
        "**Objective:**\n",
        "\n",
        "In this exercise, you will explore a dataset of insurance data detailed below. You will build a model from scratch using Gradient Descent to predict the cost of treatment for individuals based on their age, sex, bmi and other information.\n",
        "\n",
        "\n",
        "## Dataset Description\n",
        "\n",
        "\n",
        "*   **age**: age of primary beneficiary\n",
        "*   **sex**: insurance contractor gender, female, male\n",
        "*   **bmi**: Body mass index, providing an understanding of body, weights that are relatively high or low relative to height,\n",
        "objective index of body weight (kg / m ^ 2) using the ratio of height to weight, ideally 18.5 to 24.9\n",
        "*   **children**: Number of children covered by health insurance / Number of dependents\n",
        "*   **smoker**: Smoking\n",
        "*   **region**: the beneficiary's residential area in the US, northeast, southeast, southwest, northwest.\n",
        "*   **charges**: Individual medical costs billed by health insurance"
      ]
    },
    {
      "cell_type": "markdown",
      "metadata": {
        "id": "5k7QqVknG5ya"
      },
      "source": [
        "## 1. Data Loading"
      ]
    },
    {
      "cell_type": "markdown",
      "metadata": {
        "id": "GfyJQMOnE_48"
      },
      "source": [
        "#### Import necessary python modules\n",
        "\n",
        "We will need the following libraries:\n",
        " - Numpy — for scientific computing (e.g., linear algebra (vectors & matrices)).\n",
        " - Pandas — providing high-performance, easy-to-use data reading, manipulation, and analysis.\n",
        " - Matplotlib — plotting & visualization.\n",
        " - scikit-learn — a tool for data mining and machine learning models. We need from this library the functions train_test_split and LinearRegression"
      ]
    },
    {
      "cell_type": "code",
      "metadata": {
        "id": "u9nnDKPjAfGq"
      },
      "source": [
        "#Test Your Zaka\n",
        "import numpy as np\n",
        "import pandas as pd\n",
        "import matplotlib.pyplot as plt\n",
        "\n",
        "from sklearn.model_selection import train_test_split\n",
        "from sklearn.linear_model import LinearRegression"
      ],
      "execution_count": 2,
      "outputs": []
    },
    {
      "cell_type": "markdown",
      "metadata": {
        "id": "4LEivAvUHIE3"
      },
      "source": [
        "#### Read & visualize data\n",
        "You should have the dataset on a csv file. To load the data to our code, we use **pandas** module, more specifically, the **read_csv** function.\n",
        "Then display the head of your dataset"
      ]
    },
    {
      "cell_type": "code",
      "metadata": {
        "id": "_hep8239AzVU",
        "colab": {
          "base_uri": "https://localhost:8080/",
          "height": 241
        },
        "outputId": "88e5f6de-9022-4a00-b13e-b599c025284c"
      },
      "source": [
        "#Test Your Zaka\n",
        "# clone git repo\n",
        "!git clone https://github.com/BaraahAbuAbadi/Smoker-Status-Prediction\n",
        "\n",
        "# change working directory\n",
        "%cd Smoker-Status-Prediction/data/\n",
        "data = pd.read_csv('insurance.csv')\n",
        "data.head()"
      ],
      "execution_count": 3,
      "outputs": [
        {
          "output_type": "stream",
          "name": "stdout",
          "text": [
            "fatal: destination path 'Smoker-Status-Prediction' already exists and is not an empty directory.\n",
            "/content/Smoker-Status-Prediction/data\n"
          ]
        },
        {
          "output_type": "execute_result",
          "data": {
            "text/plain": [
              "   age     sex     bmi  children smoker     region      charges\n",
              "0   19  female  27.900         0    yes  southwest  16884.92400\n",
              "1   18    male  33.770         1     no  southeast   1725.55230\n",
              "2   28    male  33.000         3     no  southeast   4449.46200\n",
              "3   33    male  22.705         0     no  northwest  21984.47061\n",
              "4   32    male  28.880         0     no  northwest   3866.85520"
            ],
            "text/html": [
              "\n",
              "  <div id=\"df-f84c8f47-373b-45a3-a9fe-60b6e968f8fe\" class=\"colab-df-container\">\n",
              "    <div>\n",
              "<style scoped>\n",
              "    .dataframe tbody tr th:only-of-type {\n",
              "        vertical-align: middle;\n",
              "    }\n",
              "\n",
              "    .dataframe tbody tr th {\n",
              "        vertical-align: top;\n",
              "    }\n",
              "\n",
              "    .dataframe thead th {\n",
              "        text-align: right;\n",
              "    }\n",
              "</style>\n",
              "<table border=\"1\" class=\"dataframe\">\n",
              "  <thead>\n",
              "    <tr style=\"text-align: right;\">\n",
              "      <th></th>\n",
              "      <th>age</th>\n",
              "      <th>sex</th>\n",
              "      <th>bmi</th>\n",
              "      <th>children</th>\n",
              "      <th>smoker</th>\n",
              "      <th>region</th>\n",
              "      <th>charges</th>\n",
              "    </tr>\n",
              "  </thead>\n",
              "  <tbody>\n",
              "    <tr>\n",
              "      <th>0</th>\n",
              "      <td>19</td>\n",
              "      <td>female</td>\n",
              "      <td>27.900</td>\n",
              "      <td>0</td>\n",
              "      <td>yes</td>\n",
              "      <td>southwest</td>\n",
              "      <td>16884.92400</td>\n",
              "    </tr>\n",
              "    <tr>\n",
              "      <th>1</th>\n",
              "      <td>18</td>\n",
              "      <td>male</td>\n",
              "      <td>33.770</td>\n",
              "      <td>1</td>\n",
              "      <td>no</td>\n",
              "      <td>southeast</td>\n",
              "      <td>1725.55230</td>\n",
              "    </tr>\n",
              "    <tr>\n",
              "      <th>2</th>\n",
              "      <td>28</td>\n",
              "      <td>male</td>\n",
              "      <td>33.000</td>\n",
              "      <td>3</td>\n",
              "      <td>no</td>\n",
              "      <td>southeast</td>\n",
              "      <td>4449.46200</td>\n",
              "    </tr>\n",
              "    <tr>\n",
              "      <th>3</th>\n",
              "      <td>33</td>\n",
              "      <td>male</td>\n",
              "      <td>22.705</td>\n",
              "      <td>0</td>\n",
              "      <td>no</td>\n",
              "      <td>northwest</td>\n",
              "      <td>21984.47061</td>\n",
              "    </tr>\n",
              "    <tr>\n",
              "      <th>4</th>\n",
              "      <td>32</td>\n",
              "      <td>male</td>\n",
              "      <td>28.880</td>\n",
              "      <td>0</td>\n",
              "      <td>no</td>\n",
              "      <td>northwest</td>\n",
              "      <td>3866.85520</td>\n",
              "    </tr>\n",
              "  </tbody>\n",
              "</table>\n",
              "</div>\n",
              "    <div class=\"colab-df-buttons\">\n",
              "\n",
              "  <div class=\"colab-df-container\">\n",
              "    <button class=\"colab-df-convert\" onclick=\"convertToInteractive('df-f84c8f47-373b-45a3-a9fe-60b6e968f8fe')\"\n",
              "            title=\"Convert this dataframe to an interactive table.\"\n",
              "            style=\"display:none;\">\n",
              "\n",
              "  <svg xmlns=\"http://www.w3.org/2000/svg\" height=\"24px\" viewBox=\"0 -960 960 960\">\n",
              "    <path d=\"M120-120v-720h720v720H120Zm60-500h600v-160H180v160Zm220 220h160v-160H400v160Zm0 220h160v-160H400v160ZM180-400h160v-160H180v160Zm440 0h160v-160H620v160ZM180-180h160v-160H180v160Zm440 0h160v-160H620v160Z\"/>\n",
              "  </svg>\n",
              "    </button>\n",
              "\n",
              "  <style>\n",
              "    .colab-df-container {\n",
              "      display:flex;\n",
              "      gap: 12px;\n",
              "    }\n",
              "\n",
              "    .colab-df-convert {\n",
              "      background-color: #E8F0FE;\n",
              "      border: none;\n",
              "      border-radius: 50%;\n",
              "      cursor: pointer;\n",
              "      display: none;\n",
              "      fill: #1967D2;\n",
              "      height: 32px;\n",
              "      padding: 0 0 0 0;\n",
              "      width: 32px;\n",
              "    }\n",
              "\n",
              "    .colab-df-convert:hover {\n",
              "      background-color: #E2EBFA;\n",
              "      box-shadow: 0px 1px 2px rgba(60, 64, 67, 0.3), 0px 1px 3px 1px rgba(60, 64, 67, 0.15);\n",
              "      fill: #174EA6;\n",
              "    }\n",
              "\n",
              "    .colab-df-buttons div {\n",
              "      margin-bottom: 4px;\n",
              "    }\n",
              "\n",
              "    [theme=dark] .colab-df-convert {\n",
              "      background-color: #3B4455;\n",
              "      fill: #D2E3FC;\n",
              "    }\n",
              "\n",
              "    [theme=dark] .colab-df-convert:hover {\n",
              "      background-color: #434B5C;\n",
              "      box-shadow: 0px 1px 3px 1px rgba(0, 0, 0, 0.15);\n",
              "      filter: drop-shadow(0px 1px 2px rgba(0, 0, 0, 0.3));\n",
              "      fill: #FFFFFF;\n",
              "    }\n",
              "  </style>\n",
              "\n",
              "    <script>\n",
              "      const buttonEl =\n",
              "        document.querySelector('#df-f84c8f47-373b-45a3-a9fe-60b6e968f8fe button.colab-df-convert');\n",
              "      buttonEl.style.display =\n",
              "        google.colab.kernel.accessAllowed ? 'block' : 'none';\n",
              "\n",
              "      async function convertToInteractive(key) {\n",
              "        const element = document.querySelector('#df-f84c8f47-373b-45a3-a9fe-60b6e968f8fe');\n",
              "        const dataTable =\n",
              "          await google.colab.kernel.invokeFunction('convertToInteractive',\n",
              "                                                    [key], {});\n",
              "        if (!dataTable) return;\n",
              "\n",
              "        const docLinkHtml = 'Like what you see? Visit the ' +\n",
              "          '<a target=\"_blank\" href=https://colab.research.google.com/notebooks/data_table.ipynb>data table notebook</a>'\n",
              "          + ' to learn more about interactive tables.';\n",
              "        element.innerHTML = '';\n",
              "        dataTable['output_type'] = 'display_data';\n",
              "        await google.colab.output.renderOutput(dataTable, element);\n",
              "        const docLink = document.createElement('div');\n",
              "        docLink.innerHTML = docLinkHtml;\n",
              "        element.appendChild(docLink);\n",
              "      }\n",
              "    </script>\n",
              "  </div>\n",
              "\n",
              "\n",
              "<div id=\"df-b4ba84cc-43cd-4852-b4f9-4f35fa7b2bba\">\n",
              "  <button class=\"colab-df-quickchart\" onclick=\"quickchart('df-b4ba84cc-43cd-4852-b4f9-4f35fa7b2bba')\"\n",
              "            title=\"Suggest charts\"\n",
              "            style=\"display:none;\">\n",
              "\n",
              "<svg xmlns=\"http://www.w3.org/2000/svg\" height=\"24px\"viewBox=\"0 0 24 24\"\n",
              "     width=\"24px\">\n",
              "    <g>\n",
              "        <path d=\"M19 3H5c-1.1 0-2 .9-2 2v14c0 1.1.9 2 2 2h14c1.1 0 2-.9 2-2V5c0-1.1-.9-2-2-2zM9 17H7v-7h2v7zm4 0h-2V7h2v10zm4 0h-2v-4h2v4z\"/>\n",
              "    </g>\n",
              "</svg>\n",
              "  </button>\n",
              "\n",
              "<style>\n",
              "  .colab-df-quickchart {\n",
              "      --bg-color: #E8F0FE;\n",
              "      --fill-color: #1967D2;\n",
              "      --hover-bg-color: #E2EBFA;\n",
              "      --hover-fill-color: #174EA6;\n",
              "      --disabled-fill-color: #AAA;\n",
              "      --disabled-bg-color: #DDD;\n",
              "  }\n",
              "\n",
              "  [theme=dark] .colab-df-quickchart {\n",
              "      --bg-color: #3B4455;\n",
              "      --fill-color: #D2E3FC;\n",
              "      --hover-bg-color: #434B5C;\n",
              "      --hover-fill-color: #FFFFFF;\n",
              "      --disabled-bg-color: #3B4455;\n",
              "      --disabled-fill-color: #666;\n",
              "  }\n",
              "\n",
              "  .colab-df-quickchart {\n",
              "    background-color: var(--bg-color);\n",
              "    border: none;\n",
              "    border-radius: 50%;\n",
              "    cursor: pointer;\n",
              "    display: none;\n",
              "    fill: var(--fill-color);\n",
              "    height: 32px;\n",
              "    padding: 0;\n",
              "    width: 32px;\n",
              "  }\n",
              "\n",
              "  .colab-df-quickchart:hover {\n",
              "    background-color: var(--hover-bg-color);\n",
              "    box-shadow: 0 1px 2px rgba(60, 64, 67, 0.3), 0 1px 3px 1px rgba(60, 64, 67, 0.15);\n",
              "    fill: var(--button-hover-fill-color);\n",
              "  }\n",
              "\n",
              "  .colab-df-quickchart-complete:disabled,\n",
              "  .colab-df-quickchart-complete:disabled:hover {\n",
              "    background-color: var(--disabled-bg-color);\n",
              "    fill: var(--disabled-fill-color);\n",
              "    box-shadow: none;\n",
              "  }\n",
              "\n",
              "  .colab-df-spinner {\n",
              "    border: 2px solid var(--fill-color);\n",
              "    border-color: transparent;\n",
              "    border-bottom-color: var(--fill-color);\n",
              "    animation:\n",
              "      spin 1s steps(1) infinite;\n",
              "  }\n",
              "\n",
              "  @keyframes spin {\n",
              "    0% {\n",
              "      border-color: transparent;\n",
              "      border-bottom-color: var(--fill-color);\n",
              "      border-left-color: var(--fill-color);\n",
              "    }\n",
              "    20% {\n",
              "      border-color: transparent;\n",
              "      border-left-color: var(--fill-color);\n",
              "      border-top-color: var(--fill-color);\n",
              "    }\n",
              "    30% {\n",
              "      border-color: transparent;\n",
              "      border-left-color: var(--fill-color);\n",
              "      border-top-color: var(--fill-color);\n",
              "      border-right-color: var(--fill-color);\n",
              "    }\n",
              "    40% {\n",
              "      border-color: transparent;\n",
              "      border-right-color: var(--fill-color);\n",
              "      border-top-color: var(--fill-color);\n",
              "    }\n",
              "    60% {\n",
              "      border-color: transparent;\n",
              "      border-right-color: var(--fill-color);\n",
              "    }\n",
              "    80% {\n",
              "      border-color: transparent;\n",
              "      border-right-color: var(--fill-color);\n",
              "      border-bottom-color: var(--fill-color);\n",
              "    }\n",
              "    90% {\n",
              "      border-color: transparent;\n",
              "      border-bottom-color: var(--fill-color);\n",
              "    }\n",
              "  }\n",
              "</style>\n",
              "\n",
              "  <script>\n",
              "    async function quickchart(key) {\n",
              "      const quickchartButtonEl =\n",
              "        document.querySelector('#' + key + ' button');\n",
              "      quickchartButtonEl.disabled = true;  // To prevent multiple clicks.\n",
              "      quickchartButtonEl.classList.add('colab-df-spinner');\n",
              "      try {\n",
              "        const charts = await google.colab.kernel.invokeFunction(\n",
              "            'suggestCharts', [key], {});\n",
              "      } catch (error) {\n",
              "        console.error('Error during call to suggestCharts:', error);\n",
              "      }\n",
              "      quickchartButtonEl.classList.remove('colab-df-spinner');\n",
              "      quickchartButtonEl.classList.add('colab-df-quickchart-complete');\n",
              "    }\n",
              "    (() => {\n",
              "      let quickchartButtonEl =\n",
              "        document.querySelector('#df-b4ba84cc-43cd-4852-b4f9-4f35fa7b2bba button');\n",
              "      quickchartButtonEl.style.display =\n",
              "        google.colab.kernel.accessAllowed ? 'block' : 'none';\n",
              "    })();\n",
              "  </script>\n",
              "</div>\n",
              "\n",
              "    </div>\n",
              "  </div>\n"
            ],
            "application/vnd.google.colaboratory.intrinsic+json": {
              "type": "dataframe",
              "variable_name": "data",
              "summary": "{\n  \"name\": \"data\",\n  \"rows\": 1338,\n  \"fields\": [\n    {\n      \"column\": \"age\",\n      \"properties\": {\n        \"dtype\": \"number\",\n        \"std\": 14,\n        \"min\": 18,\n        \"max\": 64,\n        \"num_unique_values\": 47,\n        \"samples\": [\n          21,\n          45,\n          36\n        ],\n        \"semantic_type\": \"\",\n        \"description\": \"\"\n      }\n    },\n    {\n      \"column\": \"sex\",\n      \"properties\": {\n        \"dtype\": \"category\",\n        \"num_unique_values\": 2,\n        \"samples\": [\n          \"male\",\n          \"female\"\n        ],\n        \"semantic_type\": \"\",\n        \"description\": \"\"\n      }\n    },\n    {\n      \"column\": \"bmi\",\n      \"properties\": {\n        \"dtype\": \"number\",\n        \"std\": 6.1010383695987755,\n        \"min\": 15.96,\n        \"max\": 53.13,\n        \"num_unique_values\": 548,\n        \"samples\": [\n          23.18,\n          26.885\n        ],\n        \"semantic_type\": \"\",\n        \"description\": \"\"\n      }\n    },\n    {\n      \"column\": \"children\",\n      \"properties\": {\n        \"dtype\": \"number\",\n        \"std\": 1,\n        \"min\": 0,\n        \"max\": 5,\n        \"num_unique_values\": 6,\n        \"samples\": [\n          0,\n          1\n        ],\n        \"semantic_type\": \"\",\n        \"description\": \"\"\n      }\n    },\n    {\n      \"column\": \"smoker\",\n      \"properties\": {\n        \"dtype\": \"category\",\n        \"num_unique_values\": 2,\n        \"samples\": [\n          \"no\",\n          \"yes\"\n        ],\n        \"semantic_type\": \"\",\n        \"description\": \"\"\n      }\n    },\n    {\n      \"column\": \"region\",\n      \"properties\": {\n        \"dtype\": \"category\",\n        \"num_unique_values\": 4,\n        \"samples\": [\n          \"southeast\",\n          \"northeast\"\n        ],\n        \"semantic_type\": \"\",\n        \"description\": \"\"\n      }\n    },\n    {\n      \"column\": \"charges\",\n      \"properties\": {\n        \"dtype\": \"number\",\n        \"std\": 12110.011236693994,\n        \"min\": 1121.8739,\n        \"max\": 63770.42801,\n        \"num_unique_values\": 1337,\n        \"samples\": [\n          8688.85885,\n          5708.867\n        ],\n        \"semantic_type\": \"\",\n        \"description\": \"\"\n      }\n    }\n  ]\n}"
            }
          },
          "metadata": {},
          "execution_count": 3
        }
      ]
    },
    {
      "cell_type": "markdown",
      "metadata": {
        "id": "qgIxvmAKhiqe"
      },
      "source": [
        "## 2. Exploratory Data Analysis\n",
        "\n",
        "Let's dig deeper & understand our data"
      ]
    },
    {
      "cell_type": "markdown",
      "metadata": {
        "id": "LbXDTkiQhzwq"
      },
      "source": [
        "**Task:** how many rows & columns in our dataset"
      ]
    },
    {
      "cell_type": "code",
      "metadata": {
        "id": "nUf0K_SMh1og",
        "colab": {
          "base_uri": "https://localhost:8080/"
        },
        "outputId": "1da63afb-1f1a-476c-ca1a-f6cedea72a92"
      },
      "source": [
        "#Test Your Zaka\n",
        "rows= data.shape[0]\n",
        "columns = data.shape[1]\n",
        "print(f\"The dataset has {rows} rows and {columns} columns\")"
      ],
      "execution_count": null,
      "outputs": [
        {
          "output_type": "stream",
          "name": "stdout",
          "text": [
            "The dataset has 1338 rows and 7 columns\n"
          ]
        }
      ]
    },
    {
      "cell_type": "markdown",
      "metadata": {
        "id": "rPqsS9S2B2M4"
      },
      "source": [
        "Use the function **info()**, to check:\n",
        " - data types (int, float, or object (e.g., string))\n",
        " - missing values\n",
        " - memory usage\n",
        " - number of rows and columns"
      ]
    },
    {
      "cell_type": "code",
      "metadata": {
        "id": "exWsHvXSA7nz",
        "colab": {
          "base_uri": "https://localhost:8080/"
        },
        "outputId": "ac680c40-cd07-41fe-db76-0e886170d805"
      },
      "source": [
        "#Test Your Zaka\n",
        "data.info()"
      ],
      "execution_count": null,
      "outputs": [
        {
          "output_type": "stream",
          "name": "stdout",
          "text": [
            "<class 'pandas.core.frame.DataFrame'>\n",
            "RangeIndex: 1338 entries, 0 to 1337\n",
            "Data columns (total 7 columns):\n",
            " #   Column    Non-Null Count  Dtype  \n",
            "---  ------    --------------  -----  \n",
            " 0   age       1338 non-null   int64  \n",
            " 1   sex       1338 non-null   object \n",
            " 2   bmi       1335 non-null   float64\n",
            " 3   children  1338 non-null   int64  \n",
            " 4   smoker    1338 non-null   object \n",
            " 5   region    1338 non-null   object \n",
            " 6   charges   1338 non-null   float64\n",
            "dtypes: float64(2), int64(2), object(3)\n",
            "memory usage: 73.3+ KB\n"
          ]
        }
      ]
    },
    {
      "cell_type": "markdown",
      "metadata": {
        "id": "Kt2KsZa2B63T"
      },
      "source": [
        "Use the function **describe()** to can check the mean, standard deviation, maximum, and minimum of each numerical feature (column)"
      ]
    },
    {
      "cell_type": "code",
      "metadata": {
        "id": "pifR8QwkA-DW",
        "colab": {
          "base_uri": "https://localhost:8080/",
          "height": 300
        },
        "outputId": "960d6512-754a-4bf7-d292-fe344fbd8a8b"
      },
      "source": [
        "#Test Your Zaka\n",
        "data.describe()"
      ],
      "execution_count": null,
      "outputs": [
        {
          "output_type": "execute_result",
          "data": {
            "text/plain": [
              "               age          bmi     children       charges\n",
              "count  1338.000000  1335.000000  1338.000000   1338.000000\n",
              "mean     39.207025    30.661423     1.094918  13270.422265\n",
              "std      14.049960     6.101038     1.205493  12110.011237\n",
              "min      18.000000    15.960000     0.000000   1121.873900\n",
              "25%      27.000000    26.302500     0.000000   4740.287150\n",
              "50%      39.000000    30.400000     1.000000   9382.033000\n",
              "75%      51.000000    34.687500     2.000000  16639.912515\n",
              "max      64.000000    53.130000     5.000000  63770.428010"
            ],
            "text/html": [
              "\n",
              "  <div id=\"df-332d5e02-842e-48f7-9b60-0f318273e9e9\" class=\"colab-df-container\">\n",
              "    <div>\n",
              "<style scoped>\n",
              "    .dataframe tbody tr th:only-of-type {\n",
              "        vertical-align: middle;\n",
              "    }\n",
              "\n",
              "    .dataframe tbody tr th {\n",
              "        vertical-align: top;\n",
              "    }\n",
              "\n",
              "    .dataframe thead th {\n",
              "        text-align: right;\n",
              "    }\n",
              "</style>\n",
              "<table border=\"1\" class=\"dataframe\">\n",
              "  <thead>\n",
              "    <tr style=\"text-align: right;\">\n",
              "      <th></th>\n",
              "      <th>age</th>\n",
              "      <th>bmi</th>\n",
              "      <th>children</th>\n",
              "      <th>charges</th>\n",
              "    </tr>\n",
              "  </thead>\n",
              "  <tbody>\n",
              "    <tr>\n",
              "      <th>count</th>\n",
              "      <td>1338.000000</td>\n",
              "      <td>1335.000000</td>\n",
              "      <td>1338.000000</td>\n",
              "      <td>1338.000000</td>\n",
              "    </tr>\n",
              "    <tr>\n",
              "      <th>mean</th>\n",
              "      <td>39.207025</td>\n",
              "      <td>30.661423</td>\n",
              "      <td>1.094918</td>\n",
              "      <td>13270.422265</td>\n",
              "    </tr>\n",
              "    <tr>\n",
              "      <th>std</th>\n",
              "      <td>14.049960</td>\n",
              "      <td>6.101038</td>\n",
              "      <td>1.205493</td>\n",
              "      <td>12110.011237</td>\n",
              "    </tr>\n",
              "    <tr>\n",
              "      <th>min</th>\n",
              "      <td>18.000000</td>\n",
              "      <td>15.960000</td>\n",
              "      <td>0.000000</td>\n",
              "      <td>1121.873900</td>\n",
              "    </tr>\n",
              "    <tr>\n",
              "      <th>25%</th>\n",
              "      <td>27.000000</td>\n",
              "      <td>26.302500</td>\n",
              "      <td>0.000000</td>\n",
              "      <td>4740.287150</td>\n",
              "    </tr>\n",
              "    <tr>\n",
              "      <th>50%</th>\n",
              "      <td>39.000000</td>\n",
              "      <td>30.400000</td>\n",
              "      <td>1.000000</td>\n",
              "      <td>9382.033000</td>\n",
              "    </tr>\n",
              "    <tr>\n",
              "      <th>75%</th>\n",
              "      <td>51.000000</td>\n",
              "      <td>34.687500</td>\n",
              "      <td>2.000000</td>\n",
              "      <td>16639.912515</td>\n",
              "    </tr>\n",
              "    <tr>\n",
              "      <th>max</th>\n",
              "      <td>64.000000</td>\n",
              "      <td>53.130000</td>\n",
              "      <td>5.000000</td>\n",
              "      <td>63770.428010</td>\n",
              "    </tr>\n",
              "  </tbody>\n",
              "</table>\n",
              "</div>\n",
              "    <div class=\"colab-df-buttons\">\n",
              "\n",
              "  <div class=\"colab-df-container\">\n",
              "    <button class=\"colab-df-convert\" onclick=\"convertToInteractive('df-332d5e02-842e-48f7-9b60-0f318273e9e9')\"\n",
              "            title=\"Convert this dataframe to an interactive table.\"\n",
              "            style=\"display:none;\">\n",
              "\n",
              "  <svg xmlns=\"http://www.w3.org/2000/svg\" height=\"24px\" viewBox=\"0 -960 960 960\">\n",
              "    <path d=\"M120-120v-720h720v720H120Zm60-500h600v-160H180v160Zm220 220h160v-160H400v160Zm0 220h160v-160H400v160ZM180-400h160v-160H180v160Zm440 0h160v-160H620v160ZM180-180h160v-160H180v160Zm440 0h160v-160H620v160Z\"/>\n",
              "  </svg>\n",
              "    </button>\n",
              "\n",
              "  <style>\n",
              "    .colab-df-container {\n",
              "      display:flex;\n",
              "      gap: 12px;\n",
              "    }\n",
              "\n",
              "    .colab-df-convert {\n",
              "      background-color: #E8F0FE;\n",
              "      border: none;\n",
              "      border-radius: 50%;\n",
              "      cursor: pointer;\n",
              "      display: none;\n",
              "      fill: #1967D2;\n",
              "      height: 32px;\n",
              "      padding: 0 0 0 0;\n",
              "      width: 32px;\n",
              "    }\n",
              "\n",
              "    .colab-df-convert:hover {\n",
              "      background-color: #E2EBFA;\n",
              "      box-shadow: 0px 1px 2px rgba(60, 64, 67, 0.3), 0px 1px 3px 1px rgba(60, 64, 67, 0.15);\n",
              "      fill: #174EA6;\n",
              "    }\n",
              "\n",
              "    .colab-df-buttons div {\n",
              "      margin-bottom: 4px;\n",
              "    }\n",
              "\n",
              "    [theme=dark] .colab-df-convert {\n",
              "      background-color: #3B4455;\n",
              "      fill: #D2E3FC;\n",
              "    }\n",
              "\n",
              "    [theme=dark] .colab-df-convert:hover {\n",
              "      background-color: #434B5C;\n",
              "      box-shadow: 0px 1px 3px 1px rgba(0, 0, 0, 0.15);\n",
              "      filter: drop-shadow(0px 1px 2px rgba(0, 0, 0, 0.3));\n",
              "      fill: #FFFFFF;\n",
              "    }\n",
              "  </style>\n",
              "\n",
              "    <script>\n",
              "      const buttonEl =\n",
              "        document.querySelector('#df-332d5e02-842e-48f7-9b60-0f318273e9e9 button.colab-df-convert');\n",
              "      buttonEl.style.display =\n",
              "        google.colab.kernel.accessAllowed ? 'block' : 'none';\n",
              "\n",
              "      async function convertToInteractive(key) {\n",
              "        const element = document.querySelector('#df-332d5e02-842e-48f7-9b60-0f318273e9e9');\n",
              "        const dataTable =\n",
              "          await google.colab.kernel.invokeFunction('convertToInteractive',\n",
              "                                                    [key], {});\n",
              "        if (!dataTable) return;\n",
              "\n",
              "        const docLinkHtml = 'Like what you see? Visit the ' +\n",
              "          '<a target=\"_blank\" href=https://colab.research.google.com/notebooks/data_table.ipynb>data table notebook</a>'\n",
              "          + ' to learn more about interactive tables.';\n",
              "        element.innerHTML = '';\n",
              "        dataTable['output_type'] = 'display_data';\n",
              "        await google.colab.output.renderOutput(dataTable, element);\n",
              "        const docLink = document.createElement('div');\n",
              "        docLink.innerHTML = docLinkHtml;\n",
              "        element.appendChild(docLink);\n",
              "      }\n",
              "    </script>\n",
              "  </div>\n",
              "\n",
              "\n",
              "<div id=\"df-0b21096b-f249-4c9e-a4d8-4f8f9cfd2d43\">\n",
              "  <button class=\"colab-df-quickchart\" onclick=\"quickchart('df-0b21096b-f249-4c9e-a4d8-4f8f9cfd2d43')\"\n",
              "            title=\"Suggest charts\"\n",
              "            style=\"display:none;\">\n",
              "\n",
              "<svg xmlns=\"http://www.w3.org/2000/svg\" height=\"24px\"viewBox=\"0 0 24 24\"\n",
              "     width=\"24px\">\n",
              "    <g>\n",
              "        <path d=\"M19 3H5c-1.1 0-2 .9-2 2v14c0 1.1.9 2 2 2h14c1.1 0 2-.9 2-2V5c0-1.1-.9-2-2-2zM9 17H7v-7h2v7zm4 0h-2V7h2v10zm4 0h-2v-4h2v4z\"/>\n",
              "    </g>\n",
              "</svg>\n",
              "  </button>\n",
              "\n",
              "<style>\n",
              "  .colab-df-quickchart {\n",
              "      --bg-color: #E8F0FE;\n",
              "      --fill-color: #1967D2;\n",
              "      --hover-bg-color: #E2EBFA;\n",
              "      --hover-fill-color: #174EA6;\n",
              "      --disabled-fill-color: #AAA;\n",
              "      --disabled-bg-color: #DDD;\n",
              "  }\n",
              "\n",
              "  [theme=dark] .colab-df-quickchart {\n",
              "      --bg-color: #3B4455;\n",
              "      --fill-color: #D2E3FC;\n",
              "      --hover-bg-color: #434B5C;\n",
              "      --hover-fill-color: #FFFFFF;\n",
              "      --disabled-bg-color: #3B4455;\n",
              "      --disabled-fill-color: #666;\n",
              "  }\n",
              "\n",
              "  .colab-df-quickchart {\n",
              "    background-color: var(--bg-color);\n",
              "    border: none;\n",
              "    border-radius: 50%;\n",
              "    cursor: pointer;\n",
              "    display: none;\n",
              "    fill: var(--fill-color);\n",
              "    height: 32px;\n",
              "    padding: 0;\n",
              "    width: 32px;\n",
              "  }\n",
              "\n",
              "  .colab-df-quickchart:hover {\n",
              "    background-color: var(--hover-bg-color);\n",
              "    box-shadow: 0 1px 2px rgba(60, 64, 67, 0.3), 0 1px 3px 1px rgba(60, 64, 67, 0.15);\n",
              "    fill: var(--button-hover-fill-color);\n",
              "  }\n",
              "\n",
              "  .colab-df-quickchart-complete:disabled,\n",
              "  .colab-df-quickchart-complete:disabled:hover {\n",
              "    background-color: var(--disabled-bg-color);\n",
              "    fill: var(--disabled-fill-color);\n",
              "    box-shadow: none;\n",
              "  }\n",
              "\n",
              "  .colab-df-spinner {\n",
              "    border: 2px solid var(--fill-color);\n",
              "    border-color: transparent;\n",
              "    border-bottom-color: var(--fill-color);\n",
              "    animation:\n",
              "      spin 1s steps(1) infinite;\n",
              "  }\n",
              "\n",
              "  @keyframes spin {\n",
              "    0% {\n",
              "      border-color: transparent;\n",
              "      border-bottom-color: var(--fill-color);\n",
              "      border-left-color: var(--fill-color);\n",
              "    }\n",
              "    20% {\n",
              "      border-color: transparent;\n",
              "      border-left-color: var(--fill-color);\n",
              "      border-top-color: var(--fill-color);\n",
              "    }\n",
              "    30% {\n",
              "      border-color: transparent;\n",
              "      border-left-color: var(--fill-color);\n",
              "      border-top-color: var(--fill-color);\n",
              "      border-right-color: var(--fill-color);\n",
              "    }\n",
              "    40% {\n",
              "      border-color: transparent;\n",
              "      border-right-color: var(--fill-color);\n",
              "      border-top-color: var(--fill-color);\n",
              "    }\n",
              "    60% {\n",
              "      border-color: transparent;\n",
              "      border-right-color: var(--fill-color);\n",
              "    }\n",
              "    80% {\n",
              "      border-color: transparent;\n",
              "      border-right-color: var(--fill-color);\n",
              "      border-bottom-color: var(--fill-color);\n",
              "    }\n",
              "    90% {\n",
              "      border-color: transparent;\n",
              "      border-bottom-color: var(--fill-color);\n",
              "    }\n",
              "  }\n",
              "</style>\n",
              "\n",
              "  <script>\n",
              "    async function quickchart(key) {\n",
              "      const quickchartButtonEl =\n",
              "        document.querySelector('#' + key + ' button');\n",
              "      quickchartButtonEl.disabled = true;  // To prevent multiple clicks.\n",
              "      quickchartButtonEl.classList.add('colab-df-spinner');\n",
              "      try {\n",
              "        const charts = await google.colab.kernel.invokeFunction(\n",
              "            'suggestCharts', [key], {});\n",
              "      } catch (error) {\n",
              "        console.error('Error during call to suggestCharts:', error);\n",
              "      }\n",
              "      quickchartButtonEl.classList.remove('colab-df-spinner');\n",
              "      quickchartButtonEl.classList.add('colab-df-quickchart-complete');\n",
              "    }\n",
              "    (() => {\n",
              "      let quickchartButtonEl =\n",
              "        document.querySelector('#df-0b21096b-f249-4c9e-a4d8-4f8f9cfd2d43 button');\n",
              "      quickchartButtonEl.style.display =\n",
              "        google.colab.kernel.accessAllowed ? 'block' : 'none';\n",
              "    })();\n",
              "  </script>\n",
              "</div>\n",
              "\n",
              "    </div>\n",
              "  </div>\n"
            ],
            "application/vnd.google.colaboratory.intrinsic+json": {
              "type": "dataframe",
              "summary": "{\n  \"name\": \"data\",\n  \"rows\": 8,\n  \"fields\": [\n    {\n      \"column\": \"age\",\n      \"properties\": {\n        \"dtype\": \"number\",\n        \"std\": 460.6106090399993,\n        \"min\": 14.049960379216172,\n        \"max\": 1338.0,\n        \"num_unique_values\": 8,\n        \"samples\": [\n          39.20702541106129,\n          39.0,\n          1338.0\n        ],\n        \"semantic_type\": \"\",\n        \"description\": \"\"\n      }\n    },\n    {\n      \"column\": \"bmi\",\n      \"properties\": {\n        \"dtype\": \"number\",\n        \"std\": 462.2349739608294,\n        \"min\": 6.1010383695987755,\n        \"max\": 1335.0,\n        \"num_unique_values\": 8,\n        \"samples\": [\n          30.661423220973784,\n          30.4,\n          1335.0\n        ],\n        \"semantic_type\": \"\",\n        \"description\": \"\"\n      }\n    },\n    {\n      \"column\": \"children\",\n      \"properties\": {\n        \"dtype\": \"number\",\n        \"std\": 472.5368318870757,\n        \"min\": 0.0,\n        \"max\": 1338.0,\n        \"num_unique_values\": 7,\n        \"samples\": [\n          1338.0,\n          1.0949177877429,\n          2.0\n        ],\n        \"semantic_type\": \"\",\n        \"description\": \"\"\n      }\n    },\n    {\n      \"column\": \"charges\",\n      \"properties\": {\n        \"dtype\": \"number\",\n        \"std\": 20381.922846226596,\n        \"min\": 1121.8739,\n        \"max\": 63770.42801,\n        \"num_unique_values\": 8,\n        \"samples\": [\n          13270.422265141257,\n          9382.033,\n          1338.0\n        ],\n        \"semantic_type\": \"\",\n        \"description\": \"\"\n      }\n    }\n  ]\n}"
            }
          },
          "metadata": {},
          "execution_count": 8
        }
      ]
    },
    {
      "cell_type": "markdown",
      "metadata": {
        "id": "cp4rE9yyjkua"
      },
      "source": [
        "#### Distribution of charges\n",
        "\n",
        "First, let's look at the distribution of charges. This will help us to know how much patients spend on treatment on average.\n",
        "To do this plot the histogram for the charges"
      ]
    },
    {
      "cell_type": "code",
      "metadata": {
        "id": "A9VxLmCMjhtZ",
        "colab": {
          "base_uri": "https://localhost:8080/",
          "height": 472
        },
        "outputId": "7ef937ef-0ade-4454-8d2b-a58d1a98bfa4"
      },
      "source": [
        "#Test Your Zaka\n",
        "data[\"charges\"].plot(kind=\"hist\")\n",
        "plt.title(\"Distribution of charges\")\n",
        "plt.xlabel(\"Charges\")\n",
        "plt.ylabel(\"Frequency\")\n",
        "plt.show()"
      ],
      "execution_count": null,
      "outputs": [
        {
          "output_type": "display_data",
          "data": {
            "text/plain": [
              "<Figure size 640x480 with 1 Axes>"
            ],
            "image/png": "[encoded data removed]"
          },
          "metadata": {}
        }
      ]
    },
    {
      "cell_type": "markdown",
      "metadata": {
        "id": "-C6DoqLJkZaJ"
      },
      "source": [
        "#### Correlation between smoking and cost of treatment\n",
        "\n",
        "Let's see if smokers spend more or less on treatment than non-smokers!\n",
        "\n",
        "First, separate the dataset between 2: smokers and non_smokers, and then see how many smokers vs non-smokers we have."
      ]
    },
    {
      "cell_type": "code",
      "metadata": {
        "id": "2bYxq0B4m4eg",
        "colab": {
          "base_uri": "https://localhost:8080/"
        },
        "outputId": "c80a32d4-839e-4863-c68a-947b625d7612"
      },
      "source": [
        "#Test Your Zaka\n",
        "smokers = data[data[\"smoker\"] == \"yes\"]\n",
        "non_smokers = data[data[\"smoker\"] == \"no\"]\n",
        "print(f\"We have {smokers.shape[0]} smokers and {non_smokers.shape[0]} non-smokers\")"
      ],
      "execution_count": null,
      "outputs": [
        {
          "output_type": "stream",
          "name": "stdout",
          "text": [
            "We have 274 smokers and 1064 non-smokers\n"
          ]
        }
      ]
    },
    {
      "cell_type": "markdown",
      "metadata": {
        "id": "0V4oPfA3nMqt"
      },
      "source": [
        "plot the distribution of charges for both smokers and non smokers"
      ]
    },
    {
      "cell_type": "code",
      "metadata": {
        "id": "uwn0w9SKj9AZ",
        "colab": {
          "base_uri": "https://localhost:8080/",
          "height": 468
        },
        "outputId": "91845643-147a-4e3e-8344-2a2fc505a68f"
      },
      "source": [
        "#Test Your Zaka\n",
        "fig= plt.figure(figsize=(12,5))\n",
        "ax = fig.add_subplot(121)\n",
        "ax.hist(smokers[\"charges\"], bins=20)\n",
        "ax.set_title(\"Distribution of charges for smokers\")\n",
        "ax = fig.add_subplot(122)\n",
        "ax.hist(non_smokers[\"charges\"], bins=20)\n",
        "ax.set_title(\"Distribution of charges for non-smokers\")\n",
        "plt.show()\n"
      ],
      "execution_count": null,
      "outputs": [
        {
          "output_type": "display_data",
          "data": {
            "text/plain": [
              "<Figure size 1200x500 with 2 Axes>"
            ],
            "image/png": "[encoded data removed]"
          },
          "metadata": {}
        }
      ]
    },
    {
      "cell_type": "markdown",
      "metadata": {
        "id": "9h3TXsFXVoKy"
      },
      "source": [
        "Who spends more on treatment? Smokers or non Smokers?"
      ]
    },
    {
      "cell_type": "markdown",
      "metadata": {
        "id": "z764ssFHV7KM"
      },
      "source": [
        "#### Correlation between age and cost of treatment\n",
        "\n",
        "First, plot the distribution of age in our dataset"
      ]
    },
    {
      "cell_type": "code",
      "metadata": {
        "id": "G6Z5JkrLlEbV",
        "colab": {
          "base_uri": "https://localhost:8080/",
          "height": 472
        },
        "outputId": "2a5ceac5-678c-442e-bfd6-ff809197ad43"
      },
      "source": [
        "#Test Your Zaka\n",
        "data[\"age\"].plot(kind=\"hist\")\n",
        "plt.title(\"Distribution of age\")\n",
        "plt.xlabel(\"Age\")\n",
        "plt.ylabel(\"Frequency\")\n",
        "plt.show()"
      ],
      "execution_count": null,
      "outputs": [
        {
          "output_type": "display_data",
          "data": {
            "text/plain": [
              "<Figure size 640x480 with 1 Axes>"
            ],
            "image/png": "[encoded data removed]"
          },
          "metadata": {}
        }
      ]
    },
    {
      "cell_type": "markdown",
      "metadata": {
        "id": "Y57UaJL_Wyyr"
      },
      "source": [
        "plot the correlation between age and cost of treatment"
      ]
    },
    {
      "cell_type": "code",
      "metadata": {
        "id": "sGC1lp-yWaWz",
        "colab": {
          "base_uri": "https://localhost:8080/",
          "height": 472
        },
        "outputId": "2e0586b2-1b87-42f9-a62f-b2d56548253f"
      },
      "source": [
        "#Test Your Zaka\n",
        "plt.scatter(data[\"age\"], data[\"charges\"])\n",
        "plt.title(\"Correlation between age and cost of treatment\")\n",
        "plt.xlabel(\"Age\")\n",
        "plt.ylabel(\"Charges\")\n",
        "plt.show()"
      ],
      "execution_count": null,
      "outputs": [
        {
          "output_type": "display_data",
          "data": {
            "text/plain": [
              "<Figure size 640x480 with 1 Axes>"
            ],
            "image/png": "[encoded data removed]"
          },
          "metadata": {}
        }
      ]
    },
    {
      "cell_type": "markdown",
      "metadata": {
        "id": "5BvsdKyFcf2X"
      },
      "source": [
        "Let's check if smoking also affects this curve.\n",
        "\n",
        "**Task**: show a scatter plot with the correlation between age and cost of treatment while showing smokers in red and non-smokers in blue"
      ]
    },
    {
      "cell_type": "code",
      "metadata": {
        "id": "VEcAVCLrcMEF",
        "colab": {
          "base_uri": "https://localhost:8080/",
          "height": 472
        },
        "outputId": "7e43e53b-8521-444f-bc09-04a40d3e5781"
      },
      "source": [
        "#Test Your Zaka\n",
        "plt.scatter(smokers[\"age\"], smokers[\"charges\"], color=\"red\")\n",
        "plt.scatter(non_smokers[\"age\"], non_smokers[\"charges\"], color=\"blue\")\n",
        "plt.title(\"Correlation between age and cost of treatment\")\n",
        "plt.xlabel(\"Age\")\n",
        "plt.ylabel(\"Charges\")\n",
        "plt.show()"
      ],
      "execution_count": null,
      "outputs": [
        {
          "output_type": "display_data",
          "data": {
            "text/plain": [
              "<Figure size 640x480 with 1 Axes>"
            ],
            "image/png": "[encoded data removed]"
          },
          "metadata": {}
        }
      ]
    },
    {
      "cell_type": "markdown",
      "metadata": {
        "id": "NYL_dQSKgEER"
      },
      "source": [
        "#### Correlation between BMI and cost of treatment\n",
        "\n",
        "# Body Mass Index\n",
        "\n",
        "![alt text](https://4.bp.blogspot.com/-nBF9Z1tFGhI/W3MqbdD0j7I/AAAAAAAAAIs/UdyXTIxsBT8Pl8usABxEK_Fusj5S0SnBQCLcBGAs/s1600/HOW%2BTO%2BCALCULATE%2BBODY%2BMASS%2BINDEX%2BBMI.jpg)\n",
        "\n",
        "# BMI Chart\n",
        "\n",
        "![BMI char](https://images.squarespace-cdn.com/content/v1/56fae4be1d07c0c393d8faa5/1551103826935-HCXS8U78500C06GQ1PLJ/ke17ZwdGBToddI8pDm48kNMeyc_nGAbaGjp3EBJ2o08UqsxRUqqbr1mOJYKfIPR7LoDQ9mXPOjoJoqy81S2I8N_N4V1vUb5AoIIIbLZhVYxCRW4BPu10St3TBAUQYVKckzCNDuUMr1wTvf7-fqd2hrX5O2-_PoO3UJ2jNU1VzJbe6G9-F0r9BTATNUu-NBMy/BMI+Chart.jpg)\n",
        "\n",
        "First, plot the distribution of BMI in our dataset."
      ]
    },
    {
      "cell_type": "code",
      "metadata": {
        "id": "h9EfbSkKYIlR",
        "colab": {
          "base_uri": "https://localhost:8080/",
          "height": 472
        },
        "outputId": "3b043dd2-d919-4386-d144-b711d5433d78"
      },
      "source": [
        "#Test Your Zaka\n",
        "data[\"bmi\"].plot(kind=\"hist\")\n",
        "plt.title(\"Distribution of BMI\")\n",
        "plt.xlabel(\"BMI\")\n",
        "plt.ylabel(\"Frequency\")\n",
        "plt.show()"
      ],
      "execution_count": null,
      "outputs": [
        {
          "output_type": "display_data",
          "data": {
            "text/plain": [
              "<Figure size 640x480 with 1 Axes>"
            ],
            "image/png": "[encoded data removed]"
          },
          "metadata": {}
        }
      ]
    },
    {
      "cell_type": "markdown",
      "metadata": {
        "id": "j-_7LOLyDrzw"
      },
      "source": [
        "According to the chart above, obesity starts at BMI = 30. Let's investigate the impact of BMI on cost of treatment.\n",
        "Separate the dataset between 4 datasets: one for obese, one for overweight, one for healthy, and one for underweight, and then, give the number of examples that we have for each of those classes."
      ]
    },
    {
      "cell_type": "code",
      "metadata": {
        "id": "q-lFGDOakFUT",
        "colab": {
          "base_uri": "https://localhost:8080/"
        },
        "outputId": "a1c89df3-de59-4bed-dcd2-010fcf0f0728"
      },
      "source": [
        "#Test Your Zaka\n",
        "obese = data[(data[\"bmi\"] >= 30)]\n",
        "overweight = data[(data[\"bmi\"] >= 25) & (data[\"bmi\"] < 30)]\n",
        "healthy = data[(data[\"bmi\"] >= 18) & (data[\"bmi\"] < 25)]\n",
        "underweight = data[(data[\"bmi\"] < 18)]\n",
        "print(f\"We have {obese.shape[0]} obese, {overweight.shape[0]} overweight, {healthy.shape[0]} healthy, and {underweight.shape[0]} underweight\")"
      ],
      "execution_count": null,
      "outputs": [
        {
          "output_type": "stream",
          "name": "stdout",
          "text": [
            "We have 705 obese, 385 overweight, 230 healthy, and 15 underweight\n"
          ]
        }
      ]
    },
    {
      "cell_type": "markdown",
      "metadata": {
        "id": "vVLLEIcXEJsb"
      },
      "source": [
        "To compare, plot the distribution of charges for all 3 groups (obese, overweight and healthy) in 1 plot, while showing `obese` data in red, `overweight` data in yellow and `healthy` data in green."
      ]
    },
    {
      "cell_type": "code",
      "metadata": {
        "id": "DXV1VtltgJFm",
        "colab": {
          "base_uri": "https://localhost:8080/",
          "height": 472
        },
        "outputId": "7890a666-3f09-4a67-8365-e6075689afc6"
      },
      "source": [
        "#Test Your Zaka\n",
        "plt.hist(obese[\"charges\"], color=\"red\")\n",
        "plt.hist(overweight[\"charges\"], color=\"yellow\")\n",
        "plt.hist(healthy[\"charges\"], color=\"green\")\n",
        "plt.hist(underweight[\"charges\"], color='b')\n",
        "plt.title(\"Distribution of charges for obese, overweight and healthy\")\n",
        "plt.xlabel(\"Charges\")\n",
        "plt.ylabel(\"Frequency\")\n",
        "plt.show()"
      ],
      "execution_count": null,
      "outputs": [
        {
          "output_type": "display_data",
          "data": {
            "text/plain": [
              "<Figure size 640x480 with 1 Axes>"
            ],
            "image/png": "[encoded data removed]"
          },
          "metadata": {}
        }
      ]
    },
    {
      "cell_type": "markdown",
      "metadata": {
        "id": "DtB8jDMZnLcT"
      },
      "source": [
        "Patients with BMI above 30 spend more on treatment!"
      ]
    },
    {
      "cell_type": "markdown",
      "metadata": {
        "id": "g3X3fDBXnX16"
      },
      "source": [
        "## 3. Data Preprocessing\n",
        "\"Garbage in, garbage out\".\n",
        "\n",
        "Data should be preprocessed and cleaned to get rid of noisy data.\n",
        "Preprocessing includes:\n",
        " - dealing with missing data\n",
        "   - remove whole rows (if they are not a lot)\n",
        "   - infer (e.g., date of birth & age)\n",
        "   - fill with mean, median, or even 0\n",
        " - removing unsued column(s)\n",
        " - convert categorical (non numerical) data into numerical\n",
        " - normalization: standarize data ranges for all features (e.g., between 0 and 1)\n",
        "\n",
        "\n",
        "\n",
        "---\n",
        "\n",
        "\n",
        "\n",
        "Start by seeing how many missing data you have in each column"
      ]
    },
    {
      "cell_type": "code",
      "metadata": {
        "id": "mslOEw7wmf_N",
        "colab": {
          "base_uri": "https://localhost:8080/",
          "height": 303
        },
        "outputId": "abab59d9-02bf-4228-dc82-a1c915414938"
      },
      "source": [
        "#Test Your Zaka\n",
        "data.isnull().sum()"
      ],
      "execution_count": null,
      "outputs": [
        {
          "output_type": "execute_result",
          "data": {
            "text/plain": [
              "age         0\n",
              "sex         0\n",
              "bmi         3\n",
              "children    0\n",
              "smoker      0\n",
              "region      0\n",
              "charges     0\n",
              "dtype: int64"
            ],
            "text/html": [
              "<div>\n",
              "<style scoped>\n",
              "    .dataframe tbody tr th:only-of-type {\n",
              "        vertical-align: middle;\n",
              "    }\n",
              "\n",
              "    .dataframe tbody tr th {\n",
              "        vertical-align: top;\n",
              "    }\n",
              "\n",
              "    .dataframe thead th {\n",
              "        text-align: right;\n",
              "    }\n",
              "</style>\n",
              "<table border=\"1\" class=\"dataframe\">\n",
              "  <thead>\n",
              "    <tr style=\"text-align: right;\">\n",
              "      <th></th>\n",
              "      <th>0</th>\n",
              "    </tr>\n",
              "  </thead>\n",
              "  <tbody>\n",
              "    <tr>\n",
              "      <th>age</th>\n",
              "      <td>0</td>\n",
              "    </tr>\n",
              "    <tr>\n",
              "      <th>sex</th>\n",
              "      <td>0</td>\n",
              "    </tr>\n",
              "    <tr>\n",
              "      <th>bmi</th>\n",
              "      <td>3</td>\n",
              "    </tr>\n",
              "    <tr>\n",
              "      <th>children</th>\n",
              "      <td>0</td>\n",
              "    </tr>\n",
              "    <tr>\n",
              "      <th>smoker</th>\n",
              "      <td>0</td>\n",
              "    </tr>\n",
              "    <tr>\n",
              "      <th>region</th>\n",
              "      <td>0</td>\n",
              "    </tr>\n",
              "    <tr>\n",
              "      <th>charges</th>\n",
              "      <td>0</td>\n",
              "    </tr>\n",
              "  </tbody>\n",
              "</table>\n",
              "</div><br><label><b>dtype:</b> int64</label>"
            ]
          },
          "metadata": {},
          "execution_count": 17
        }
      ]
    },
    {
      "cell_type": "markdown",
      "metadata": {
        "id": "kM729bhAlP2S"
      },
      "source": [
        "drop rows with missing values"
      ]
    },
    {
      "cell_type": "code",
      "metadata": {
        "id": "ZXvduiy1nckz",
        "colab": {
          "base_uri": "https://localhost:8080/",
          "height": 303
        },
        "outputId": "ef236082-635a-432c-cc35-e8b57479d410"
      },
      "source": [
        "#Test Your Zaka\n",
        "data= data.dropna()\n",
        "data.isnull().sum()"
      ],
      "execution_count": null,
      "outputs": [
        {
          "output_type": "execute_result",
          "data": {
            "text/plain": [
              "age         0\n",
              "sex         0\n",
              "bmi         0\n",
              "children    0\n",
              "smoker      0\n",
              "region      0\n",
              "charges     0\n",
              "dtype: int64"
            ],
            "text/html": [
              "<div>\n",
              "<style scoped>\n",
              "    .dataframe tbody tr th:only-of-type {\n",
              "        vertical-align: middle;\n",
              "    }\n",
              "\n",
              "    .dataframe tbody tr th {\n",
              "        vertical-align: top;\n",
              "    }\n",
              "\n",
              "    .dataframe thead th {\n",
              "        text-align: right;\n",
              "    }\n",
              "</style>\n",
              "<table border=\"1\" class=\"dataframe\">\n",
              "  <thead>\n",
              "    <tr style=\"text-align: right;\">\n",
              "      <th></th>\n",
              "      <th>0</th>\n",
              "    </tr>\n",
              "  </thead>\n",
              "  <tbody>\n",
              "    <tr>\n",
              "      <th>age</th>\n",
              "      <td>0</td>\n",
              "    </tr>\n",
              "    <tr>\n",
              "      <th>sex</th>\n",
              "      <td>0</td>\n",
              "    </tr>\n",
              "    <tr>\n",
              "      <th>bmi</th>\n",
              "      <td>0</td>\n",
              "    </tr>\n",
              "    <tr>\n",
              "      <th>children</th>\n",
              "      <td>0</td>\n",
              "    </tr>\n",
              "    <tr>\n",
              "      <th>smoker</th>\n",
              "      <td>0</td>\n",
              "    </tr>\n",
              "    <tr>\n",
              "      <th>region</th>\n",
              "      <td>0</td>\n",
              "    </tr>\n",
              "    <tr>\n",
              "      <th>charges</th>\n",
              "      <td>0</td>\n",
              "    </tr>\n",
              "  </tbody>\n",
              "</table>\n",
              "</div><br><label><b>dtype:</b> int64</label>"
            ]
          },
          "metadata": {},
          "execution_count": 18
        }
      ]
    },
    {
      "cell_type": "markdown",
      "metadata": {
        "id": "XlGJsilglWuh"
      },
      "source": [
        "make sure you don't have any nulls using the info() function"
      ]
    },
    {
      "cell_type": "code",
      "metadata": {
        "id": "bSEzYUz-nevs",
        "colab": {
          "base_uri": "https://localhost:8080/"
        },
        "outputId": "3e47d11f-8d2c-4306-8955-5adbc3ef4b9b"
      },
      "source": [
        "#Test Your Zaka\n",
        "data.info()"
      ],
      "execution_count": null,
      "outputs": [
        {
          "output_type": "stream",
          "name": "stdout",
          "text": [
            "<class 'pandas.core.frame.DataFrame'>\n",
            "Index: 1335 entries, 0 to 1337\n",
            "Data columns (total 7 columns):\n",
            " #   Column    Non-Null Count  Dtype  \n",
            "---  ------    --------------  -----  \n",
            " 0   age       1335 non-null   int64  \n",
            " 1   sex       1335 non-null   object \n",
            " 2   bmi       1335 non-null   float64\n",
            " 3   children  1335 non-null   int64  \n",
            " 4   smoker    1335 non-null   object \n",
            " 5   region    1335 non-null   object \n",
            " 6   charges   1335 non-null   float64\n",
            "dtypes: float64(2), int64(2), object(3)\n",
            "memory usage: 83.4+ KB\n"
          ]
        }
      ]
    },
    {
      "cell_type": "markdown",
      "metadata": {
        "id": "rT-M7TYitDT8"
      },
      "source": [
        "#### Remove unused columns\n",
        "\n",
        "Let's remove the `region` column since we don't really care about it"
      ]
    },
    {
      "cell_type": "code",
      "metadata": {
        "id": "YdCm-boktOto",
        "colab": {
          "base_uri": "https://localhost:8080/",
          "height": 206
        },
        "outputId": "9b2e7b4f-564b-4468-b72e-24982d3715b6"
      },
      "source": [
        "#Test Your Zaka\n",
        "data.drop(\"region\", axis=1, inplace=True)\n",
        "data.head()"
      ],
      "execution_count": null,
      "outputs": [
        {
          "output_type": "execute_result",
          "data": {
            "text/plain": [
              "   age     sex     bmi  children smoker      charges\n",
              "0   19  female  27.900         0    yes  16884.92400\n",
              "1   18    male  33.770         1     no   1725.55230\n",
              "2   28    male  33.000         3     no   4449.46200\n",
              "3   33    male  22.705         0     no  21984.47061\n",
              "4   32    male  28.880         0     no   3866.85520"
            ],
            "text/html": [
              "\n",
              "  <div id=\"df-32fdcbb4-f6e4-4c66-81fc-3fa232fdca1a\" class=\"colab-df-container\">\n",
              "    <div>\n",
              "<style scoped>\n",
              "    .dataframe tbody tr th:only-of-type {\n",
              "        vertical-align: middle;\n",
              "    }\n",
              "\n",
              "    .dataframe tbody tr th {\n",
              "        vertical-align: top;\n",
              "    }\n",
              "\n",
              "    .dataframe thead th {\n",
              "        text-align: right;\n",
              "    }\n",
              "</style>\n",
              "<table border=\"1\" class=\"dataframe\">\n",
              "  <thead>\n",
              "    <tr style=\"text-align: right;\">\n",
              "      <th></th>\n",
              "      <th>age</th>\n",
              "      <th>sex</th>\n",
              "      <th>bmi</th>\n",
              "      <th>children</th>\n",
              "      <th>smoker</th>\n",
              "      <th>charges</th>\n",
              "    </tr>\n",
              "  </thead>\n",
              "  <tbody>\n",
              "    <tr>\n",
              "      <th>0</th>\n",
              "      <td>19</td>\n",
              "      <td>female</td>\n",
              "      <td>27.900</td>\n",
              "      <td>0</td>\n",
              "      <td>yes</td>\n",
              "      <td>16884.92400</td>\n",
              "    </tr>\n",
              "    <tr>\n",
              "      <th>1</th>\n",
              "      <td>18</td>\n",
              "      <td>male</td>\n",
              "      <td>33.770</td>\n",
              "      <td>1</td>\n",
              "      <td>no</td>\n",
              "      <td>1725.55230</td>\n",
              "    </tr>\n",
              "    <tr>\n",
              "      <th>2</th>\n",
              "      <td>28</td>\n",
              "      <td>male</td>\n",
              "      <td>33.000</td>\n",
              "      <td>3</td>\n",
              "      <td>no</td>\n",
              "      <td>4449.46200</td>\n",
              "    </tr>\n",
              "    <tr>\n",
              "      <th>3</th>\n",
              "      <td>33</td>\n",
              "      <td>male</td>\n",
              "      <td>22.705</td>\n",
              "      <td>0</td>\n",
              "      <td>no</td>\n",
              "      <td>21984.47061</td>\n",
              "    </tr>\n",
              "    <tr>\n",
              "      <th>4</th>\n",
              "      <td>32</td>\n",
              "      <td>male</td>\n",
              "      <td>28.880</td>\n",
              "      <td>0</td>\n",
              "      <td>no</td>\n",
              "      <td>3866.85520</td>\n",
              "    </tr>\n",
              "  </tbody>\n",
              "</table>\n",
              "</div>\n",
              "    <div class=\"colab-df-buttons\">\n",
              "\n",
              "  <div class=\"colab-df-container\">\n",
              "    <button class=\"colab-df-convert\" onclick=\"convertToInteractive('df-32fdcbb4-f6e4-4c66-81fc-3fa232fdca1a')\"\n",
              "            title=\"Convert this dataframe to an interactive table.\"\n",
              "            style=\"display:none;\">\n",
              "\n",
              "  <svg xmlns=\"http://www.w3.org/2000/svg\" height=\"24px\" viewBox=\"0 -960 960 960\">\n",
              "    <path d=\"M120-120v-720h720v720H120Zm60-500h600v-160H180v160Zm220 220h160v-160H400v160Zm0 220h160v-160H400v160ZM180-400h160v-160H180v160Zm440 0h160v-160H620v160ZM180-180h160v-160H180v160Zm440 0h160v-160H620v160Z\"/>\n",
              "  </svg>\n",
              "    </button>\n",
              "\n",
              "  <style>\n",
              "    .colab-df-container {\n",
              "      display:flex;\n",
              "      gap: 12px;\n",
              "    }\n",
              "\n",
              "    .colab-df-convert {\n",
              "      background-color: #E8F0FE;\n",
              "      border: none;\n",
              "      border-radius: 50%;\n",
              "      cursor: pointer;\n",
              "      display: none;\n",
              "      fill: #1967D2;\n",
              "      height: 32px;\n",
              "      padding: 0 0 0 0;\n",
              "      width: 32px;\n",
              "    }\n",
              "\n",
              "    .colab-df-convert:hover {\n",
              "      background-color: #E2EBFA;\n",
              "      box-shadow: 0px 1px 2px rgba(60, 64, 67, 0.3), 0px 1px 3px 1px rgba(60, 64, 67, 0.15);\n",
              "      fill: #174EA6;\n",
              "    }\n",
              "\n",
              "    .colab-df-buttons div {\n",
              "      margin-bottom: 4px;\n",
              "    }\n",
              "\n",
              "    [theme=dark] .colab-df-convert {\n",
              "      background-color: #3B4455;\n",
              "      fill: #D2E3FC;\n",
              "    }\n",
              "\n",
              "    [theme=dark] .colab-df-convert:hover {\n",
              "      background-color: #434B5C;\n",
              "      box-shadow: 0px 1px 3px 1px rgba(0, 0, 0, 0.15);\n",
              "      filter: drop-shadow(0px 1px 2px rgba(0, 0, 0, 0.3));\n",
              "      fill: #FFFFFF;\n",
              "    }\n",
              "  </style>\n",
              "\n",
              "    <script>\n",
              "      const buttonEl =\n",
              "        document.querySelector('#df-32fdcbb4-f6e4-4c66-81fc-3fa232fdca1a button.colab-df-convert');\n",
              "      buttonEl.style.display =\n",
              "        google.colab.kernel.accessAllowed ? 'block' : 'none';\n",
              "\n",
              "      async function convertToInteractive(key) {\n",
              "        const element = document.querySelector('#df-32fdcbb4-f6e4-4c66-81fc-3fa232fdca1a');\n",
              "        const dataTable =\n",
              "          await google.colab.kernel.invokeFunction('convertToInteractive',\n",
              "                                                    [key], {});\n",
              "        if (!dataTable) return;\n",
              "\n",
              "        const docLinkHtml = 'Like what you see? Visit the ' +\n",
              "          '<a target=\"_blank\" href=https://colab.research.google.com/notebooks/data_table.ipynb>data table notebook</a>'\n",
              "          + ' to learn more about interactive tables.';\n",
              "        element.innerHTML = '';\n",
              "        dataTable['output_type'] = 'display_data';\n",
              "        await google.colab.output.renderOutput(dataTable, element);\n",
              "        const docLink = document.createElement('div');\n",
              "        docLink.innerHTML = docLinkHtml;\n",
              "        element.appendChild(docLink);\n",
              "      }\n",
              "    </script>\n",
              "  </div>\n",
              "\n",
              "\n",
              "<div id=\"df-3cb892b0-7375-457b-a3ec-ea91cdf5ac91\">\n",
              "  <button class=\"colab-df-quickchart\" onclick=\"quickchart('df-3cb892b0-7375-457b-a3ec-ea91cdf5ac91')\"\n",
              "            title=\"Suggest charts\"\n",
              "            style=\"display:none;\">\n",
              "\n",
              "<svg xmlns=\"http://www.w3.org/2000/svg\" height=\"24px\"viewBox=\"0 0 24 24\"\n",
              "     width=\"24px\">\n",
              "    <g>\n",
              "        <path d=\"M19 3H5c-1.1 0-2 .9-2 2v14c0 1.1.9 2 2 2h14c1.1 0 2-.9 2-2V5c0-1.1-.9-2-2-2zM9 17H7v-7h2v7zm4 0h-2V7h2v10zm4 0h-2v-4h2v4z\"/>\n",
              "    </g>\n",
              "</svg>\n",
              "  </button>\n",
              "\n",
              "<style>\n",
              "  .colab-df-quickchart {\n",
              "      --bg-color: #E8F0FE;\n",
              "      --fill-color: #1967D2;\n",
              "      --hover-bg-color: #E2EBFA;\n",
              "      --hover-fill-color: #174EA6;\n",
              "      --disabled-fill-color: #AAA;\n",
              "      --disabled-bg-color: #DDD;\n",
              "  }\n",
              "\n",
              "  [theme=dark] .colab-df-quickchart {\n",
              "      --bg-color: #3B4455;\n",
              "      --fill-color: #D2E3FC;\n",
              "      --hover-bg-color: #434B5C;\n",
              "      --hover-fill-color: #FFFFFF;\n",
              "      --disabled-bg-color: #3B4455;\n",
              "      --disabled-fill-color: #666;\n",
              "  }\n",
              "\n",
              "  .colab-df-quickchart {\n",
              "    background-color: var(--bg-color);\n",
              "    border: none;\n",
              "    border-radius: 50%;\n",
              "    cursor: pointer;\n",
              "    display: none;\n",
              "    fill: var(--fill-color);\n",
              "    height: 32px;\n",
              "    padding: 0;\n",
              "    width: 32px;\n",
              "  }\n",
              "\n",
              "  .colab-df-quickchart:hover {\n",
              "    background-color: var(--hover-bg-color);\n",
              "    box-shadow: 0 1px 2px rgba(60, 64, 67, 0.3), 0 1px 3px 1px rgba(60, 64, 67, 0.15);\n",
              "    fill: var(--button-hover-fill-color);\n",
              "  }\n",
              "\n",
              "  .colab-df-quickchart-complete:disabled,\n",
              "  .colab-df-quickchart-complete:disabled:hover {\n",
              "    background-color: var(--disabled-bg-color);\n",
              "    fill: var(--disabled-fill-color);\n",
              "    box-shadow: none;\n",
              "  }\n",
              "\n",
              "  .colab-df-spinner {\n",
              "    border: 2px solid var(--fill-color);\n",
              "    border-color: transparent;\n",
              "    border-bottom-color: var(--fill-color);\n",
              "    animation:\n",
              "      spin 1s steps(1) infinite;\n",
              "  }\n",
              "\n",
              "  @keyframes spin {\n",
              "    0% {\n",
              "      border-color: transparent;\n",
              "      border-bottom-color: var(--fill-color);\n",
              "      border-left-color: var(--fill-color);\n",
              "    }\n",
              "    20% {\n",
              "      border-color: transparent;\n",
              "      border-left-color: var(--fill-color);\n",
              "      border-top-color: var(--fill-color);\n",
              "    }\n",
              "    30% {\n",
              "      border-color: transparent;\n",
              "      border-left-color: var(--fill-color);\n",
              "      border-top-color: var(--fill-color);\n",
              "      border-right-color: var(--fill-color);\n",
              "    }\n",
              "    40% {\n",
              "      border-color: transparent;\n",
              "      border-right-color: var(--fill-color);\n",
              "      border-top-color: var(--fill-color);\n",
              "    }\n",
              "    60% {\n",
              "      border-color: transparent;\n",
              "      border-right-color: var(--fill-color);\n",
              "    }\n",
              "    80% {\n",
              "      border-color: transparent;\n",
              "      border-right-color: var(--fill-color);\n",
              "      border-bottom-color: var(--fill-color);\n",
              "    }\n",
              "    90% {\n",
              "      border-color: transparent;\n",
              "      border-bottom-color: var(--fill-color);\n",
              "    }\n",
              "  }\n",
              "</style>\n",
              "\n",
              "  <script>\n",
              "    async function quickchart(key) {\n",
              "      const quickchartButtonEl =\n",
              "        document.querySelector('#' + key + ' button');\n",
              "      quickchartButtonEl.disabled = true;  // To prevent multiple clicks.\n",
              "      quickchartButtonEl.classList.add('colab-df-spinner');\n",
              "      try {\n",
              "        const charts = await google.colab.kernel.invokeFunction(\n",
              "            'suggestCharts', [key], {});\n",
              "      } catch (error) {\n",
              "        console.error('Error during call to suggestCharts:', error);\n",
              "      }\n",
              "      quickchartButtonEl.classList.remove('colab-df-spinner');\n",
              "      quickchartButtonEl.classList.add('colab-df-quickchart-complete');\n",
              "    }\n",
              "    (() => {\n",
              "      let quickchartButtonEl =\n",
              "        document.querySelector('#df-3cb892b0-7375-457b-a3ec-ea91cdf5ac91 button');\n",
              "      quickchartButtonEl.style.display =\n",
              "        google.colab.kernel.accessAllowed ? 'block' : 'none';\n",
              "    })();\n",
              "  </script>\n",
              "</div>\n",
              "\n",
              "    </div>\n",
              "  </div>\n"
            ],
            "application/vnd.google.colaboratory.intrinsic+json": {
              "type": "dataframe",
              "variable_name": "data",
              "summary": "{\n  \"name\": \"data\",\n  \"rows\": 1335,\n  \"fields\": [\n    {\n      \"column\": \"age\",\n      \"properties\": {\n        \"dtype\": \"number\",\n        \"std\": 14,\n        \"min\": 18,\n        \"max\": 64,\n        \"num_unique_values\": 47,\n        \"samples\": [\n          21,\n          45,\n          36\n        ],\n        \"semantic_type\": \"\",\n        \"description\": \"\"\n      }\n    },\n    {\n      \"column\": \"sex\",\n      \"properties\": {\n        \"dtype\": \"category\",\n        \"num_unique_values\": 2,\n        \"samples\": [\n          \"male\",\n          \"female\"\n        ],\n        \"semantic_type\": \"\",\n        \"description\": \"\"\n      }\n    },\n    {\n      \"column\": \"bmi\",\n      \"properties\": {\n        \"dtype\": \"number\",\n        \"std\": 6.1010383695987755,\n        \"min\": 15.96,\n        \"max\": 53.13,\n        \"num_unique_values\": 548,\n        \"samples\": [\n          23.18,\n          26.885\n        ],\n        \"semantic_type\": \"\",\n        \"description\": \"\"\n      }\n    },\n    {\n      \"column\": \"children\",\n      \"properties\": {\n        \"dtype\": \"number\",\n        \"std\": 1,\n        \"min\": 0,\n        \"max\": 5,\n        \"num_unique_values\": 6,\n        \"samples\": [\n          0,\n          1\n        ],\n        \"semantic_type\": \"\",\n        \"description\": \"\"\n      }\n    },\n    {\n      \"column\": \"smoker\",\n      \"properties\": {\n        \"dtype\": \"category\",\n        \"num_unique_values\": 2,\n        \"samples\": [\n          \"no\",\n          \"yes\"\n        ],\n        \"semantic_type\": \"\",\n        \"description\": \"\"\n      }\n    },\n    {\n      \"column\": \"charges\",\n      \"properties\": {\n        \"dtype\": \"number\",\n        \"std\": 12118.985665657701,\n        \"min\": 1121.8739,\n        \"max\": 63770.42801,\n        \"num_unique_values\": 1334,\n        \"samples\": [\n          8688.85885,\n          8978.1851\n        ],\n        \"semantic_type\": \"\",\n        \"description\": \"\"\n      }\n    }\n  ]\n}"
            }
          },
          "metadata": {},
          "execution_count": 20
        }
      ]
    },
    {
      "cell_type": "markdown",
      "metadata": {
        "id": "VGcXlEP6ryIZ"
      },
      "source": [
        "#### Convert Categorical columns to numerical\n",
        "\n",
        "*   We need to convert the sex column from male/female to 0/1.\n",
        "*   We need to convert the smoker column from no/yes to 0/1.\n",
        "\n",
        "\n",
        "Let's start with the sex column\n",
        "\n"
      ]
    },
    {
      "cell_type": "code",
      "metadata": {
        "id": "cpEbrz7HnfuY",
        "colab": {
          "base_uri": "https://localhost:8080/",
          "height": 206
        },
        "outputId": "0a0d1714-2e33-42d4-e8aa-11e1b4a358e9"
      },
      "source": [
        "#Test Your Zaka\n",
        "gender= {'male':0, 'female':1}\n",
        "data[\"sex\"]= data['sex'].apply(lambda x: gender[x])\n",
        "data.head()"
      ],
      "execution_count": null,
      "outputs": [
        {
          "output_type": "execute_result",
          "data": {
            "text/plain": [
              "   age  sex     bmi  children smoker      charges\n",
              "0   19    1  27.900         0    yes  16884.92400\n",
              "1   18    0  33.770         1     no   1725.55230\n",
              "2   28    0  33.000         3     no   4449.46200\n",
              "3   33    0  22.705         0     no  21984.47061\n",
              "4   32    0  28.880         0     no   3866.85520"
            ],
            "text/html": [
              "\n",
              "  <div id=\"df-e56327f0-7fd5-4c33-b3a6-a49ec0a7b284\" class=\"colab-df-container\">\n",
              "    <div>\n",
              "<style scoped>\n",
              "    .dataframe tbody tr th:only-of-type {\n",
              "        vertical-align: middle;\n",
              "    }\n",
              "\n",
              "    .dataframe tbody tr th {\n",
              "        vertical-align: top;\n",
              "    }\n",
              "\n",
              "    .dataframe thead th {\n",
              "        text-align: right;\n",
              "    }\n",
              "</style>\n",
              "<table border=\"1\" class=\"dataframe\">\n",
              "  <thead>\n",
              "    <tr style=\"text-align: right;\">\n",
              "      <th></th>\n",
              "      <th>age</th>\n",
              "      <th>sex</th>\n",
              "      <th>bmi</th>\n",
              "      <th>children</th>\n",
              "      <th>smoker</th>\n",
              "      <th>charges</th>\n",
              "    </tr>\n",
              "  </thead>\n",
              "  <tbody>\n",
              "    <tr>\n",
              "      <th>0</th>\n",
              "      <td>19</td>\n",
              "      <td>1</td>\n",
              "      <td>27.900</td>\n",
              "      <td>0</td>\n",
              "      <td>yes</td>\n",
              "      <td>16884.92400</td>\n",
              "    </tr>\n",
              "    <tr>\n",
              "      <th>1</th>\n",
              "      <td>18</td>\n",
              "      <td>0</td>\n",
              "      <td>33.770</td>\n",
              "      <td>1</td>\n",
              "      <td>no</td>\n",
              "      <td>1725.55230</td>\n",
              "    </tr>\n",
              "    <tr>\n",
              "      <th>2</th>\n",
              "      <td>28</td>\n",
              "      <td>0</td>\n",
              "      <td>33.000</td>\n",
              "      <td>3</td>\n",
              "      <td>no</td>\n",
              "      <td>4449.46200</td>\n",
              "    </tr>\n",
              "    <tr>\n",
              "      <th>3</th>\n",
              "      <td>33</td>\n",
              "      <td>0</td>\n",
              "      <td>22.705</td>\n",
              "      <td>0</td>\n",
              "      <td>no</td>\n",
              "      <td>21984.47061</td>\n",
              "    </tr>\n",
              "    <tr>\n",
              "      <th>4</th>\n",
              "      <td>32</td>\n",
              "      <td>0</td>\n",
              "      <td>28.880</td>\n",
              "      <td>0</td>\n",
              "      <td>no</td>\n",
              "      <td>3866.85520</td>\n",
              "    </tr>\n",
              "  </tbody>\n",
              "</table>\n",
              "</div>\n",
              "    <div class=\"colab-df-buttons\">\n",
              "\n",
              "  <div class=\"colab-df-container\">\n",
              "    <button class=\"colab-df-convert\" onclick=\"convertToInteractive('df-e56327f0-7fd5-4c33-b3a6-a49ec0a7b284')\"\n",
              "            title=\"Convert this dataframe to an interactive table.\"\n",
              "            style=\"display:none;\">\n",
              "\n",
              "  <svg xmlns=\"http://www.w3.org/2000/svg\" height=\"24px\" viewBox=\"0 -960 960 960\">\n",
              "    <path d=\"M120-120v-720h720v720H120Zm60-500h600v-160H180v160Zm220 220h160v-160H400v160Zm0 220h160v-160H400v160ZM180-400h160v-160H180v160Zm440 0h160v-160H620v160ZM180-180h160v-160H180v160Zm440 0h160v-160H620v160Z\"/>\n",
              "  </svg>\n",
              "    </button>\n",
              "\n",
              "  <style>\n",
              "    .colab-df-container {\n",
              "      display:flex;\n",
              "      gap: 12px;\n",
              "    }\n",
              "\n",
              "    .colab-df-convert {\n",
              "      background-color: #E8F0FE;\n",
              "      border: none;\n",
              "      border-radius: 50%;\n",
              "      cursor: pointer;\n",
              "      display: none;\n",
              "      fill: #1967D2;\n",
              "      height: 32px;\n",
              "      padding: 0 0 0 0;\n",
              "      width: 32px;\n",
              "    }\n",
              "\n",
              "    .colab-df-convert:hover {\n",
              "      background-color: #E2EBFA;\n",
              "      box-shadow: 0px 1px 2px rgba(60, 64, 67, 0.3), 0px 1px 3px 1px rgba(60, 64, 67, 0.15);\n",
              "      fill: #174EA6;\n",
              "    }\n",
              "\n",
              "    .colab-df-buttons div {\n",
              "      margin-bottom: 4px;\n",
              "    }\n",
              "\n",
              "    [theme=dark] .colab-df-convert {\n",
              "      background-color: #3B4455;\n",
              "      fill: #D2E3FC;\n",
              "    }\n",
              "\n",
              "    [theme=dark] .colab-df-convert:hover {\n",
              "      background-color: #434B5C;\n",
              "      box-shadow: 0px 1px 3px 1px rgba(0, 0, 0, 0.15);\n",
              "      filter: drop-shadow(0px 1px 2px rgba(0, 0, 0, 0.3));\n",
              "      fill: #FFFFFF;\n",
              "    }\n",
              "  </style>\n",
              "\n",
              "    <script>\n",
              "      const buttonEl =\n",
              "        document.querySelector('#df-e56327f0-7fd5-4c33-b3a6-a49ec0a7b284 button.colab-df-convert');\n",
              "      buttonEl.style.display =\n",
              "        google.colab.kernel.accessAllowed ? 'block' : 'none';\n",
              "\n",
              "      async function convertToInteractive(key) {\n",
              "        const element = document.querySelector('#df-e56327f0-7fd5-4c33-b3a6-a49ec0a7b284');\n",
              "        const dataTable =\n",
              "          await google.colab.kernel.invokeFunction('convertToInteractive',\n",
              "                                                    [key], {});\n",
              "        if (!dataTable) return;\n",
              "\n",
              "        const docLinkHtml = 'Like what you see? Visit the ' +\n",
              "          '<a target=\"_blank\" href=https://colab.research.google.com/notebooks/data_table.ipynb>data table notebook</a>'\n",
              "          + ' to learn more about interactive tables.';\n",
              "        element.innerHTML = '';\n",
              "        dataTable['output_type'] = 'display_data';\n",
              "        await google.colab.output.renderOutput(dataTable, element);\n",
              "        const docLink = document.createElement('div');\n",
              "        docLink.innerHTML = docLinkHtml;\n",
              "        element.appendChild(docLink);\n",
              "      }\n",
              "    </script>\n",
              "  </div>\n",
              "\n",
              "\n",
              "<div id=\"df-d3330edc-6dfd-4499-a2e5-1d16c7682458\">\n",
              "  <button class=\"colab-df-quickchart\" onclick=\"quickchart('df-d3330edc-6dfd-4499-a2e5-1d16c7682458')\"\n",
              "            title=\"Suggest charts\"\n",
              "            style=\"display:none;\">\n",
              "\n",
              "<svg xmlns=\"http://www.w3.org/2000/svg\" height=\"24px\"viewBox=\"0 0 24 24\"\n",
              "     width=\"24px\">\n",
              "    <g>\n",
              "        <path d=\"M19 3H5c-1.1 0-2 .9-2 2v14c0 1.1.9 2 2 2h14c1.1 0 2-.9 2-2V5c0-1.1-.9-2-2-2zM9 17H7v-7h2v7zm4 0h-2V7h2v10zm4 0h-2v-4h2v4z\"/>\n",
              "    </g>\n",
              "</svg>\n",
              "  </button>\n",
              "\n",
              "<style>\n",
              "  .colab-df-quickchart {\n",
              "      --bg-color: #E8F0FE;\n",
              "      --fill-color: #1967D2;\n",
              "      --hover-bg-color: #E2EBFA;\n",
              "      --hover-fill-color: #174EA6;\n",
              "      --disabled-fill-color: #AAA;\n",
              "      --disabled-bg-color: #DDD;\n",
              "  }\n",
              "\n",
              "  [theme=dark] .colab-df-quickchart {\n",
              "      --bg-color: #3B4455;\n",
              "      --fill-color: #D2E3FC;\n",
              "      --hover-bg-color: #434B5C;\n",
              "      --hover-fill-color: #FFFFFF;\n",
              "      --disabled-bg-color: #3B4455;\n",
              "      --disabled-fill-color: #666;\n",
              "  }\n",
              "\n",
              "  .colab-df-quickchart {\n",
              "    background-color: var(--bg-color);\n",
              "    border: none;\n",
              "    border-radius: 50%;\n",
              "    cursor: pointer;\n",
              "    display: none;\n",
              "    fill: var(--fill-color);\n",
              "    height: 32px;\n",
              "    padding: 0;\n",
              "    width: 32px;\n",
              "  }\n",
              "\n",
              "  .colab-df-quickchart:hover {\n",
              "    background-color: var(--hover-bg-color);\n",
              "    box-shadow: 0 1px 2px rgba(60, 64, 67, 0.3), 0 1px 3px 1px rgba(60, 64, 67, 0.15);\n",
              "    fill: var(--button-hover-fill-color);\n",
              "  }\n",
              "\n",
              "  .colab-df-quickchart-complete:disabled,\n",
              "  .colab-df-quickchart-complete:disabled:hover {\n",
              "    background-color: var(--disabled-bg-color);\n",
              "    fill: var(--disabled-fill-color);\n",
              "    box-shadow: none;\n",
              "  }\n",
              "\n",
              "  .colab-df-spinner {\n",
              "    border: 2px solid var(--fill-color);\n",
              "    border-color: transparent;\n",
              "    border-bottom-color: var(--fill-color);\n",
              "    animation:\n",
              "      spin 1s steps(1) infinite;\n",
              "  }\n",
              "\n",
              "  @keyframes spin {\n",
              "    0% {\n",
              "      border-color: transparent;\n",
              "      border-bottom-color: var(--fill-color);\n",
              "      border-left-color: var(--fill-color);\n",
              "    }\n",
              "    20% {\n",
              "      border-color: transparent;\n",
              "      border-left-color: var(--fill-color);\n",
              "      border-top-color: var(--fill-color);\n",
              "    }\n",
              "    30% {\n",
              "      border-color: transparent;\n",
              "      border-left-color: var(--fill-color);\n",
              "      border-top-color: var(--fill-color);\n",
              "      border-right-color: var(--fill-color);\n",
              "    }\n",
              "    40% {\n",
              "      border-color: transparent;\n",
              "      border-right-color: var(--fill-color);\n",
              "      border-top-color: var(--fill-color);\n",
              "    }\n",
              "    60% {\n",
              "      border-color: transparent;\n",
              "      border-right-color: var(--fill-color);\n",
              "    }\n",
              "    80% {\n",
              "      border-color: transparent;\n",
              "      border-right-color: var(--fill-color);\n",
              "      border-bottom-color: var(--fill-color);\n",
              "    }\n",
              "    90% {\n",
              "      border-color: transparent;\n",
              "      border-bottom-color: var(--fill-color);\n",
              "    }\n",
              "  }\n",
              "</style>\n",
              "\n",
              "  <script>\n",
              "    async function quickchart(key) {\n",
              "      const quickchartButtonEl =\n",
              "        document.querySelector('#' + key + ' button');\n",
              "      quickchartButtonEl.disabled = true;  // To prevent multiple clicks.\n",
              "      quickchartButtonEl.classList.add('colab-df-spinner');\n",
              "      try {\n",
              "        const charts = await google.colab.kernel.invokeFunction(\n",
              "            'suggestCharts', [key], {});\n",
              "      } catch (error) {\n",
              "        console.error('Error during call to suggestCharts:', error);\n",
              "      }\n",
              "      quickchartButtonEl.classList.remove('colab-df-spinner');\n",
              "      quickchartButtonEl.classList.add('colab-df-quickchart-complete');\n",
              "    }\n",
              "    (() => {\n",
              "      let quickchartButtonEl =\n",
              "        document.querySelector('#df-d3330edc-6dfd-4499-a2e5-1d16c7682458 button');\n",
              "      quickchartButtonEl.style.display =\n",
              "        google.colab.kernel.accessAllowed ? 'block' : 'none';\n",
              "    })();\n",
              "  </script>\n",
              "</div>\n",
              "\n",
              "    </div>\n",
              "  </div>\n"
            ],
            "application/vnd.google.colaboratory.intrinsic+json": {
              "type": "dataframe",
              "variable_name": "data",
              "summary": "{\n  \"name\": \"data\",\n  \"rows\": 1335,\n  \"fields\": [\n    {\n      \"column\": \"age\",\n      \"properties\": {\n        \"dtype\": \"number\",\n        \"std\": 14,\n        \"min\": 18,\n        \"max\": 64,\n        \"num_unique_values\": 47,\n        \"samples\": [\n          21,\n          45,\n          36\n        ],\n        \"semantic_type\": \"\",\n        \"description\": \"\"\n      }\n    },\n    {\n      \"column\": \"sex\",\n      \"properties\": {\n        \"dtype\": \"number\",\n        \"std\": 0,\n        \"min\": 0,\n        \"max\": 1,\n        \"num_unique_values\": 2,\n        \"samples\": [\n          0,\n          1\n        ],\n        \"semantic_type\": \"\",\n        \"description\": \"\"\n      }\n    },\n    {\n      \"column\": \"bmi\",\n      \"properties\": {\n        \"dtype\": \"number\",\n        \"std\": 6.1010383695987755,\n        \"min\": 15.96,\n        \"max\": 53.13,\n        \"num_unique_values\": 548,\n        \"samples\": [\n          23.18,\n          26.885\n        ],\n        \"semantic_type\": \"\",\n        \"description\": \"\"\n      }\n    },\n    {\n      \"column\": \"children\",\n      \"properties\": {\n        \"dtype\": \"number\",\n        \"std\": 1,\n        \"min\": 0,\n        \"max\": 5,\n        \"num_unique_values\": 6,\n        \"samples\": [\n          0,\n          1\n        ],\n        \"semantic_type\": \"\",\n        \"description\": \"\"\n      }\n    },\n    {\n      \"column\": \"smoker\",\n      \"properties\": {\n        \"dtype\": \"category\",\n        \"num_unique_values\": 2,\n        \"samples\": [\n          \"no\",\n          \"yes\"\n        ],\n        \"semantic_type\": \"\",\n        \"description\": \"\"\n      }\n    },\n    {\n      \"column\": \"charges\",\n      \"properties\": {\n        \"dtype\": \"number\",\n        \"std\": 12118.985665657701,\n        \"min\": 1121.8739,\n        \"max\": 63770.42801,\n        \"num_unique_values\": 1334,\n        \"samples\": [\n          8688.85885,\n          8978.1851\n        ],\n        \"semantic_type\": \"\",\n        \"description\": \"\"\n      }\n    }\n  ]\n}"
            }
          },
          "metadata": {},
          "execution_count": 21
        }
      ]
    },
    {
      "cell_type": "markdown",
      "metadata": {
        "id": "AuX-fpHesgmi"
      },
      "source": [
        "And now the smokers column"
      ]
    },
    {
      "cell_type": "code",
      "metadata": {
        "id": "LfU8gCe7sCDS",
        "colab": {
          "base_uri": "https://localhost:8080/",
          "height": 206
        },
        "outputId": "822bdd18-6767-4901-955b-e5c6e7a16a03"
      },
      "source": [
        "#Test Your Zaka\n",
        "smoker= {'no':0, 'yes':1}\n",
        "data[\"smoker\"]= data['smoker'].apply(lambda x: smoker[x])\n",
        "data.head()"
      ],
      "execution_count": null,
      "outputs": [
        {
          "output_type": "execute_result",
          "data": {
            "text/plain": [
              "   age  sex     bmi  children  smoker      charges\n",
              "0   19    1  27.900         0       1  16884.92400\n",
              "1   18    0  33.770         1       0   1725.55230\n",
              "2   28    0  33.000         3       0   4449.46200\n",
              "3   33    0  22.705         0       0  21984.47061\n",
              "4   32    0  28.880         0       0   3866.85520"
            ],
            "text/html": [
              "\n",
              "  <div id=\"df-4c08d017-f3e4-47ee-8c19-6190d9da7b19\" class=\"colab-df-container\">\n",
              "    <div>\n",
              "<style scoped>\n",
              "    .dataframe tbody tr th:only-of-type {\n",
              "        vertical-align: middle;\n",
              "    }\n",
              "\n",
              "    .dataframe tbody tr th {\n",
              "        vertical-align: top;\n",
              "    }\n",
              "\n",
              "    .dataframe thead th {\n",
              "        text-align: right;\n",
              "    }\n",
              "</style>\n",
              "<table border=\"1\" class=\"dataframe\">\n",
              "  <thead>\n",
              "    <tr style=\"text-align: right;\">\n",
              "      <th></th>\n",
              "      <th>age</th>\n",
              "      <th>sex</th>\n",
              "      <th>bmi</th>\n",
              "      <th>children</th>\n",
              "      <th>smoker</th>\n",
              "      <th>charges</th>\n",
              "    </tr>\n",
              "  </thead>\n",
              "  <tbody>\n",
              "    <tr>\n",
              "      <th>0</th>\n",
              "      <td>19</td>\n",
              "      <td>1</td>\n",
              "      <td>27.900</td>\n",
              "      <td>0</td>\n",
              "      <td>1</td>\n",
              "      <td>16884.92400</td>\n",
              "    </tr>\n",
              "    <tr>\n",
              "      <th>1</th>\n",
              "      <td>18</td>\n",
              "      <td>0</td>\n",
              "      <td>33.770</td>\n",
              "      <td>1</td>\n",
              "      <td>0</td>\n",
              "      <td>1725.55230</td>\n",
              "    </tr>\n",
              "    <tr>\n",
              "      <th>2</th>\n",
              "      <td>28</td>\n",
              "      <td>0</td>\n",
              "      <td>33.000</td>\n",
              "      <td>3</td>\n",
              "      <td>0</td>\n",
              "      <td>4449.46200</td>\n",
              "    </tr>\n",
              "    <tr>\n",
              "      <th>3</th>\n",
              "      <td>33</td>\n",
              "      <td>0</td>\n",
              "      <td>22.705</td>\n",
              "      <td>0</td>\n",
              "      <td>0</td>\n",
              "      <td>21984.47061</td>\n",
              "    </tr>\n",
              "    <tr>\n",
              "      <th>4</th>\n",
              "      <td>32</td>\n",
              "      <td>0</td>\n",
              "      <td>28.880</td>\n",
              "      <td>0</td>\n",
              "      <td>0</td>\n",
              "      <td>3866.85520</td>\n",
              "    </tr>\n",
              "  </tbody>\n",
              "</table>\n",
              "</div>\n",
              "    <div class=\"colab-df-buttons\">\n",
              "\n",
              "  <div class=\"colab-df-container\">\n",
              "    <button class=\"colab-df-convert\" onclick=\"convertToInteractive('df-4c08d017-f3e4-47ee-8c19-6190d9da7b19')\"\n",
              "            title=\"Convert this dataframe to an interactive table.\"\n",
              "            style=\"display:none;\">\n",
              "\n",
              "  <svg xmlns=\"http://www.w3.org/2000/svg\" height=\"24px\" viewBox=\"0 -960 960 960\">\n",
              "    <path d=\"M120-120v-720h720v720H120Zm60-500h600v-160H180v160Zm220 220h160v-160H400v160Zm0 220h160v-160H400v160ZM180-400h160v-160H180v160Zm440 0h160v-160H620v160ZM180-180h160v-160H180v160Zm440 0h160v-160H620v160Z\"/>\n",
              "  </svg>\n",
              "    </button>\n",
              "\n",
              "  <style>\n",
              "    .colab-df-container {\n",
              "      display:flex;\n",
              "      gap: 12px;\n",
              "    }\n",
              "\n",
              "    .colab-df-convert {\n",
              "      background-color: #E8F0FE;\n",
              "      border: none;\n",
              "      border-radius: 50%;\n",
              "      cursor: pointer;\n",
              "      display: none;\n",
              "      fill: #1967D2;\n",
              "      height: 32px;\n",
              "      padding: 0 0 0 0;\n",
              "      width: 32px;\n",
              "    }\n",
              "\n",
              "    .colab-df-convert:hover {\n",
              "      background-color: #E2EBFA;\n",
              "      box-shadow: 0px 1px 2px rgba(60, 64, 67, 0.3), 0px 1px 3px 1px rgba(60, 64, 67, 0.15);\n",
              "      fill: #174EA6;\n",
              "    }\n",
              "\n",
              "    .colab-df-buttons div {\n",
              "      margin-bottom: 4px;\n",
              "    }\n",
              "\n",
              "    [theme=dark] .colab-df-convert {\n",
              "      background-color: #3B4455;\n",
              "      fill: #D2E3FC;\n",
              "    }\n",
              "\n",
              "    [theme=dark] .colab-df-convert:hover {\n",
              "      background-color: #434B5C;\n",
              "      box-shadow: 0px 1px 3px 1px rgba(0, 0, 0, 0.15);\n",
              "      filter: drop-shadow(0px 1px 2px rgba(0, 0, 0, 0.3));\n",
              "      fill: #FFFFFF;\n",
              "    }\n",
              "  </style>\n",
              "\n",
              "    <script>\n",
              "      const buttonEl =\n",
              "        document.querySelector('#df-4c08d017-f3e4-47ee-8c19-6190d9da7b19 button.colab-df-convert');\n",
              "      buttonEl.style.display =\n",
              "        google.colab.kernel.accessAllowed ? 'block' : 'none';\n",
              "\n",
              "      async function convertToInteractive(key) {\n",
              "        const element = document.querySelector('#df-4c08d017-f3e4-47ee-8c19-6190d9da7b19');\n",
              "        const dataTable =\n",
              "          await google.colab.kernel.invokeFunction('convertToInteractive',\n",
              "                                                    [key], {});\n",
              "        if (!dataTable) return;\n",
              "\n",
              "        const docLinkHtml = 'Like what you see? Visit the ' +\n",
              "          '<a target=\"_blank\" href=https://colab.research.google.com/notebooks/data_table.ipynb>data table notebook</a>'\n",
              "          + ' to learn more about interactive tables.';\n",
              "        element.innerHTML = '';\n",
              "        dataTable['output_type'] = 'display_data';\n",
              "        await google.colab.output.renderOutput(dataTable, element);\n",
              "        const docLink = document.createElement('div');\n",
              "        docLink.innerHTML = docLinkHtml;\n",
              "        element.appendChild(docLink);\n",
              "      }\n",
              "    </script>\n",
              "  </div>\n",
              "\n",
              "\n",
              "<div id=\"df-bf4e15dd-497f-4560-95d5-488d97a8901b\">\n",
              "  <button class=\"colab-df-quickchart\" onclick=\"quickchart('df-bf4e15dd-497f-4560-95d5-488d97a8901b')\"\n",
              "            title=\"Suggest charts\"\n",
              "            style=\"display:none;\">\n",
              "\n",
              "<svg xmlns=\"http://www.w3.org/2000/svg\" height=\"24px\"viewBox=\"0 0 24 24\"\n",
              "     width=\"24px\">\n",
              "    <g>\n",
              "        <path d=\"M19 3H5c-1.1 0-2 .9-2 2v14c0 1.1.9 2 2 2h14c1.1 0 2-.9 2-2V5c0-1.1-.9-2-2-2zM9 17H7v-7h2v7zm4 0h-2V7h2v10zm4 0h-2v-4h2v4z\"/>\n",
              "    </g>\n",
              "</svg>\n",
              "  </button>\n",
              "\n",
              "<style>\n",
              "  .colab-df-quickchart {\n",
              "      --bg-color: #E8F0FE;\n",
              "      --fill-color: #1967D2;\n",
              "      --hover-bg-color: #E2EBFA;\n",
              "      --hover-fill-color: #174EA6;\n",
              "      --disabled-fill-color: #AAA;\n",
              "      --disabled-bg-color: #DDD;\n",
              "  }\n",
              "\n",
              "  [theme=dark] .colab-df-quickchart {\n",
              "      --bg-color: #3B4455;\n",
              "      --fill-color: #D2E3FC;\n",
              "      --hover-bg-color: #434B5C;\n",
              "      --hover-fill-color: #FFFFFF;\n",
              "      --disabled-bg-color: #3B4455;\n",
              "      --disabled-fill-color: #666;\n",
              "  }\n",
              "\n",
              "  .colab-df-quickchart {\n",
              "    background-color: var(--bg-color);\n",
              "    border: none;\n",
              "    border-radius: 50%;\n",
              "    cursor: pointer;\n",
              "    display: none;\n",
              "    fill: var(--fill-color);\n",
              "    height: 32px;\n",
              "    padding: 0;\n",
              "    width: 32px;\n",
              "  }\n",
              "\n",
              "  .colab-df-quickchart:hover {\n",
              "    background-color: var(--hover-bg-color);\n",
              "    box-shadow: 0 1px 2px rgba(60, 64, 67, 0.3), 0 1px 3px 1px rgba(60, 64, 67, 0.15);\n",
              "    fill: var(--button-hover-fill-color);\n",
              "  }\n",
              "\n",
              "  .colab-df-quickchart-complete:disabled,\n",
              "  .colab-df-quickchart-complete:disabled:hover {\n",
              "    background-color: var(--disabled-bg-color);\n",
              "    fill: var(--disabled-fill-color);\n",
              "    box-shadow: none;\n",
              "  }\n",
              "\n",
              "  .colab-df-spinner {\n",
              "    border: 2px solid var(--fill-color);\n",
              "    border-color: transparent;\n",
              "    border-bottom-color: var(--fill-color);\n",
              "    animation:\n",
              "      spin 1s steps(1) infinite;\n",
              "  }\n",
              "\n",
              "  @keyframes spin {\n",
              "    0% {\n",
              "      border-color: transparent;\n",
              "      border-bottom-color: var(--fill-color);\n",
              "      border-left-color: var(--fill-color);\n",
              "    }\n",
              "    20% {\n",
              "      border-color: transparent;\n",
              "      border-left-color: var(--fill-color);\n",
              "      border-top-color: var(--fill-color);\n",
              "    }\n",
              "    30% {\n",
              "      border-color: transparent;\n",
              "      border-left-color: var(--fill-color);\n",
              "      border-top-color: var(--fill-color);\n",
              "      border-right-color: var(--fill-color);\n",
              "    }\n",
              "    40% {\n",
              "      border-color: transparent;\n",
              "      border-right-color: var(--fill-color);\n",
              "      border-top-color: var(--fill-color);\n",
              "    }\n",
              "    60% {\n",
              "      border-color: transparent;\n",
              "      border-right-color: var(--fill-color);\n",
              "    }\n",
              "    80% {\n",
              "      border-color: transparent;\n",
              "      border-right-color: var(--fill-color);\n",
              "      border-bottom-color: var(--fill-color);\n",
              "    }\n",
              "    90% {\n",
              "      border-color: transparent;\n",
              "      border-bottom-color: var(--fill-color);\n",
              "    }\n",
              "  }\n",
              "</style>\n",
              "\n",
              "  <script>\n",
              "    async function quickchart(key) {\n",
              "      const quickchartButtonEl =\n",
              "        document.querySelector('#' + key + ' button');\n",
              "      quickchartButtonEl.disabled = true;  // To prevent multiple clicks.\n",
              "      quickchartButtonEl.classList.add('colab-df-spinner');\n",
              "      try {\n",
              "        const charts = await google.colab.kernel.invokeFunction(\n",
              "            'suggestCharts', [key], {});\n",
              "      } catch (error) {\n",
              "        console.error('Error during call to suggestCharts:', error);\n",
              "      }\n",
              "      quickchartButtonEl.classList.remove('colab-df-spinner');\n",
              "      quickchartButtonEl.classList.add('colab-df-quickchart-complete');\n",
              "    }\n",
              "    (() => {\n",
              "      let quickchartButtonEl =\n",
              "        document.querySelector('#df-bf4e15dd-497f-4560-95d5-488d97a8901b button');\n",
              "      quickchartButtonEl.style.display =\n",
              "        google.colab.kernel.accessAllowed ? 'block' : 'none';\n",
              "    })();\n",
              "  </script>\n",
              "</div>\n",
              "\n",
              "    </div>\n",
              "  </div>\n"
            ],
            "application/vnd.google.colaboratory.intrinsic+json": {
              "type": "dataframe",
              "variable_name": "data",
              "summary": "{\n  \"name\": \"data\",\n  \"rows\": 1335,\n  \"fields\": [\n    {\n      \"column\": \"age\",\n      \"properties\": {\n        \"dtype\": \"number\",\n        \"std\": 14,\n        \"min\": 18,\n        \"max\": 64,\n        \"num_unique_values\": 47,\n        \"samples\": [\n          21,\n          45,\n          36\n        ],\n        \"semantic_type\": \"\",\n        \"description\": \"\"\n      }\n    },\n    {\n      \"column\": \"sex\",\n      \"properties\": {\n        \"dtype\": \"number\",\n        \"std\": 0,\n        \"min\": 0,\n        \"max\": 1,\n        \"num_unique_values\": 2,\n        \"samples\": [\n          0,\n          1\n        ],\n        \"semantic_type\": \"\",\n        \"description\": \"\"\n      }\n    },\n    {\n      \"column\": \"bmi\",\n      \"properties\": {\n        \"dtype\": \"number\",\n        \"std\": 6.1010383695987755,\n        \"min\": 15.96,\n        \"max\": 53.13,\n        \"num_unique_values\": 548,\n        \"samples\": [\n          23.18,\n          26.885\n        ],\n        \"semantic_type\": \"\",\n        \"description\": \"\"\n      }\n    },\n    {\n      \"column\": \"children\",\n      \"properties\": {\n        \"dtype\": \"number\",\n        \"std\": 1,\n        \"min\": 0,\n        \"max\": 5,\n        \"num_unique_values\": 6,\n        \"samples\": [\n          0,\n          1\n        ],\n        \"semantic_type\": \"\",\n        \"description\": \"\"\n      }\n    },\n    {\n      \"column\": \"smoker\",\n      \"properties\": {\n        \"dtype\": \"number\",\n        \"std\": 0,\n        \"min\": 0,\n        \"max\": 1,\n        \"num_unique_values\": 2,\n        \"samples\": [\n          0,\n          1\n        ],\n        \"semantic_type\": \"\",\n        \"description\": \"\"\n      }\n    },\n    {\n      \"column\": \"charges\",\n      \"properties\": {\n        \"dtype\": \"number\",\n        \"std\": 12118.985665657701,\n        \"min\": 1121.8739,\n        \"max\": 63770.42801,\n        \"num_unique_values\": 1334,\n        \"samples\": [\n          8688.85885,\n          8978.1851\n        ],\n        \"semantic_type\": \"\",\n        \"description\": \"\"\n      }\n    }\n  ]\n}"
            }
          },
          "metadata": {},
          "execution_count": 22
        }
      ]
    },
    {
      "cell_type": "markdown",
      "metadata": {
        "id": "uwfqKXYftiS-"
      },
      "source": [
        "#### Normalization\n",
        "\n",
        "Let's scale all the columns by dividing by the maximum"
      ]
    },
    {
      "cell_type": "markdown",
      "metadata": {
        "id": "N9qvYVaBlucK"
      },
      "source": [
        "First get the maximum of each column"
      ]
    },
    {
      "cell_type": "code",
      "metadata": {
        "id": "hJrBAhytsq8c",
        "colab": {
          "base_uri": "https://localhost:8080/",
          "height": 272
        },
        "outputId": "a9a4e887-1653-44b7-f6f4-f9d1a6426c35"
      },
      "source": [
        "#Test Your Zaka\n",
        "data_max= data.max()\n",
        "data_max"
      ],
      "execution_count": null,
      "outputs": [
        {
          "output_type": "execute_result",
          "data": {
            "text/plain": [
              "age            64.00000\n",
              "sex             1.00000\n",
              "bmi            53.13000\n",
              "children        5.00000\n",
              "smoker          1.00000\n",
              "charges     63770.42801\n",
              "dtype: float64"
            ],
            "text/html": [
              "<div>\n",
              "<style scoped>\n",
              "    .dataframe tbody tr th:only-of-type {\n",
              "        vertical-align: middle;\n",
              "    }\n",
              "\n",
              "    .dataframe tbody tr th {\n",
              "        vertical-align: top;\n",
              "    }\n",
              "\n",
              "    .dataframe thead th {\n",
              "        text-align: right;\n",
              "    }\n",
              "</style>\n",
              "<table border=\"1\" class=\"dataframe\">\n",
              "  <thead>\n",
              "    <tr style=\"text-align: right;\">\n",
              "      <th></th>\n",
              "      <th>0</th>\n",
              "    </tr>\n",
              "  </thead>\n",
              "  <tbody>\n",
              "    <tr>\n",
              "      <th>age</th>\n",
              "      <td>64.00000</td>\n",
              "    </tr>\n",
              "    <tr>\n",
              "      <th>sex</th>\n",
              "      <td>1.00000</td>\n",
              "    </tr>\n",
              "    <tr>\n",
              "      <th>bmi</th>\n",
              "      <td>53.13000</td>\n",
              "    </tr>\n",
              "    <tr>\n",
              "      <th>children</th>\n",
              "      <td>5.00000</td>\n",
              "    </tr>\n",
              "    <tr>\n",
              "      <th>smoker</th>\n",
              "      <td>1.00000</td>\n",
              "    </tr>\n",
              "    <tr>\n",
              "      <th>charges</th>\n",
              "      <td>63770.42801</td>\n",
              "    </tr>\n",
              "  </tbody>\n",
              "</table>\n",
              "</div><br><label><b>dtype:</b> float64</label>"
            ]
          },
          "metadata": {},
          "execution_count": 23
        }
      ]
    },
    {
      "cell_type": "markdown",
      "metadata": {
        "id": "GUJhx5LHlyzk"
      },
      "source": [
        "Divide each column by its maximum value"
      ]
    },
    {
      "cell_type": "code",
      "metadata": {
        "id": "oOxtgIjhu36f",
        "colab": {
          "base_uri": "https://localhost:8080/",
          "height": 300
        },
        "outputId": "02de8b4a-330f-475e-97e0-2c2adbe7b76b"
      },
      "source": [
        "#Test Your Zaka\n",
        "data = data.divide(data_max)\n",
        "data.describe()"
      ],
      "execution_count": null,
      "outputs": [
        {
          "output_type": "execute_result",
          "data": {
            "text/plain": [
              "               age          sex          bmi     children       smoker  \\\n",
              "count  1335.000000  1335.000000  1335.000000  1335.000000  1335.000000   \n",
              "mean      0.612441     0.495131     0.577102     0.219476     0.205243   \n",
              "std       0.219491     0.500164     0.114832     0.241145     0.404031   \n",
              "min       0.281250     0.000000     0.300395     0.000000     0.000000   \n",
              "25%       0.421875     0.000000     0.495059     0.000000     0.000000   \n",
              "50%       0.609375     0.000000     0.572181     0.200000     0.000000   \n",
              "75%       0.796875     1.000000     0.652880     0.400000     0.000000   \n",
              "max       1.000000     1.000000     1.000000     1.000000     1.000000   \n",
              "\n",
              "           charges  \n",
              "count  1335.000000  \n",
              "mean      0.208299  \n",
              "std       0.190041  \n",
              "min       0.017592  \n",
              "25%       0.074365  \n",
              "50%       0.147187  \n",
              "75%       0.262144  \n",
              "max       1.000000  "
            ],
            "text/html": [
              "\n",
              "  <div id=\"df-f3904492-864e-46a3-8581-0691bbe80a15\" class=\"colab-df-container\">\n",
              "    <div>\n",
              "<style scoped>\n",
              "    .dataframe tbody tr th:only-of-type {\n",
              "        vertical-align: middle;\n",
              "    }\n",
              "\n",
              "    .dataframe tbody tr th {\n",
              "        vertical-align: top;\n",
              "    }\n",
              "\n",
              "    .dataframe thead th {\n",
              "        text-align: right;\n",
              "    }\n",
              "</style>\n",
              "<table border=\"1\" class=\"dataframe\">\n",
              "  <thead>\n",
              "    <tr style=\"text-align: right;\">\n",
              "      <th></th>\n",
              "      <th>age</th>\n",
              "      <th>sex</th>\n",
              "      <th>bmi</th>\n",
              "      <th>children</th>\n",
              "      <th>smoker</th>\n",
              "      <th>charges</th>\n",
              "    </tr>\n",
              "  </thead>\n",
              "  <tbody>\n",
              "    <tr>\n",
              "      <th>count</th>\n",
              "      <td>1335.000000</td>\n",
              "      <td>1335.000000</td>\n",
              "      <td>1335.000000</td>\n",
              "      <td>1335.000000</td>\n",
              "      <td>1335.000000</td>\n",
              "      <td>1335.000000</td>\n",
              "    </tr>\n",
              "    <tr>\n",
              "      <th>mean</th>\n",
              "      <td>0.612441</td>\n",
              "      <td>0.495131</td>\n",
              "      <td>0.577102</td>\n",
              "      <td>0.219476</td>\n",
              "      <td>0.205243</td>\n",
              "      <td>0.208299</td>\n",
              "    </tr>\n",
              "    <tr>\n",
              "      <th>std</th>\n",
              "      <td>0.219491</td>\n",
              "      <td>0.500164</td>\n",
              "      <td>0.114832</td>\n",
              "      <td>0.241145</td>\n",
              "      <td>0.404031</td>\n",
              "      <td>0.190041</td>\n",
              "    </tr>\n",
              "    <tr>\n",
              "      <th>min</th>\n",
              "      <td>0.281250</td>\n",
              "      <td>0.000000</td>\n",
              "      <td>0.300395</td>\n",
              "      <td>0.000000</td>\n",
              "      <td>0.000000</td>\n",
              "      <td>0.017592</td>\n",
              "    </tr>\n",
              "    <tr>\n",
              "      <th>25%</th>\n",
              "      <td>0.421875</td>\n",
              "      <td>0.000000</td>\n",
              "      <td>0.495059</td>\n",
              "      <td>0.000000</td>\n",
              "      <td>0.000000</td>\n",
              "      <td>0.074365</td>\n",
              "    </tr>\n",
              "    <tr>\n",
              "      <th>50%</th>\n",
              "      <td>0.609375</td>\n",
              "      <td>0.000000</td>\n",
              "      <td>0.572181</td>\n",
              "      <td>0.200000</td>\n",
              "      <td>0.000000</td>\n",
              "      <td>0.147187</td>\n",
              "    </tr>\n",
              "    <tr>\n",
              "      <th>75%</th>\n",
              "      <td>0.796875</td>\n",
              "      <td>1.000000</td>\n",
              "      <td>0.652880</td>\n",
              "      <td>0.400000</td>\n",
              "      <td>0.000000</td>\n",
              "      <td>0.262144</td>\n",
              "    </tr>\n",
              "    <tr>\n",
              "      <th>max</th>\n",
              "      <td>1.000000</td>\n",
              "      <td>1.000000</td>\n",
              "      <td>1.000000</td>\n",
              "      <td>1.000000</td>\n",
              "      <td>1.000000</td>\n",
              "      <td>1.000000</td>\n",
              "    </tr>\n",
              "  </tbody>\n",
              "</table>\n",
              "</div>\n",
              "    <div class=\"colab-df-buttons\">\n",
              "\n",
              "  <div class=\"colab-df-container\">\n",
              "    <button class=\"colab-df-convert\" onclick=\"convertToInteractive('df-f3904492-864e-46a3-8581-0691bbe80a15')\"\n",
              "            title=\"Convert this dataframe to an interactive table.\"\n",
              "            style=\"display:none;\">\n",
              "\n",
              "  <svg xmlns=\"http://www.w3.org/2000/svg\" height=\"24px\" viewBox=\"0 -960 960 960\">\n",
              "    <path d=\"M120-120v-720h720v720H120Zm60-500h600v-160H180v160Zm220 220h160v-160H400v160Zm0 220h160v-160H400v160ZM180-400h160v-160H180v160Zm440 0h160v-160H620v160ZM180-180h160v-160H180v160Zm440 0h160v-160H620v160Z\"/>\n",
              "  </svg>\n",
              "    </button>\n",
              "\n",
              "  <style>\n",
              "    .colab-df-container {\n",
              "      display:flex;\n",
              "      gap: 12px;\n",
              "    }\n",
              "\n",
              "    .colab-df-convert {\n",
              "      background-color: #E8F0FE;\n",
              "      border: none;\n",
              "      border-radius: 50%;\n",
              "      cursor: pointer;\n",
              "      display: none;\n",
              "      fill: #1967D2;\n",
              "      height: 32px;\n",
              "      padding: 0 0 0 0;\n",
              "      width: 32px;\n",
              "    }\n",
              "\n",
              "    .colab-df-convert:hover {\n",
              "      background-color: #E2EBFA;\n",
              "      box-shadow: 0px 1px 2px rgba(60, 64, 67, 0.3), 0px 1px 3px 1px rgba(60, 64, 67, 0.15);\n",
              "      fill: #174EA6;\n",
              "    }\n",
              "\n",
              "    .colab-df-buttons div {\n",
              "      margin-bottom: 4px;\n",
              "    }\n",
              "\n",
              "    [theme=dark] .colab-df-convert {\n",
              "      background-color: #3B4455;\n",
              "      fill: #D2E3FC;\n",
              "    }\n",
              "\n",
              "    [theme=dark] .colab-df-convert:hover {\n",
              "      background-color: #434B5C;\n",
              "      box-shadow: 0px 1px 3px 1px rgba(0, 0, 0, 0.15);\n",
              "      filter: drop-shadow(0px 1px 2px rgba(0, 0, 0, 0.3));\n",
              "      fill: #FFFFFF;\n",
              "    }\n",
              "  </style>\n",
              "\n",
              "    <script>\n",
              "      const buttonEl =\n",
              "        document.querySelector('#df-f3904492-864e-46a3-8581-0691bbe80a15 button.colab-df-convert');\n",
              "      buttonEl.style.display =\n",
              "        google.colab.kernel.accessAllowed ? 'block' : 'none';\n",
              "\n",
              "      async function convertToInteractive(key) {\n",
              "        const element = document.querySelector('#df-f3904492-864e-46a3-8581-0691bbe80a15');\n",
              "        const dataTable =\n",
              "          await google.colab.kernel.invokeFunction('convertToInteractive',\n",
              "                                                    [key], {});\n",
              "        if (!dataTable) return;\n",
              "\n",
              "        const docLinkHtml = 'Like what you see? Visit the ' +\n",
              "          '<a target=\"_blank\" href=https://colab.research.google.com/notebooks/data_table.ipynb>data table notebook</a>'\n",
              "          + ' to learn more about interactive tables.';\n",
              "        element.innerHTML = '';\n",
              "        dataTable['output_type'] = 'display_data';\n",
              "        await google.colab.output.renderOutput(dataTable, element);\n",
              "        const docLink = document.createElement('div');\n",
              "        docLink.innerHTML = docLinkHtml;\n",
              "        element.appendChild(docLink);\n",
              "      }\n",
              "    </script>\n",
              "  </div>\n",
              "\n",
              "\n",
              "<div id=\"df-a3618889-b9df-4489-8b20-06b08bd4e174\">\n",
              "  <button class=\"colab-df-quickchart\" onclick=\"quickchart('df-a3618889-b9df-4489-8b20-06b08bd4e174')\"\n",
              "            title=\"Suggest charts\"\n",
              "            style=\"display:none;\">\n",
              "\n",
              "<svg xmlns=\"http://www.w3.org/2000/svg\" height=\"24px\"viewBox=\"0 0 24 24\"\n",
              "     width=\"24px\">\n",
              "    <g>\n",
              "        <path d=\"M19 3H5c-1.1 0-2 .9-2 2v14c0 1.1.9 2 2 2h14c1.1 0 2-.9 2-2V5c0-1.1-.9-2-2-2zM9 17H7v-7h2v7zm4 0h-2V7h2v10zm4 0h-2v-4h2v4z\"/>\n",
              "    </g>\n",
              "</svg>\n",
              "  </button>\n",
              "\n",
              "<style>\n",
              "  .colab-df-quickchart {\n",
              "      --bg-color: #E8F0FE;\n",
              "      --fill-color: #1967D2;\n",
              "      --hover-bg-color: #E2EBFA;\n",
              "      --hover-fill-color: #174EA6;\n",
              "      --disabled-fill-color: #AAA;\n",
              "      --disabled-bg-color: #DDD;\n",
              "  }\n",
              "\n",
              "  [theme=dark] .colab-df-quickchart {\n",
              "      --bg-color: #3B4455;\n",
              "      --fill-color: #D2E3FC;\n",
              "      --hover-bg-color: #434B5C;\n",
              "      --hover-fill-color: #FFFFFF;\n",
              "      --disabled-bg-color: #3B4455;\n",
              "      --disabled-fill-color: #666;\n",
              "  }\n",
              "\n",
              "  .colab-df-quickchart {\n",
              "    background-color: var(--bg-color);\n",
              "    border: none;\n",
              "    border-radius: 50%;\n",
              "    cursor: pointer;\n",
              "    display: none;\n",
              "    fill: var(--fill-color);\n",
              "    height: 32px;\n",
              "    padding: 0;\n",
              "    width: 32px;\n",
              "  }\n",
              "\n",
              "  .colab-df-quickchart:hover {\n",
              "    background-color: var(--hover-bg-color);\n",
              "    box-shadow: 0 1px 2px rgba(60, 64, 67, 0.3), 0 1px 3px 1px rgba(60, 64, 67, 0.15);\n",
              "    fill: var(--button-hover-fill-color);\n",
              "  }\n",
              "\n",
              "  .colab-df-quickchart-complete:disabled,\n",
              "  .colab-df-quickchart-complete:disabled:hover {\n",
              "    background-color: var(--disabled-bg-color);\n",
              "    fill: var(--disabled-fill-color);\n",
              "    box-shadow: none;\n",
              "  }\n",
              "\n",
              "  .colab-df-spinner {\n",
              "    border: 2px solid var(--fill-color);\n",
              "    border-color: transparent;\n",
              "    border-bottom-color: var(--fill-color);\n",
              "    animation:\n",
              "      spin 1s steps(1) infinite;\n",
              "  }\n",
              "\n",
              "  @keyframes spin {\n",
              "    0% {\n",
              "      border-color: transparent;\n",
              "      border-bottom-color: var(--fill-color);\n",
              "      border-left-color: var(--fill-color);\n",
              "    }\n",
              "    20% {\n",
              "      border-color: transparent;\n",
              "      border-left-color: var(--fill-color);\n",
              "      border-top-color: var(--fill-color);\n",
              "    }\n",
              "    30% {\n",
              "      border-color: transparent;\n",
              "      border-left-color: var(--fill-color);\n",
              "      border-top-color: var(--fill-color);\n",
              "      border-right-color: var(--fill-color);\n",
              "    }\n",
              "    40% {\n",
              "      border-color: transparent;\n",
              "      border-right-color: var(--fill-color);\n",
              "      border-top-color: var(--fill-color);\n",
              "    }\n",
              "    60% {\n",
              "      border-color: transparent;\n",
              "      border-right-color: var(--fill-color);\n",
              "    }\n",
              "    80% {\n",
              "      border-color: transparent;\n",
              "      border-right-color: var(--fill-color);\n",
              "      border-bottom-color: var(--fill-color);\n",
              "    }\n",
              "    90% {\n",
              "      border-color: transparent;\n",
              "      border-bottom-color: var(--fill-color);\n",
              "    }\n",
              "  }\n",
              "</style>\n",
              "\n",
              "  <script>\n",
              "    async function quickchart(key) {\n",
              "      const quickchartButtonEl =\n",
              "        document.querySelector('#' + key + ' button');\n",
              "      quickchartButtonEl.disabled = true;  // To prevent multiple clicks.\n",
              "      quickchartButtonEl.classList.add('colab-df-spinner');\n",
              "      try {\n",
              "        const charts = await google.colab.kernel.invokeFunction(\n",
              "            'suggestCharts', [key], {});\n",
              "      } catch (error) {\n",
              "        console.error('Error during call to suggestCharts:', error);\n",
              "      }\n",
              "      quickchartButtonEl.classList.remove('colab-df-spinner');\n",
              "      quickchartButtonEl.classList.add('colab-df-quickchart-complete');\n",
              "    }\n",
              "    (() => {\n",
              "      let quickchartButtonEl =\n",
              "        document.querySelector('#df-a3618889-b9df-4489-8b20-06b08bd4e174 button');\n",
              "      quickchartButtonEl.style.display =\n",
              "        google.colab.kernel.accessAllowed ? 'block' : 'none';\n",
              "    })();\n",
              "  </script>\n",
              "</div>\n",
              "\n",
              "    </div>\n",
              "  </div>\n"
            ],
            "application/vnd.google.colaboratory.intrinsic+json": {
              "type": "dataframe",
              "summary": "{\n  \"name\": \"data\",\n  \"rows\": 8,\n  \"fields\": [\n    {\n      \"column\": \"age\",\n      \"properties\": {\n        \"dtype\": \"number\",\n        \"std\": 471.79478113619035,\n        \"min\": 0.2194910833025516,\n        \"max\": 1335.0,\n        \"num_unique_values\": 8,\n        \"samples\": [\n          0.6124414794007491,\n          0.609375,\n          1335.0\n        ],\n        \"semantic_type\": \"\",\n        \"description\": \"\"\n      }\n    },\n    {\n      \"column\": \"sex\",\n      \"properties\": {\n        \"dtype\": \"number\",\n        \"std\": 471.84267493438574,\n        \"min\": 0.0,\n        \"max\": 1335.0,\n        \"num_unique_values\": 5,\n        \"samples\": [\n          0.4951310861423221,\n          1.0,\n          0.5001636554207417\n        ],\n        \"semantic_type\": \"\",\n        \"description\": \"\"\n      }\n    },\n    {\n      \"column\": \"bmi\",\n      \"properties\": {\n        \"dtype\": \"number\",\n        \"std\": 471.8063400028188,\n        \"min\": 0.11483226744962864,\n        \"max\": 1335.0,\n        \"num_unique_values\": 8,\n        \"samples\": [\n          0.5771018863349102,\n          0.5721814417466591,\n          1335.0\n        ],\n        \"semantic_type\": \"\",\n        \"description\": \"\"\n      }\n    },\n    {\n      \"column\": \"children\",\n      \"properties\": {\n        \"dtype\": \"number\",\n        \"std\": 471.8898052727142,\n        \"min\": 0.0,\n        \"max\": 1335.0,\n        \"num_unique_values\": 7,\n        \"samples\": [\n          1335.0,\n          0.2194756554307116,\n          0.4\n        ],\n        \"semantic_type\": \"\",\n        \"description\": \"\"\n      }\n    },\n    {\n      \"column\": \"smoker\",\n      \"properties\": {\n        \"dtype\": \"number\",\n        \"std\": 471.91262226642345,\n        \"min\": 0.0,\n        \"max\": 1335.0,\n        \"num_unique_values\": 5,\n        \"samples\": [\n          0.20524344569288389,\n          1.0,\n          0.4040307556169049\n        ],\n        \"semantic_type\": \"\",\n        \"description\": \"\"\n      }\n    },\n    {\n      \"column\": \"charges\",\n      \"properties\": {\n        \"dtype\": \"number\",\n        \"std\": 471.89793068871916,\n        \"min\": 0.017592384668079632,\n        \"max\": 1335.0,\n        \"num_unique_values\": 8,\n        \"samples\": [\n          0.20829880561470804,\n          0.14718673831902354,\n          1335.0\n        ],\n        \"semantic_type\": \"\",\n        \"description\": \"\"\n      }\n    }\n  ]\n}"
            }
          },
          "metadata": {},
          "execution_count": 24
        }
      ]
    },
    {
      "cell_type": "markdown",
      "metadata": {
        "id": "nwQPUuGy8vmw"
      },
      "source": [
        "## 4. MultiLinear Regression Model Training\n",
        "\n"
      ]
    },
    {
      "cell_type": "markdown",
      "metadata": {
        "id": "LTNYhHSpHezL"
      },
      "source": [
        "#### Data splits\n",
        "\n",
        "Before training, we need to split data into training (80%) & testing (20%) using a random_state of 42.\n",
        "Print the shape of your training and testing data."
      ]
    },
    {
      "cell_type": "code",
      "metadata": {
        "id": "5n3DqBUG892K",
        "colab": {
          "base_uri": "https://localhost:8080/"
        },
        "outputId": "4750b6fb-bb13-4d5e-f079-7dd1f58e6585"
      },
      "source": [
        "#Test Your Zaka\n",
        "X = data.iloc[:,0:-1].values\n",
        "y =data.iloc[:,-1].values\n",
        "x_train, x_test, y_train, y_test = train_test_split(X, y, test_size=0.2, random_state=42)\n",
        "print(x_train.shape, y_train.shape)\n",
        "print(x_test.shape, y_test.shape)\n"
      ],
      "execution_count": null,
      "outputs": [
        {
          "output_type": "stream",
          "name": "stdout",
          "text": [
            "(1068, 5) (1068,)\n",
            "(267, 5) (267,)\n"
          ]
        }
      ]
    },
    {
      "cell_type": "markdown",
      "metadata": {
        "id": "nnkHA8kR-dTV"
      },
      "source": [
        "### Optimization Using Gradient Descent"
      ]
    },
    {
      "cell_type": "markdown",
      "metadata": {
        "id": "U9pEqSLJAGHX"
      },
      "source": [
        "We remind you that this is a multi linear regression problem <br>\n",
        "* The equation is y = **a0** + **a1** * x1 + **a2** * x2 + **a3** * x3 + **a4** * x4 + **a5** * x5 <br>\n",
        "In other words, we have the following: <br>\n",
        "* charges = **a0** + **a1** * age + **a2** * sex + **a3** * bmi + **a4** * children + **a5** * smoker\n",
        "*   We call the numpy vector a the vector containing the parameters a = [a0, a1, a2, a3, a4, a5]\n",
        "* The goal is to find the best vector a\n"
      ]
    },
    {
      "cell_type": "markdown",
      "metadata": {
        "id": "4vQPYw3CmtQj"
      },
      "source": [
        "Implement the function Gradient_descent that has the following specifications. Beware of the naming of the variables"
      ]
    },
    {
      "cell_type": "code",
      "metadata": {
        "id": "7WdDAPfcndLC"
      },
      "source": [
        "def Gradient_descent (x, y, learning_rate, nb_iterations, initial_a):\n",
        "\n",
        "  x1= x[:,0]\n",
        "  x2= x[:,1]\n",
        "  x3= x[:,2]\n",
        "  x4= x[:,3]\n",
        "  x5= x[:,4]\n",
        "  n_examples= X.shape[0]\n",
        "  a0 =initial_a[0]\n",
        "  a1 =initial_a[1]\n",
        "  a2 =initial_a[2]\n",
        "  a3 =initial_a[3]\n",
        "  a4 =initial_a[4]\n",
        "  a5 =initial_a[5]\n",
        "\n",
        "  costs=[]\n",
        "  for i in range(nb_iterations):\n",
        "    y_pred= a0 + a1*x1 + a2*x2 + a3*x3 + a4*x4 + a5*x5\n",
        "    c= np.sum((y-y_pred)**2)/n_examples\n",
        "    costs.append(c)\n",
        "    if(c<0.001):\n",
        "      break\n",
        "    a0_der = -2*np.sum(1*(y-y_pred))/n_examples\n",
        "    a1_der = -2*np.sum(x1*(y-y_pred))/n_examples\n",
        "    a2_der = -2*np.sum(x2*(y-y_pred))/n_examples\n",
        "    a3_der = -2*np.sum(x3*(y-y_pred))/n_examples\n",
        "    a4_der = -2*np.sum(x4*(y-y_pred))/n_examples\n",
        "    a5_der = -2*np.sum(x5*(y-y_pred))/n_examples\n",
        "\n",
        "    a0 = a0 - learning_rate*a0_der\n",
        "    a1 = a1 - learning_rate*a1_der\n",
        "    a2 = a2 - learning_rate*a2_der\n",
        "    a3 = a3 - learning_rate*a3_der\n",
        "    a4 = a4 - learning_rate*a4_der\n",
        "    a5 = a5 - learning_rate*a5_der\n",
        "\n",
        "\n",
        "  return costs, np.array([a0, a1, a2, a3, a4, a5])"
      ],
      "execution_count": null,
      "outputs": []
    },
    {
      "cell_type": "markdown",
      "metadata": {
        "id": "lIM15LLfdti-"
      },
      "source": [
        "Now that we have the function ready, we can use it to obtain the optimum coefficient values, and use them for future predictions."
      ]
    },
    {
      "cell_type": "markdown",
      "metadata": {
        "id": "-jKEzwckpTzw"
      },
      "source": [
        "Initialize the number of iteration as 10000, and the learning rate as 0.1. Then write the model equation you obtained"
      ]
    },
    {
      "cell_type": "code",
      "metadata": {
        "id": "GP80P2_dd5Ar",
        "colab": {
          "base_uri": "https://localhost:8080/"
        },
        "outputId": "ef119cf3-b3aa-4be1-878f-3387e9dd2eb7"
      },
      "source": [
        "#Test Your Zaka\n",
        "n_features = x_train.shape[1]\n",
        "initial_a = np.random.rand(n_features+1)\n",
        "n_iterations = 1000\n",
        "learning_rate = 0.1\n",
        "costs, a = Gradient_descent(x_train, y_train, learning_rate, n_iterations, initial_a)\n",
        "print(\"Model equation is: \", a[0],\"+\", a[1],\"age +\", a[2], \"sex +\", a[3], \"bmi +\", a[4], \"children +\", a[5], \"smoker\")"
      ],
      "execution_count": null,
      "outputs": [
        {
          "output_type": "stream",
          "name": "stdout",
          "text": [
            "Model equation is:  -0.15985636204712025 + 0.2522507310815592 age + 0.005685326522265494 sex + 0.21895122795723432 bmi + 0.04187429307923632 children + 0.3662969366594512 smoker\n"
          ]
        }
      ]
    },
    {
      "cell_type": "markdown",
      "metadata": {
        "id": "Jxx2NFLSDlQa"
      },
      "source": [
        "Plot the cost function"
      ]
    },
    {
      "cell_type": "code",
      "metadata": {
        "id": "3vwhJZnUDndB",
        "colab": {
          "base_uri": "https://localhost:8080/",
          "height": 509
        },
        "outputId": "db765c58-1dd0-45a7-d5ba-da790c4fcf2a"
      },
      "source": [
        "#Test Your Zaka\n",
        "plt.plot(costs)\n",
        "plt.title(\"Cost function\")\n",
        "plt.xlabel(\"Number of iterations\")\n",
        "plt.ylabel(\"Cost\")\n",
        "plt.show()\n",
        "print(costs)"
      ],
      "execution_count": null,
      "outputs": [
        {
          "output_type": "display_data",
          "data": {
            "text/plain": [
              "<Figure size 640x480 with 1 Axes>"
            ],
            "image/png": "[encoded data removed]"
          },
          "metadata": {}
        },
        {
          "output_type": "stream",
          "name": "stdout",
          "text": [
            "[2.3172068643199104, 1.0472232105270232, 0.47888339615442205, 0.22434518628619796, 0.11016412738834355, 0.05877430474546883, 0.03548668507299414, 0.024786836819319643, 0.0197352938631102, 0.01722740451251101, 0.015873535092583258, 0.01505109313216882, 0.014480587192289618, 0.01403603562462316, 0.013660176269219624, 0.013326543373058547, 0.01302250382055524, 0.012741666668494533, 0.012480484714910122, 0.012236731022977997, 0.012008814185187202, 0.011795468915247695, 0.011595614712905204, 0.01140828990145514, 0.011232619567569093, 0.011067798844020892, 0.010913083222645188, 0.010767782168112056, 0.010631254353577941, 0.010502903757036901, 0.010382176268355095, 0.010268556641525383, 0.010161565709846491, 0.010060757819513882, 0.009965718454554023, 0.009876062034344138, 0.009791429869148912, 0.0097114882614184, 0.009635926742033877, 0.009564456431712332, 0.009496808518590442, 0.00943273284369819, 0.009371996586644305, 0.0093143830443916, 0.009259690496511062, 0.009207731150775299, 0.009158330163389239, 0.009111324728561498, 0.009066563232496362, 0.009023904467235997, 0.008983216900107166, 0.008944377994828482, 0.008907273580614241, 0.008871797265871274, 0.008837849893326874, 0.008805339033650527, 0.008774178514840658, 0.008744287984841467, 0.00871559250503484, 0.008688022172419601, 0.008661511768445578, 0.008636000432614373, 0.008611431359092602, 0.008587751514707991, 0.008564911376814296, 0.00854286468961848, 0.008521568237663358, 0.008500981635251684, 0.00848106713068369, 0.008461789424260206, 0.008443115499077712, 0.008425014463710774, 0.008407457405941456, 0.008390417256754863, 0.008373868663875312, 0.008357787874169156, 0.008342152624287858, 0.008326942038969528, 0.008312136536458185, 0.008297717740538394, 0.008283668398718502, 0.008269972306128755, 0.008256614234731263, 0.00824357986746737, 0.008230855736994438, 0.008218429168688734, 0.008206288227613925, 0.008194421669176041, 0.008182818893205407, 0.008171469901224483, 0.008160365256677555, 0.008149496047914062, 0.008138853853732099, 0.008128430711302245, 0.008118219086304631, 0.008108211845123947, 0.008098402228958024, 0.008088783829705877, 0.008079350567510529, 0.008070096669840699, 0.008061016652003726, 0.008052105298989544, 0.008043357648552718, 0.008034768975446036, 0.008026334776725262, 0.008018050758050324, 0.00800991282091347, 0.008001917050729819, 0.0079940597057303, 0.007986337206601104, 0.007978746126817877, 0.007971283183626311, 0.007963945229624346, 0.007956729244904311, 0.007949632329716166, 0.007942651697615877, 0.00793578466906535, 0.007929028665452795, 0.00792238120350453, 0.00791583989006125, 0.007909402417193746, 0.00790306655763472, 0.007896830160505039, 0.007890691147314262, 0.007884647508216679, 0.007878697298505436, 0.007872838635328486, 0.007867069694611303, 0.007861388708172297, 0.007855793961017859, 0.007850283788804912, 0.007844856575459604, 0.007839510750941673, 0.007834244789144644, 0.00782905720592277, 0.007823946557236235, 0.007818911437406699, 0.007813950477475852, 0.0078090623436601475, 0.007804245735895312, 0.0077994993864647375, 0.007794822058706204, 0.007790212545791815, 0.007785669669576341, 0.007781192279509521, 0.007776779251608153, 0.007772429487484137, 0.0077681419134248255, 0.007763915479522349, 0.00775974915884877, 0.007755641946674175, 0.007751592859724959, 0.007747600935479755, 0.007743665231500723, 0.007739784824797882, 0.007735958811224526, 0.007732186304901766, 0.007728466437670406, 0.007724798358568497, 0.0077211812333330375, 0.007717614243924303, 0.007714096588071523, 0.0077106274788385915, 0.00770720614420864, 0.007703831826686389, 0.007700503782917223, 0.007697221283322026, 0.007693983611746913, 0.007690790065126963, 0.007687639953163198, 0.00768453259801209, 0.007681467333986856, 0.007678443507269947, 0.007675460475636094, 0.007672517608185387, 0.007669614285085791, 0.007666749897324686, 0.007663923846468911, 0.0076611355444328915, 0.007658384413254446, 0.007655669884877891, 0.007652991400944092, 0.007650348412587094, 0.007647740380237072, 0.007645166773429213, 0.007642627070618376, 0.00764012075899914, 0.007637647334331096, 0.00763520630076907, 0.007632797170698121, 0.007630419464573083, 0.007628072710762435, 0.007625756445396361, 0.007623470212218796, 0.0076212135624433045, 0.007618986054612644, 0.007616787254461846, 0.007614616734784725, 0.0076124740753036125, 0.007610358862542279, 0.00760827068970186, 0.0076062091565397005, 0.007604173869251029, 0.007602164440353335, 0.007600180488573374, 0.007598221638736709, 0.00759628752165969, 0.0075943777740438145, 0.007592492038372378, 0.007590629962809334, 0.007588791201100316, 0.007586975412475734, 0.007585182261555903, 0.007583411418258118, 0.007581662557705647, 0.00757993536013856, 0.007578229510826367, 0.007576544699982385, 0.0075748806226798165, 0.0075732369787694835, 0.007571613472799146, 0.007570009813934417, 0.007568425715881168, 0.007566860896809456, 0.0075653150792788625, 0.007563787990165279, 0.007562279360589043, 0.007560788925844418, 0.007559316425330413, 0.00755786160248285, 0.007556424204707697, 0.007555003983315622, 0.007553600693457727, 0.007552214094062476, 0.007550843947773739, 0.0075494900208899415, 0.007548152083304352, 0.007546829908446372, 0.007545523273223925, 0.007544231957966836, 0.00754295574637121, 0.007541694425444815, 0.007540447785453387, 0.007539215619867915, 0.007537997725312795, 0.0075367939015149425, 0.007535603951253732, 0.007534427680311849, 0.007533264897426955, 0.0075321154142441995, 0.007530979045269551, 0.007529855607823907, 0.0075287449219980165, 0.007527646810608145, 0.0075265610991525015, 0.0075254876157684145, 0.007524426191190222, 0.007523376658707876, 0.007522338854126244, 0.007521312615725101, 0.007520297784219793, 0.0075192942027225524, 0.00751830171670447, 0.007517320173958107, 0.007516349424560715, 0.007515389320838086, 0.0075144397173289995, 0.007513500470750253, 0.007512571439962281, 0.007511652485935352, 0.007510743471716299, 0.007509844262395835, 0.007508954725076374, 0.0075080747288404125, 0.007507204144719412, 0.007506342845663206, 0.007505490706509895, 0.00750464760395626, 0.0075038134165286334, 0.007502988024554272, 0.00750217131013318, 0.007501363157110404, 0.0075005634510487765, 0.007499772079202109, 0.007498988930488815, 0.007498213895465959, 0.007497446866303754, 0.007496687736760435, 0.007495936402157572, 0.007495192759355773, 0.007494456706730777, 0.007493728144149936, 0.007493006972949088, 0.00749229309590979, 0.007491586417236928, 0.007490886842536686, 0.007490194278794873, 0.007489508634355592, 0.007488829818900267, 0.007488157743426992, 0.007487492320230224, 0.007486833462880798, 0.007486181086206258, 0.007485535106271521, 0.007484895440359832, 0.00748426200695403, 0.007483634725718127, 0.00748301351747916, 0.007482398304209355, 0.00748178900900856, 0.007481185556086975, 0.0074805878707481285, 0.007479995879372169, 0.00747940950939939, 0.007478828689314019, 0.0074782533486282875, 0.007477683417866737, 0.007477118828550762, 0.007476559513183444, 0.007476005405234574, 0.007475456439125947, 0.007474912550216872, 0.007474373674789933, 0.007473839750036947, 0.007473310714045168, 0.007472786505783699, 0.007472267065090125, 0.007471752332657343, 0.007471242250020627, 0.007470736759544865, 0.007470235804412023, 0.007469739328608798, 0.00746924727691446, 0.007468759594888897, 0.007468276228860834, 0.0074677971259162566, 0.0074673222338869924, 0.007466851501339501, 0.007466384877563811, 0.007465922312562653, 0.00746546375704075, 0.0074650091623942785, 0.007464558480700509, 0.00746411166470758, 0.007463668667824453, 0.007463229444111034, 0.007462793948268418, 0.007462362135629314, 0.007461933962148606, 0.007461509384394067, 0.007461088359537214, 0.007460670845344312, 0.0074602568001675045, 0.007459846182936102, 0.00745943895314799, 0.007459035070861176, 0.007458634496685469, 0.007458237191774293, 0.0074578431178166146, 0.007457452237029005, 0.007457064512147832, 0.007456679906421551, 0.0074562983836031415, 0.007455919907942643, 0.007455544444179818, 0.007455171957536912, 0.007454802413711545, 0.007454435778869704, 0.0074540720196388365, 0.00745371110310107, 0.007453352996786508, 0.0074529976686666605, 0.007452645087147951, 0.007452295221065339, 0.007451948039676027, 0.007451603512653288, 0.007451261610080347, 0.007450922302444407, 0.007450585560630725, 0.007450251355916798, 0.007449919659966647, 0.007449590444825153, 0.007449263682912533, 0.007448939347018843, 0.007448617410298619, 0.007448297846265552, 0.007447980628787284, 0.0074476657320802575, 0.007447353130704649, 0.007447042799559397, 0.007446734713877274, 0.00744642884922007, 0.007446125181473816, 0.007445823686844102, 0.007445524341851458, 0.007445227123326807, 0.007444932008406987, 0.007444638974530341, 0.00744434799943237, 0.0074440590611414585, 0.007443772137974662, 0.007443487208533559, 0.007443204251700162, 0.007442923246632892, 0.00744264417276262, 0.00744236700978876, 0.0074420917376754265, 0.007441818336647647, 0.007441546787187627, 0.0074412770700310864, 0.007441009166163638, 0.007440743056817217, 0.007440478723466582, 0.007440216147825853, 0.007439955311845102, 0.007439696197707006, 0.00743943878782354, 0.007439183064832724, 0.0074389290115954125, 0.007438676611192145, 0.007438425846920028, 0.007438176702289686, 0.0074379291610222175, 0.007437683207046251, 0.0074374388244949985, 0.007437195997703378, 0.007436954711205165, 0.007436714949730202, 0.007436476698201639, 0.00743623994173321, 0.007436004665626566, 0.007435770855368635, 0.007435538496629019, 0.007435307575257447, 0.007435078077281242, 0.0074348499889028506, 0.0074346232964973835, 0.007434397986610213, 0.007434174045954603, 0.007433951461409352, 0.007433730220016506, 0.007433510308979082, 0.007433291715658825, 0.007433074427574015, 0.007432858432397281, 0.007432643717953473, 0.007432430272217546, 0.007432218083312491, 0.007432007139507276, 0.00743179742921484, 0.007431588940990104, 0.007431381663528003, 0.007431175585661574, 0.007430970696360039, 0.007430766984726942, 0.007430564439998294, 0.007430363051540768, 0.007430162808849893, 0.007429963701548294, 0.007429765719383953, 0.0074295688522284875, 0.007429373090075472, 0.007429178423038763, 0.007428984841350856, 0.007428792335361286, 0.007428600895535003, 0.007428410512450837, 0.0074282211767999215, 0.007428032879384184, 0.007427845611114836, 0.007427659363010896, 0.007427474126197726, 0.007427289891905594, 0.007427106651468254, 0.0074269243963215525, 0.007426743118002051, 0.007426562808145661, 0.007426383458486313, 0.007426205060854638, 0.007426027607176664, 0.0074258510894725386, 0.007425675499855262, 0.007425500830529446, 0.007425327073790087, 0.007425154222021355, 0.007424982267695406, 0.007424811203371201, 0.0074246410216933555, 0.007424471715390992, 0.007424303277276619, 0.007424135700245022, 0.007423968977272163, 0.007423803101414115, 0.007423638065805994, 0.0074234738636609135, 0.0074233104882689424, 0.007423147932996106, 0.0074229861912833706, 0.007422825256645655, 0.007422665122670861, 0.007422505783018908, 0.007422347231420787, 0.007422189461677633, 0.007422032467659792, 0.007421876243305928, 0.007421720782622109, 0.007421566079680949, 0.007421412128620718, 0.007421258923644497, 0.007421106459019319, 0.00742095472907536, 0.007420803728205088, 0.007420653450862472, 0.007420503891562179, 0.007420355044878785, 0.007420206905445996, 0.007420059467955889, 0.007419912727158152, 0.007419766677859341, 0.007419621314922145, 0.007419476633264667, 0.007419332627859701, 0.007419189293734039, 0.007419046625967773, 0.0074189046196936085, 0.0074187632700961886, 0.007418622572411438, 0.0074184825219259, 0.007418343113976085, 0.0074182043439478445, 0.007418066207275736, 0.0074179286994423945, 0.0074177918159779406, 0.0074176555524593565, 0.007417519904509905, 0.007417384867798536, 0.007417250438039311, 0.007417116610990826, 0.007416983382455665, 0.0074168507482798235, 0.007416718704352179, 0.007416587246603942, 0.007416456371008124, 0.007416326073579013, 0.007416196350371662, 0.0074160671974813725, 0.007415938611043184, 0.007415810587231391, 0.0074156831222590485, 0.007415556212377477, 0.007415429853875805, 0.007415304043080484, 0.007415178776354829, 0.007415054050098565, 0.007414929860747373, 0.007414806204772439, 0.0074146830786800235, 0.007414560479011023, 0.007414438402340552, 0.007414316845277505, 0.0074141958044641534, 0.007414075276575735, 0.007413955258320045, 0.007413835746437036, 0.007413716737698431, 0.007413598228907326, 0.0074134802168978175, 0.007413362698534614, 0.007413245670712673, 0.007413129130356819, 0.007413013074421403, 0.007412897499889918, 0.0074127824037746705, 0.007412667783116409, 0.007412553634984001, 0.007412439956474081, 0.007412326744710717, 0.007412213996845088, 0.007412101710055149, 0.007411989881545313, 0.007411878508546141, 0.007411767588314008, 0.007411657118130826, 0.007411547095303709, 0.007411437517164691, 0.007411328381070425, 0.007411219684401885, 0.007411111424564088, 0.007411003598985793, 0.007410896205119239, 0.00741078924043985, 0.007410682702445977, 0.007410576588658612, 0.0074104708966211364, 0.007410365623899046, 0.007410260768079697, 0.007410156326772056, 0.007410052297606426, 0.007409948678234225, 0.0074098454663277195, 0.00740974265957979, 0.007409640255703687, 0.0074095382524328, 0.007409436647520415, 0.007409335438739497, 0.007409234623882448, 0.0074091342007608935, 0.007409034167205455, 0.007408934521065534, 0.007408835260209095, 0.007408736382522451, 0.007408637885910061, 0.007408539768294307, 0.007408442027615307, 0.007408344661830699, 0.007408247668915449, 0.007408151046861652, 0.007408054793678334, 0.007407958907391271, 0.007407863386042781, 0.007407768227691558, 0.00740767343041247, 0.007407578992296389, 0.007407484911450002, 0.007407391185995643, 0.007407297814071105, 0.007407204793829481, 0.00740711212343898, 0.007407019801082772, 0.00740692782495881, 0.00740683619327967, 0.007406744904272388, 0.0074066539561783015, 0.0074065633472528945, 0.0074064730757656275, 0.0074063831399998024, 0.007406293538252399, 0.007406204268833922, 0.0074061153300682605, 0.0074060267202925405, 0.007405938437856974, 0.007405850481124729, 0.007405762848471765, 0.007405675538286724, 0.007405588548970769, 0.007405501878937461, 0.007405415526612622, 0.007405329490434197, 0.007405243768852132, 0.00740515836032824, 0.007405073263336079, 0.007404988476360815, 0.007404903997899109, 0.007404819826458994, 0.007404735960559741, 0.007404652398731757, 0.007404569139516453, 0.007404486181466136, 0.00740440352314389, 0.007404321163123461, 0.00740423909998915, 0.007404157332335697, 0.007404075858768173, 0.007403994677901869, 0.007403913788362193, 0.00740383318878457, 0.007403752877814323, 0.007403672854106582, 0.007403593116326178, 0.007403513663147542, 0.0074034344932546094, 0.007403355605340718, 0.00740327699810851, 0.007403198670269844, 0.007403120620545693, 0.007403042847666056, 0.007402965350369859, 0.007402888127404875, 0.007402811177527622, 0.007402734499503288, 0.007402658092105625, 0.0074025819541168785, 0.007402506084327702, 0.007402430481537053, 0.007402355144552136, 0.0074022800721882985, 0.007402205263268963, 0.00740213071662554, 0.0074020564310973485, 0.007401982405531543, 0.007401908638783026, 0.007401835129714382, 0.0074017618771957975, 0.007401688880104981, 0.007401616137327095, 0.007401543647754682, 0.0074014714102875944, 0.007401399423832914, 0.007401327687304896, 0.007401256199624884, 0.007401184959721249, 0.007401113966529331, 0.007401043218991347, 0.007400972716056349, 0.007400902456680146, 0.007400832439825243, 0.00740076266446077, 0.007400693129562434, 0.007400623834112438, 0.007400554777099436, 0.007400485957518456, 0.007400417374370855, 0.007400349026664248, 0.007400280913412449, 0.00740021303363543, 0.007400145386359232, 0.007400077970615943, 0.007400010785443616, 0.007399943829886223, 0.007399877102993601, 0.007399810603821396, 0.007399744331431011, 0.00739967828488955, 0.007399612463269763, 0.007399546865650007, 0.007399481491114177, 0.007399416338751674, 0.007399351407657336, 0.007399286696931404, 0.007399222205679462, 0.007399157933012398, 0.007399093878046352, 0.007399030039902665, 0.007398966417707841, 0.007398903010593489, 0.00739883981769629, 0.0073987768381579425, 0.007398714071125128, 0.007398651515749451, 0.007398589171187412, 0.0073985270366003515, 0.007398465111154419, 0.007398403394020522, 0.007398341884374288, 0.007398280581396022, 0.007398219484270669, 0.007398158592187766, 0.007398097904341414, 0.007398037419930227, 0.007397977138157303, 0.007397917058230178, 0.007397857179360789, 0.0073977975007654415, 0.007397738021664771, 0.007397678741283696, 0.007397619658851398, 0.007397560773601273, 0.007397502084770906, 0.00739744359160202, 0.007397385293340458, 0.007397327189236147, 0.007397269278543048, 0.007397211560519141, 0.007397154034426382, 0.007397096699530672, 0.007397039555101823, 0.007396982600413535, 0.007396925834743344, 0.007396869257372616, 0.007396812867586493, 0.007396756664673879, 0.007396700647927402, 0.0073966448166433805, 0.007396589170121798, 0.007396533707666282, 0.007396478428584058, 0.007396423332185927, 0.007396368417786245, 0.007396313684702888, 0.007396259132257223, 0.00739620475977408, 0.007396150566581732, 0.007396096552011856, 0.007396042715399519, 0.007395989056083141, 0.007395935573404477, 0.007395882266708585, 0.007395829135343803, 0.007395776178661725, 0.0073957233960171695, 0.007395670786768167, 0.007395618350275925, 0.0073955660859048025, 0.007395513993022295, 0.007395462070999002, 0.0073954103192086125, 0.007395358737027872, 0.007395307323836564, 0.007395256079017491, 0.007395205001956441, 0.007395154092042183, 0.007395103348666422, 0.007395052771223795, 0.007395002359111848, 0.007394952111731, 0.007394902028484542, 0.007394852108778596, 0.007394802352022113, 0.007394752757626838, 0.007394703325007298, 0.007394654053580777, 0.007394604942767299, 0.00739455599198961, 0.00739450720067315, 0.007394458568246043, 0.007394410094139078, 0.007394361777785678, 0.007394313618621899, 0.00739426561608639, 0.007394217769620402, 0.007394170078667741, 0.007394122542674771, 0.007394075161090387, 0.0073940279333659965, 0.007393980858955509, 0.00739393393731531, 0.00739388716790425, 0.0073938405501836274, 0.0073937940836171666, 0.007393747767671004, 0.007393701601813678, 0.0073936555855161, 0.007393609718251547, 0.007393563999495647, 0.00739351842872636, 0.007393473005423957, 0.007393427729071011, 0.007393382599152388, 0.007393337615155212, 0.007393292776568871, 0.00739324808288499, 0.007393203533597419, 0.0073931591282022195, 0.007393114866197647, 0.0073930707470841435, 0.007393026770364315, 0.0073929829355429185, 0.007392939242126858, 0.007392895689625156, 0.0073928522775489475, 0.007392809005411473, 0.007392765872728049, 0.007392722879016068, 0.007392680023794982, 0.007392637306586285, 0.007392594726913508, 0.007392552284302196, 0.007392509978279905, 0.007392467808376183, 0.007392425774122563, 0.007392383875052543, 0.007392342110701581, 0.007392300480607081, 0.00739225898430838, 0.007392217621346733, 0.007392176391265307, 0.007392135293609167, 0.0073920943279252626, 0.00739205349376242, 0.007392012790671324, 0.0073919722182045206, 0.007391931775916388, 0.007391891463363137, 0.007391851280102801, 0.007391811225695211, 0.007391771299702012, 0.007391731501686616, 0.007391691831214227, 0.0073916522878518034, 0.007391612871168069, 0.0073915735807334815, 0.0073915344161202415, 0.00739149537690227, 0.0073914564626552035, 0.007391417672956383, 0.007391379007384845, 0.007391340465521305, 0.007391302046948165, 0.007391263751249483, 0.007391225578010973, 0.007391187526820005, 0.007391149597265577, 0.007391111788938315, 0.00739107410143047, 0.0073910365343359, 0.007390999087250062, 0.007390961759770004, 0.00739092455149436, 0.007390887462023335, 0.007390850490958703, 0.007390813637903792, 0.007390776902463477, 0.007390740284244174, 0.0073907037828538314, 0.007390667397901915, 0.007390631128999412, 0.00739059497575881, 0.007390558937794101, 0.007390523014720758, 0.007390487206155744, 0.007390451511717488, 0.0073904159310258935, 0.007390380463702319, 0.007390345109369567, 0.007390309867651893, 0.007390274738174981, 0.00739023972056594, 0.0073902048144533095, 0.00739017001946703, 0.007390135335238453, 0.007390100761400327, 0.007390066297586791, 0.007390031943433362, 0.007389997698576939, 0.007389963562655792, 0.007389929535309547, 0.007389895616179184, 0.007389861804907037, 0.007389828101136775, 0.007389794504513407, 0.007389761014683264, 0.007389727631293999, 0.0073896943539945815, 0.007389661182435286, 0.007389628116267688, 0.007389595155144658, 0.007389562298720351, 0.00738952954665021, 0.007389496898590946, 0.007389464354200542, 0.007389431913138241, 0.0073893995750645486, 0.007389367339641212, 0.0073893352065312265, 0.007389303175398824, 0.007389271245909468, 0.007389239417729847, 0.007389207690527872, 0.007389176063972665, 0.007389144537734556, 0.007389113111485078, 0.00738908178489696, 0.00738905055764412, 0.007389019429401666, 0.007388988399845878, 0.007388957468654212, 0.007388926635505294, 0.007388895900078914, 0.007388865262056012, 0.007388834721118683, 0.007388804276950174, 0.007388773929234863, 0.007388743677658268, 0.007388713521907039, 0.007388683461668945, 0.007388653496632883, 0.007388623626488854, 0.007388593850927975, 0.007388564169642465, 0.007388534582325647, 0.007388505088671928, 0.007388475688376813, 0.007388446381136886, 0.007388417166649812, 0.007388388044614328, 0.007388359014730243, 0.007388330076698429, 0.007388301230220816, 0.0073882724750003945, 0.007388243810741197, 0.007388215237148308, 0.00738818675392785, 0.007388158360786978, 0.007388130057433888, 0.007388101843577791, 0.0073880737189289305, 0.0073880456831985596, 0.00738801773609895, 0.007387989877343385, 0.00738796210664614, 0.007387934423722503, 0.007387906828288752, 0.007387879320062156, 0.007387851898760973, 0.007387824564104442, 0.007387797315812779, 0.007387770153607179, 0.007387743077209802, 0.0073877160863437775, 0.007387689180733192]\n"
          ]
        }
      ]
    },
    {
      "cell_type": "markdown",
      "metadata": {
        "id": "IQvjlPFv-PVD"
      },
      "source": [
        "###Predicting Using Vectorized Gradient Descent"
      ]
    },
    {
      "cell_type": "markdown",
      "metadata": {
        "id": "LEBbE7lQ98qR"
      },
      "source": [
        "Of course you noted some redundancy in the Gradient Descent implementation, this is why we opt to use a vectorized notation that might be a bit more difficult, but the concept remains the same.\n",
        "This representation will be useful especially when your number of features starts to increase!"
      ]
    },
    {
      "cell_type": "code",
      "metadata": {
        "id": "YgxG_GzBz2QC"
      },
      "source": [
        "def Gradient_descent_vectorized (x, y, learning_rate, nb_iterations, initial_a):\n",
        "\n",
        "  n_examples= x.shape[0]\n",
        "  ones_column= np.ones((n_examples, 1))\n",
        "  new_x= np.hstack([ones_column, x])\n",
        "  a= initial_a\n",
        "  for i in range (nb_iterations):\n",
        "    y_pred= np.dot(new_x, a)\n",
        "    error= y-y_pred\n",
        "    error= np.expand_dims(error, axis=1)\n",
        "    a_der = -2*np.sum(np.multiply(new_x, error), axis=0)/n_examples\n",
        "    a = a- learning_rate*a_der\n",
        "\n",
        "  return a\n"
      ],
      "execution_count": null,
      "outputs": []
    },
    {
      "cell_type": "markdown",
      "metadata": {
        "id": "Ov5QMHVBp9-V"
      },
      "source": [
        "Train your model using the vectorized notation with the same initializations that you did previously. Then write the equation you obtained for your model."
      ]
    },
    {
      "cell_type": "code",
      "metadata": {
        "id": "eDJf830c2VKp",
        "colab": {
          "base_uri": "https://localhost:8080/"
        },
        "outputId": "32bfbf97-4fe6-469a-f921-f36151e2671e"
      },
      "source": [
        "#Test Your Zaka\n",
        "n_features = x_train.shape[1]\n",
        "initial_a = np.random.rand(n_features+1)\n",
        "n_iterations = 1000\n",
        "learning_rate = 0.1\n",
        "a = Gradient_descent_vectorized(x_train, y_train, learning_rate, n_iterations, initial_a)\n",
        "print(\"Model equation is: \", a[0],\"+\", a[1],\"age +\", a[2], \"sex +\", a[3], \"bmi +\", a[4], \"children +\", a[5], \"smoker\")"
      ],
      "execution_count": null,
      "outputs": [
        {
          "output_type": "stream",
          "name": "stdout",
          "text": [
            "Model equation is:  -0.1782140244716366 + 0.2532304616993639 age + 0.006396005491437603 sex + 0.248542451835881 bmi + 0.04257117009818669 children + 0.36662004306947954 smoker\n"
          ]
        }
      ]
    },
    {
      "cell_type": "markdown",
      "metadata": {
        "id": "XPOrVwgZAaNA"
      },
      "source": [
        "You should obtain the same result as above."
      ]
    },
    {
      "cell_type": "markdown",
      "metadata": {
        "id": "4H4hqB3iMQg6"
      },
      "source": [
        "Write a function that you'll use to make predictions"
      ]
    },
    {
      "cell_type": "code",
      "metadata": {
        "id": "39aurJCfL2l4"
      },
      "source": [
        "def predict_medical_charges (a, x):\n",
        "\n",
        "  charges = a[0]+ np.dot(x, a[1:])\n",
        "\n",
        "\n",
        "  return charges"
      ],
      "execution_count": null,
      "outputs": []
    },
    {
      "cell_type": "markdown",
      "metadata": {
        "id": "SzD1NeQnN8zg"
      },
      "source": [
        "make a prediction of the medical charges on the first example we have in our training set"
      ]
    },
    {
      "cell_type": "code",
      "metadata": {
        "id": "cJXvIoQJOC4u",
        "colab": {
          "base_uri": "https://localhost:8080/"
        },
        "outputId": "8a561658-c9c1-40e6-fdd9-ba791518342f"
      },
      "source": [
        "#Test Your Zaka\n",
        "x = x_train[0]\n",
        "print(\"The charges for someone who is\", x_train[0][0]*data_max[0], \"years old, \", \"whose gender is \",  x_train[0][1]*data_max[1],\n",
        "      \"with a bmi of\",x_train[0][2]*data_max[2], \"and\", x_train[0][3]*data_max[3],\"children\", \"smoker\", x_train[0][4]*data_max[4]\n",
        "      ,\"is around \", predict_medical_charges (a, x)*data_max[-1])\n",
        "\n"
      ],
      "execution_count": null,
      "outputs": [
        {
          "output_type": "stream",
          "name": "stdout",
          "text": [
            "The charges for someone who is 47.0 years old,  whose gender is  1.0 with a bmi of 24.32 and 0.0 children smoker 0.0 is around  8157.33485349065\n"
          ]
        },
        {
          "output_type": "stream",
          "name": "stderr",
          "text": [
            "<ipython-input-32-0064c2d3ed7c>:3: FutureWarning: Series.__getitem__ treating keys as positions is deprecated. In a future version, integer keys will always be treated as labels (consistent with DataFrame behavior). To access a value by position, use `ser.iloc[pos]`\n",
            "  print(\"The charges for someone who is\", x_train[0][0]*data_max[0], \"years old, \", \"whose gender is \",  x_train[0][1]*data_max[1],\n",
            "<ipython-input-32-0064c2d3ed7c>:4: FutureWarning: Series.__getitem__ treating keys as positions is deprecated. In a future version, integer keys will always be treated as labels (consistent with DataFrame behavior). To access a value by position, use `ser.iloc[pos]`\n",
            "  \"with a bmi of\",x_train[0][2]*data_max[2], \"and\", x_train[0][3]*data_max[3],\"children\", \"smoker\", x_train[0][4]*data_max[4]\n",
            "<ipython-input-32-0064c2d3ed7c>:5: FutureWarning: Series.__getitem__ treating keys as positions is deprecated. In a future version, integer keys will always be treated as labels (consistent with DataFrame behavior). To access a value by position, use `ser.iloc[pos]`\n",
            "  ,\"is around \", predict_medical_charges (a, x)*data_max[-1])\n"
          ]
        }
      ]
    },
    {
      "cell_type": "markdown",
      "metadata": {
        "id": "C3rGevdtH8xK"
      },
      "source": [
        "###Linear Regression Model Evaluation"
      ]
    },
    {
      "cell_type": "markdown",
      "metadata": {
        "id": "a4qgwJ9GJe3b"
      },
      "source": [
        "Now we will evaluate our model with the metrics that we studied during the course. In order to do so, we will calculate the predicted values on the test set."
      ]
    },
    {
      "cell_type": "code",
      "metadata": {
        "id": "B9Js5Ix_KL_J"
      },
      "source": [
        "#Test Your Zaka\n",
        "y_predicted_test= predict_medical_charges(a, x_test)"
      ],
      "execution_count": null,
      "outputs": []
    },
    {
      "cell_type": "markdown",
      "metadata": {
        "id": "h5BDWqCZKSR2"
      },
      "source": [
        "Let's get the number of examples in the test set."
      ]
    },
    {
      "cell_type": "code",
      "metadata": {
        "id": "2yeK02pqKn3p",
        "colab": {
          "base_uri": "https://localhost:8080/"
        },
        "outputId": "add29c80-f7da-436a-cfab-cd3304a52df9"
      },
      "source": [
        "#Test Your Zaka\n",
        "n_test= x_test.shape[0]\n",
        "print(\"we have\", n_test, \"test examples\")"
      ],
      "execution_count": null,
      "outputs": [
        {
          "output_type": "stream",
          "name": "stdout",
          "text": [
            "we have 267 test examples\n"
          ]
        }
      ]
    },
    {
      "cell_type": "markdown",
      "metadata": {
        "id": "ce2Y8GelJPCc"
      },
      "source": [
        "####Mean Absolute Error (MAE)"
      ]
    },
    {
      "cell_type": "markdown",
      "metadata": {
        "id": "8LuDqKE-qoGo"
      },
      "source": [
        "Calculate the MAE between the predicted and the real values"
      ]
    },
    {
      "cell_type": "code",
      "metadata": {
        "id": "iDLHc5QvIA6C",
        "colab": {
          "base_uri": "https://localhost:8080/"
        },
        "outputId": "49751bb5-a789-4a6f-bd63-dbd6d5a04672"
      },
      "source": [
        "#Test Your Zaka\n",
        "MAE= np.sum(np.abs(y_predicted_test*data_max[-1] - y_test*data_max[-1]))/n_test\n",
        "print(\"The MAE is: \", MAE)"
      ],
      "execution_count": null,
      "outputs": [
        {
          "output_type": "stream",
          "name": "stdout",
          "text": [
            "The MAE is:  4219.688071037662\n"
          ]
        },
        {
          "output_type": "stream",
          "name": "stderr",
          "text": [
            "<ipython-input-35-aa1392ca7e1a>:2: FutureWarning: Series.__getitem__ treating keys as positions is deprecated. In a future version, integer keys will always be treated as labels (consistent with DataFrame behavior). To access a value by position, use `ser.iloc[pos]`\n",
            "  MAE= np.sum(np.abs(y_predicted_test*data_max[-1] - y_test*data_max[-1]))/n_test\n"
          ]
        }
      ]
    },
    {
      "cell_type": "markdown",
      "metadata": {
        "id": "iBwf8xVfK-df"
      },
      "source": [
        "####Mean Squared Error (MSE)"
      ]
    },
    {
      "cell_type": "markdown",
      "metadata": {
        "id": "LsmlVGj4qsKw"
      },
      "source": [
        "Calculate the MSE"
      ]
    },
    {
      "cell_type": "code",
      "metadata": {
        "id": "d6W8fQf1LINY",
        "colab": {
          "base_uri": "https://localhost:8080/"
        },
        "outputId": "2ce9fd47-6fe0-4268-8ae4-a3f36a8a1899"
      },
      "source": [
        "#Test Your Zaka\n",
        "MSE= np.sum((y_predicted_test*data_max[-1] - y_test*data_max[-1])**2)/n_test\n",
        "print(\"The MSE is: \", MSE)\n"
      ],
      "execution_count": null,
      "outputs": [
        {
          "output_type": "stream",
          "name": "stdout",
          "text": [
            "The MSE is:  34151756.640125446\n"
          ]
        },
        {
          "output_type": "stream",
          "name": "stderr",
          "text": [
            "<ipython-input-36-f44d85092863>:2: FutureWarning: Series.__getitem__ treating keys as positions is deprecated. In a future version, integer keys will always be treated as labels (consistent with DataFrame behavior). To access a value by position, use `ser.iloc[pos]`\n",
            "  MSE= np.sum((y_predicted_test*data_max[-1] - y_test*data_max[-1])**2)/n_test\n"
          ]
        }
      ]
    },
    {
      "cell_type": "markdown",
      "metadata": {
        "id": "tQE44o1wLVaY"
      },
      "source": [
        "####Root Mean Squared Error (RMSE)"
      ]
    },
    {
      "cell_type": "markdown",
      "metadata": {
        "id": "UfU4KUzTLYP_"
      },
      "source": [
        "This is just the root of the MSE that we computed. This is another metric we can look at to evaluate our regression models."
      ]
    },
    {
      "cell_type": "code",
      "metadata": {
        "id": "KO0xuraxLU62",
        "colab": {
          "base_uri": "https://localhost:8080/"
        },
        "outputId": "26430fda-ef57-4e5d-8fcd-0cb0e845da9c"
      },
      "source": [
        "#Test Your Zaka\n",
        "RMSE= np.sqrt(MSE)\n",
        "print(\"The RMSE is: \", RMSE)"
      ],
      "execution_count": null,
      "outputs": [
        {
          "output_type": "stream",
          "name": "stdout",
          "text": [
            "The RMSE is:  5843.950431012009\n"
          ]
        }
      ]
    },
    {
      "cell_type": "markdown",
      "metadata": {
        "id": "7dPqqZiT97Eg"
      },
      "source": [
        "### Prediction Using Scikit Learn Library\n"
      ]
    },
    {
      "cell_type": "markdown",
      "metadata": {
        "id": "j1_MDWZnAsbn"
      },
      "source": [
        "Now to validate the results that we got, we will use the scikit learn library to give us the values of the coefficients that we got using Gradient Descent.\n",
        "for this purpose, you have to build a linear regression mode, and fit it on the training data"
      ]
    },
    {
      "cell_type": "code",
      "metadata": {
        "id": "CYUD8wNF9bm3",
        "colab": {
          "base_uri": "https://localhost:8080/"
        },
        "outputId": "1ecc72df-9634-40fd-9894-32c21be64877"
      },
      "source": [
        "#Test Your Zaka\n",
        "model= LinearRegression()\n",
        "model.fit(x_train, y_train)\n",
        "print(\"model Trained!\")"
      ],
      "execution_count": null,
      "outputs": [
        {
          "output_type": "stream",
          "name": "stdout",
          "text": [
            "model Trained!\n"
          ]
        }
      ]
    },
    {
      "cell_type": "markdown",
      "metadata": {
        "id": "aheCkvxXFb2B"
      },
      "source": [
        "####Features importance (Coefficients)\n"
      ]
    },
    {
      "cell_type": "markdown",
      "metadata": {
        "id": "qXca96BRq9pQ"
      },
      "source": [
        "Get the importance of each of your features, and compare the results with the ones you obtained in your gradient descent."
      ]
    },
    {
      "cell_type": "code",
      "metadata": {
        "id": "YIIDhnf-_AfG",
        "colab": {
          "base_uri": "https://localhost:8080/",
          "height": 489
        },
        "outputId": "5fc469fa-e973-41d7-a3c1-f7d0566d9021"
      },
      "source": [
        "#Test Your Zaka\n",
        "columns_names = data.columns[0:-1].values\n",
        "features_importance= model.coef_\n",
        "print(\"Features importance: \", features_importance)\n",
        "plt.barh(columns_names, features_importance)\n",
        "plt.title(\"Features importance\")\n",
        "plt.xlabel(\"Features\")\n",
        "plt.ylabel(\"Importance\")\n",
        "plt.show()"
      ],
      "execution_count": null,
      "outputs": [
        {
          "output_type": "stream",
          "name": "stdout",
          "text": [
            "Features importance:  [0.25340124 0.00636305 0.24684219 0.04254233 0.3666139 ]\n"
          ]
        },
        {
          "output_type": "display_data",
          "data": {
            "text/plain": [
              "<Figure size 640x480 with 1 Axes>"
            ],
            "image/png": "[encoded data removed]"
          },
          "metadata": {}
        }
      ]
    },
    {
      "cell_type": "markdown",
      "metadata": {
        "id": "HLfrhgC4_TrB"
      },
      "source": [
        "You should obtain the same coefficient values in the 3 approaches that we considered. Our computed values from GD are the same as the values that we got from sickit learn, which means the implementation was correct."
      ]
    },
    {
      "cell_type": "markdown",
      "metadata": {
        "id": "f-2KAmErMXtI"
      },
      "source": [
        "####Evaluation using Scikit learn"
      ]
    },
    {
      "cell_type": "markdown",
      "metadata": {
        "id": "dzi5gO0grNrS"
      },
      "source": [
        "Now we will compute the same metrics we computed earlier but using the sklearn library."
      ]
    },
    {
      "cell_type": "markdown",
      "metadata": {
        "id": "kp7AJYS6NNLw"
      },
      "source": [
        "We start by calculating the predicted values for this model."
      ]
    },
    {
      "cell_type": "code",
      "metadata": {
        "id": "oYAULOi9NSN5"
      },
      "source": [
        "#Test Your Zaka\n",
        "y_pred= model.predict(x_test)\n"
      ],
      "execution_count": null,
      "outputs": []
    },
    {
      "cell_type": "markdown",
      "metadata": {
        "id": "ZArgRM1TMgfA"
      },
      "source": [
        "Now we will evaluate the sklearn model using the sklearn library to get error metrics (MAE, MSE, RMSE)"
      ]
    },
    {
      "cell_type": "code",
      "metadata": {
        "id": "nM2yKf0FMsnM",
        "colab": {
          "base_uri": "https://localhost:8080/"
        },
        "outputId": "f1e129ff-76c2-427a-e928-bb8de73ce847"
      },
      "source": [
        "#Test Your Zaka\n",
        "from sklearn import metrics\n",
        "print(\"MAE: \", metrics.mean_absolute_error(y_test*data_max[-1], y_pred*data_max[-1]))\n",
        "print(\"MSE: \", metrics.mean_squared_error(y_test*data_max[-1], y_pred*data_max[-1]))\n",
        "print(\"RMSE: \", np.sqrt(metrics.mean_squared_error(y_test*data_max[-1], y_pred*data_max[-1])))"
      ],
      "execution_count": null,
      "outputs": [
        {
          "output_type": "stream",
          "name": "stdout",
          "text": [
            "MAE:  4217.590933001885\n",
            "MSE:  34169808.821944\n",
            "RMSE:  5845.49474569467\n"
          ]
        },
        {
          "output_type": "stream",
          "name": "stderr",
          "text": [
            "<ipython-input-43-7c6098595d37>:3: FutureWarning: Series.__getitem__ treating keys as positions is deprecated. In a future version, integer keys will always be treated as labels (consistent with DataFrame behavior). To access a value by position, use `ser.iloc[pos]`\n",
            "  print(\"MAE: \", metrics.mean_absolute_error(y_test*data_max[-1], y_pred*data_max[-1]))\n",
            "<ipython-input-43-7c6098595d37>:4: FutureWarning: Series.__getitem__ treating keys as positions is deprecated. In a future version, integer keys will always be treated as labels (consistent with DataFrame behavior). To access a value by position, use `ser.iloc[pos]`\n",
            "  print(\"MSE: \", metrics.mean_squared_error(y_test*data_max[-1], y_pred*data_max[-1]))\n",
            "<ipython-input-43-7c6098595d37>:5: FutureWarning: Series.__getitem__ treating keys as positions is deprecated. In a future version, integer keys will always be treated as labels (consistent with DataFrame behavior). To access a value by position, use `ser.iloc[pos]`\n",
            "  print(\"RMSE: \", np.sqrt(metrics.mean_squared_error(y_test*data_max[-1], y_pred*data_max[-1])))\n"
          ]
        }
      ]
    },
    {
      "cell_type": "markdown",
      "metadata": {
        "id": "UapHtjB9NkX9"
      },
      "source": [
        "the values should be so close to the ones we got from the model you built yourself."
      ]
    },
    {
      "cell_type": "markdown",
      "source": [
        "Calculate the R2 value using the model.score() function"
      ],
      "metadata": {
        "id": "6bxG8r5adBwI"
      }
    },
    {
      "cell_type": "code",
      "source": [
        "#Test Your Zaka\n",
        "model.score(x_test, y_test)"
      ],
      "metadata": {
        "id": "DM6JisvgdDT-",
        "colab": {
          "base_uri": "https://localhost:8080/"
        },
        "outputId": "b539ed05-2a46-4880-e6fe-c24b895592f9"
      },
      "execution_count": null,
      "outputs": [
        {
          "output_type": "execute_result",
          "data": {
            "text/plain": [
              "0.8043792068989463"
            ]
          },
          "metadata": {},
          "execution_count": 44
        }
      ]
    },
    {
      "cell_type": "markdown",
      "metadata": {
        "id": "NpDNK7xkPPhY"
      },
      "source": [
        "\n",
        "\n",
        "---\n",
        "#Classification based on several features with Gradient Descent\n"
      ]
    },
    {
      "cell_type": "markdown",
      "metadata": {
        "id": "H-4YL519PXjV"
      },
      "source": [
        "Now, we will predict based on all the features that we have if the person is smoker or not a smoker, and we'll use GD as optimization tool.\n",
        "We'll follow the same steps as above."
      ]
    },
    {
      "cell_type": "markdown",
      "metadata": {
        "id": "wYhlpP_xRdD8"
      },
      "source": [
        "Split your data between training (80%) and testing (20%), and print the shapes of your training and testing data. Use random state of 42"
      ]
    },
    {
      "cell_type": "code",
      "metadata": {
        "id": "oKNFCcTY_wCl",
        "colab": {
          "base_uri": "https://localhost:8080/"
        },
        "outputId": "14833917-4ac6-4d3e-8e79-0ced5047eb97"
      },
      "source": [
        "#Test Your Zaka\n",
        "X = data.loc[:,data.columns!='smoker'].values\n",
        "y =data.iloc[:,-2].values\n",
        "x_train, x_test, y_train, y_test = train_test_split(X, y, test_size=0.2, random_state=42)\n",
        "print(x_train.shape, y_train.shape)\n",
        "print(x_test.shape, y_test.shape)"
      ],
      "execution_count": null,
      "outputs": [
        {
          "output_type": "stream",
          "name": "stdout",
          "text": [
            "(1068, 5) (1068,)\n",
            "(267, 5) (267,)\n"
          ]
        }
      ]
    },
    {
      "cell_type": "markdown",
      "metadata": {
        "id": "fQu1JRu6R3Nb"
      },
      "source": [
        "##Optimization using Gradient Descent"
      ]
    },
    {
      "cell_type": "markdown",
      "metadata": {
        "id": "Xv-iaGtHR6hp"
      },
      "source": [
        "Now we will implement Gradient Descent to do this classification between smoker and non-smoker."
      ]
    },
    {
      "cell_type": "markdown",
      "metadata": {
        "id": "wrojdInlSBsZ"
      },
      "source": [
        "###Sigmoid Function"
      ]
    },
    {
      "cell_type": "markdown",
      "metadata": {
        "id": "jIhfDZS4SFId"
      },
      "source": [
        "start by implementing the sigmoid function"
      ]
    },
    {
      "cell_type": "code",
      "metadata": {
        "id": "nskC8Dq6RwkO"
      },
      "source": [
        "def sigmoid(v):\n",
        "  return 1/(1+np.exp(-v))"
      ],
      "execution_count": null,
      "outputs": []
    },
    {
      "cell_type": "markdown",
      "metadata": {
        "id": "w3FAc3axST-7"
      },
      "source": [
        "Now, we start with Gradient Descent for classification."
      ]
    },
    {
      "cell_type": "markdown",
      "metadata": {
        "id": "1wxhNbz_SpnJ"
      },
      "source": [
        "We remind you that this is a classification based on several features <br>\n",
        "* The equation is y = sigmoid(**a0** + **a1** * x1 + **a2** * x2 + **a3** * x3 + **a4** * x4 + **a5** * x5) <br>\n",
        "In other words, we have the following: <br>\n",
        "* smoker = sigmoid(**a0** + **a1** * age + **a2** * sex + **a3** * bmi + **a4** * children + **a5** * charges)\n",
        "* This represents the probability of a person being smoker given the features that we mentioned.\n",
        "*   We call the numpy vector a the vector containing the parameters a = [a0, a1, a2, a3, a4, a5]\n",
        "* The goal is to find the best vector a\n",
        "\n",
        "Build the Gradient_descent_Classification function. Pay attention to the parameters provided."
      ]
    },
    {
      "cell_type": "code",
      "metadata": {
        "id": "feyLXrIGSO4Q"
      },
      "source": [
        "def Gradient_descent_classification (x, y, learning_rate, nb_iterations, initial_a):\n",
        "\n",
        "  x1= x[:,0]\n",
        "  x2= x[:,1]\n",
        "  x3= x[:,2]\n",
        "  x4= x[:,3]\n",
        "  x5= x[:,4]\n",
        "  n_examples= X.shape[0]\n",
        "  a0 =initial_a[0]\n",
        "  a1 =initial_a[1]\n",
        "  a2 =initial_a[2]\n",
        "  a3 =initial_a[3]\n",
        "  a4 =initial_a[4]\n",
        "  a5 =initial_a[5]\n",
        "\n",
        "  costs=[]\n",
        "  for i in range(nb_iterations):\n",
        "    y_pred= sigmoid(a0 + a1*x1 + a2*x2 + a3*x3 + a4*x4 + a5*x5)\n",
        "    c= -np.sum(y*np.log(y_pred)+(1-y)*np.log(1-y_pred))/n_examples\n",
        "    costs.append(c)\n",
        "    if(c<0.001):\n",
        "      break\n",
        "    a0_der = -2*np.sum(1*(y-y_pred))/n_examples\n",
        "    a1_der = -2*np.sum(x1*(y-y_pred))/n_examples\n",
        "    a2_der = -2*np.sum(x2*(y-y_pred))/n_examples\n",
        "    a3_der = -2*np.sum(x3*(y-y_pred))/n_examples\n",
        "    a4_der = -2*np.sum(x4*(y-y_pred))/n_examples\n",
        "    a5_der = -2*np.sum(x5*(y-y_pred))/n_examples\n",
        "\n",
        "    a0 = a0 - learning_rate*a0_der\n",
        "    a1 = a1 - learning_rate*a1_der\n",
        "    a2 = a2 - learning_rate*a2_der\n",
        "    a3 = a3 - learning_rate*a3_der\n",
        "    a4 = a4 - learning_rate*a4_der\n",
        "    a5 = a5 - learning_rate*a5_der\n",
        "\n",
        "\n",
        "  return costs, np.array([a0, a1, a2, a3, a4, a5])"
      ],
      "execution_count": null,
      "outputs": []
    },
    {
      "cell_type": "markdown",
      "metadata": {
        "id": "wVJFokztUsUb"
      },
      "source": [
        "Now, we will train our model. Set the number of iterations to 10000, the learning rate to 0.1, and print the equation of the model you obtained."
      ]
    },
    {
      "cell_type": "code",
      "metadata": {
        "id": "IaLa-i8eUjz9",
        "colab": {
          "base_uri": "https://localhost:8080/"
        },
        "outputId": "6b77bd89-10fc-4bc2-8af4-ce740b495e0e"
      },
      "source": [
        "#Test Your Zaka\n",
        "n_features = x_train.shape[1]\n",
        "initial_a = np.random.rand(n_features+1)\n",
        "n_iterations = 1000\n",
        "learning_rate = 0.1\n",
        "costs, a = Gradient_descent_classification(x_train, y_train, learning_rate, n_iterations, initial_a)\n",
        "print(\"Model equation is: sigmoid \", a[0],\"+\", a[1],\"age +\", a[2], \"sex +\", a[3], \"bmi +\", a[4], \"children +\", a[5], \"smoker\")"
      ],
      "execution_count": null,
      "outputs": [
        {
          "output_type": "stream",
          "name": "stdout",
          "text": [
            "Model equation is: sigmoid  -1.4973249981186314 + -1.2155430145215065 age + -0.279054990176505 sex + -0.7643329110088151 bmi + -0.18245769364282 children + 5.860612112245694 smoker\n"
          ]
        }
      ]
    },
    {
      "cell_type": "markdown",
      "source": [
        "Plot the cost function"
      ],
      "metadata": {
        "id": "QTfWvLPiOMxe"
      }
    },
    {
      "cell_type": "code",
      "source": [
        "#Test Your Zaka.\n",
        "plt.plot(costs)\n",
        "print(costs)"
      ],
      "metadata": {
        "id": "1nCnG2CLOOUY",
        "colab": {
          "base_uri": "https://localhost:8080/",
          "height": 467
        },
        "outputId": "1ef39d86-990e-4346-fc18-1e42e123fc43"
      },
      "execution_count": null,
      "outputs": [
        {
          "output_type": "stream",
          "name": "stdout",
          "text": [
            "[0.8662132894054311, 0.7978007672760716, 0.7382003188136994, 0.6867439500029225, 0.6426449930041455, 0.6050630767576308, 0.5731597537890486, 0.5461397306016176, 0.5232768762424206, 0.5039270425175034, 0.4875310044013292, 0.4736109087210132, 0.4617630531395883, 0.4516490475358866, 0.4429866929725853, 0.4355413537390378, 0.4291182082644996, 0.42355551707714817, 0.41871890212433127, 0.4144965571215193, 0.4107952768547832, 0.4075371863762116, 0.4046570571288232, 0.40210010913175936, 0.399820212390144, 0.39777841450249024, 0.3959417339874937, 0.3942821697501906, 0.39277588630858395, 0.3914025420291633, 0.3901447338663535, 0.3889875371760984, 0.38791812327616376, 0.38692544073161944, 0.3859999490037774, 0.3851333952398542, 0.38431862670139355, 0.3835494327151374, 0.3828204111474616, 0.3821268553062352, 0.38146465790477324, 0.3808302293155269, 0.38022042782344173, 0.3796324999821665, 0.37906402949777523, 0.37851289332816146, 0.3779772239028076, 0.3774553765460584, 0.376945901334437, 0.3764475187406427, 0.3759590985182712, 0.3754796413657221, 0.37500826297822604, 0.3745441801558863, 0.3740866986850871, 0.37363520275219864, 0.37318914568355044, 0.3727480418352386, 0.3723114594813837, 0.37187901457070843, 0.37145036523936564, 0.37102520698334146, 0.37060326840688557, 0.3701843074746587, 0.3697681082049047, 0.3693544777492199, 0.3689432438115899, 0.36853425236548437, 0.3681273656330774, 0.3677224602952219, 0.36731942590475325, 0.3669181634791214, 0.36651858425131867, 0.36612060856065387, 0.3657241648671714, 0.36532918887547344, 0.3649356227554118, 0.3645434144486126, 0.3641525170511031, 0.36376288826345454, 0.36337448990086, 0.3629872874564474, 0.3626012497119004, 0.36221634839014416, 0.36183255784544993, 0.3614498547868412, 0.3610682180311508, 0.3606876282824893, 0.36030806793524783, 0.35992952089808056, 0.3595519724365944, 0.35917540903272743, 0.358799818259018, 0.3584251886661662, 0.3580515096824612, 0.35767877152380917, 0.3573069651132269, 0.3569360820087967, 0.35656611433918073, 0.35619705474589486, 0.3558288963316249, 0.35546163261394664, 0.3550952574838798, 0.3547297651687657, 0.35436515019901305, 0.3540014073783063, 0.35363853175691257, 0.35327651860776, 0.3529153634050013, 0.3525550618047975, 0.3521956096280938, 0.35183700284517594, 0.3514792375618236, 0.3511223100068928, 0.35076621652117884, 0.35041095354742524, 0.3500565176213615, 0.34970290536365956, 0.3493501134727165, 0.34899813871817426, 0.3486469779351029, 0.3482966280187757, 0.34794708591997653, 0.3475983486407831, 0.3472504132307767, 0.34690327678363486, 0.3465569364340664, 0.3462113893550535, 0.34586663275536933, 0.3455226638773416, 0.34517947999483817, 0.34483707841145006, 0.3444954564588517, 0.3441546114953212, 0.34381454090440267, 0.3434752420936959, 0.3431367124937618, 0.34279894955712925, 0.3424619507573947, 0.3421257135884039, 0.34179023556350796, 0.3414555142148853, 0.341121547092923, 0.34078833176565204, 0.34045586581822934, 0.34012414685246334, 0.3397931724863781, 0.3394629403538111, 0.3391334481040428, 0.3388046934014533, 0.3384766739252046, 0.33814938736894407, 0.33782283144052977, 0.33749700386177184, 0.3371719023681916, 0.3368475247087944, 0.3365238686458563, 0.3362009319547217, 0.33587871242361234, 0.33555720785344556, 0.3352364160576612, 0.3349163348620569, 0.3345969621046292, 0.3342782956354228, 0.33396033331638375, 0.33364307302121976, 0.33332651263526375, 0.3330106500553426, 0.3326954831896501, 0.33238100995762243, 0.33206722828981855, 0.3317541361278022, 0.33144173142402766, 0.3311300121417279, 0.33081897625480466, 0.33050862174772183, 0.3301989466153997, 0.32988994886311224, 0.32958162650638506, 0.32927397757089666, 0.3289670000923795, 0.328660692116524, 0.32835505169888346, 0.32805007690478, 0.32774576580921283, 0.3274421164967666, 0.3271391270615219, 0.3268367956069661, 0.32653512024590653, 0.32623409910038315, 0.3259337303015836, 0.3256340119897589, 0.32533494231413945, 0.32503651943285344, 0.32473874151284454, 0.3244416067297921, 0.3241451132680309, 0.32384925932047276, 0.32355404308852886, 0.3232594627820323, 0.3229655166191623, 0.3226722028263688, 0.32237951963829836, 0.32208746529771975, 0.3217960380554519, 0.32150523617029175, 0.32121505790894256, 0.320925501545944, 0.32063656536360224, 0.32034824765192105, 0.3200605467085336, 0.3197734608386355, 0.31948698835491746, 0.31920112757749974, 0.3189158768338672, 0.3186312344588045, 0.3183471987943322, 0.31806376818964427, 0.31778094100104537, 0.31749871559188925, 0.3172170903325179, 0.31693606360020116, 0.31665563377907724, 0.31637579926009374, 0.31609655844094947, 0.31581790972603674, 0.3155398515263844, 0.3152623822596018, 0.3149855003498227, 0.31470920422765064, 0.31443349233010437, 0.314158363100564, 0.3138838149887179, 0.3136098464505103, 0.313336455948089, 0.31306364194975433, 0.31279140292990826, 0.31251973736900424, 0.3122486437534974, 0.31197812057579605, 0.3117081663342125, 0.31143877953291577, 0.3111699586818841, 0.3109017022968578, 0.31063400889929355, 0.3103668770163183, 0.31010030518068415, 0.30983429193072404, 0.30956883581030703, 0.3093039353687953, 0.3090395891610005, 0.3087757957471417, 0.3085125536928028, 0.30824986156889134, 0.307987717951597, 0.3077261214223513, 0.30746507056778727, 0.3072045639796998, 0.3069446002550065, 0.3066851779957088, 0.3064262958088539, 0.3061679523064966, 0.3059101461056623, 0.3056528758283096, 0.30539614010129407, 0.3051399375563322, 0.3048842668299655, 0.3046291265635255, 0.30437451540309884, 0.3041204319994928, 0.3038668750082013, 0.3036138430893714, 0.30336133490777, 0.3031093491327511, 0.30285788443822326, 0.3026069395026177, 0.30235651300885635, 0.30210660364432124, 0.3018572101008226, 0.30160833107456914, 0.30135996526613734, 0.30111211138044197, 0.3008647681267065, 0.30061793421843347, 0.3003716083733767, 0.30012578931351186, 0.299880475765009, 0.2996356664582044, 0.2993913601275732, 0.2991475555117025, 0.29890425135326404, 0.2986614463989882, 0.29841913939963755, 0.29817732910998096, 0.2979360142887683, 0.2976951936987046, 0.29745486610642563, 0.2972150302824729, 0.2969756850012696, 0.2967368290410957, 0.2964984611840651, 0.2962605802161014, 0.296023184926915, 0.2957862741099796, 0.2955498465625101, 0.2953139010854397, 0.2950784364833976, 0.2948434515646874, 0.2946089451412652, 0.294374916028718, 0.2941413630462428, 0.2939082850166253, 0.29367568076621964, 0.29344354912492726, 0.2932118889261773, 0.29298069900690615, 0.2927499782075379, 0.2925197253719645, 0.2922899393475271, 0.2920606189849958, 0.29183176313855186, 0.2916033706657684, 0.29137544042759206, 0.29114797128832487, 0.2909209621156059, 0.29069441178039374, 0.2904683191569486, 0.290242683122815, 0.29001750255880454, 0.28979277634897843, 0.28956850338063145, 0.2893446825442743, 0.2891213127336178, 0.28889839284555624, 0.2886759217801513, 0.2884538984406163, 0.2882323217333, 0.28801119056767144, 0.287790503856304, 0.28757026051486084, 0.2873504594620791, 0.2871310996197552, 0.28691217991273027, 0.2866936992688754, 0.28647565661907703, 0.2862580508972227, 0.2860408810401873, 0.28582414598781836, 0.285607844682923, 0.28539197607125344, 0.28517653910149415, 0.2849615327252479, 0.28474695589702287, 0.2845328075742193, 0.28431908671711653, 0.28410579228886024, 0.28389292325544974, 0.2836804785857252, 0.2834684572513554, 0.28325685822682517, 0.2830456804894235, 0.2828349230192312, 0.28262458479910896, 0.2824146648146858, 0.282205162054347, 0.28199607550922257, 0.2817874041731761, 0.28157914704279297, 0.2813713031173695, 0.2811638713989012, 0.2809568508920726, 0.2807502406042457, 0.28054403954544915, 0.280338246728368, 0.2801328611683328, 0.279927881883309, 0.2797233078938868, 0.2795191382232707, 0.2793153718972694, 0.27911200794428564, 0.27890904539530614, 0.27870648328389186, 0.27850432064616787, 0.27830255652081426, 0.2781011899490556, 0.2779002199746522, 0.27769964564389016, 0.2774994660055724, 0.27729968011100886, 0.27710028701400785, 0.27690128577086653, 0.27670267544036203, 0.27650445508374255, 0.27630662376471843, 0.27610918054945327, 0.2759121245065554, 0.2757154547070691, 0.27551917022446604, 0.27532327013463687, 0.27512775351588264, 0.2749326194489068, 0.2747378670168064, 0.2745434953050644, 0.27434950340154135, 0.274155890396467, 0.27396265538243275, 0.27376979745438373, 0.27357731570961047, 0.2733852092477415, 0.27319347717073555, 0.27300211858287365, 0.2728111325907519, 0.27262051830327344, 0.27243027483164134, 0.272240401289351, 0.2720508967921829, 0.27186176045819493, 0.27167299140771556, 0.2714845887633364, 0.27129655164990507, 0.27110887919451804, 0.2709215705265139, 0.27073462477746574, 0.2705480410811749, 0.27036181857366376, 0.27017595639316866, 0.26999045368013364, 0.2698053095772031, 0.26962052322921576, 0.26943609378319744, 0.2692520203883548, 0.26906830219606853, 0.268884938359887, 0.26870192803552023, 0.26851927038083223, 0.26833696455583606, 0.2681550097226866, 0.26797340504567446, 0.26779214969121995, 0.26761124282786664, 0.26743068362627515, 0.2672504712592172, 0.26707060490156953, 0.2668910837303077, 0.2667119069245002, 0.26653307366530216, 0.2663545831359502, 0.2661764345217555, 0.26599862701009874, 0.26582115979042387, 0.26564403205423254, 0.265467242995078, 0.26529079180855997, 0.2651146776923181, 0.26493889984602736, 0.2647634574713913, 0.2645883497721374, 0.264413575954011, 0.2642391352247698, 0.2640650267941787, 0.26389124987400375, 0.26371780367800735, 0.26354468742194237, 0.2633719003235469, 0.2631994416025392, 0.2630273104806118, 0.2628555061814267, 0.26268402793060996, 0.26251287495574627, 0.2623420464863741, 0.2621715417539802, 0.2620013599919945, 0.2618315004357851, 0.2616619623226532, 0.2614927448918276, 0.2613238473844603, 0.26115526904362085, 0.26098700911429185, 0.2608190668433634, 0.2606514414796287, 0.26048413227377887, 0.26031713847839777, 0.26015045934795766, 0.2599840941388139, 0.2598180421092002, 0.25965230251922383, 0.25948687463086084, 0.2593217577079512, 0.25915695101619407, 0.258992453823143, 0.25882826539820136, 0.25866438501261746, 0.2585008119394798, 0.2583375454537129, 0.25817458483207184, 0.25801192935313827, 0.25784957829731575, 0.2576875309468247, 0.25752578658569847, 0.25736434449977813, 0.25720320397670854, 0.2570423643059333, 0.25688182477869054, 0.25672158468800854, 0.256561643328701, 0.2564019999973626, 0.2562426539923647, 0.2560836046138509, 0.25592485116373254, 0.2557663929456845, 0.2556082292651406, 0.25545035942928923, 0.25529278274706935, 0.25513549852916584, 0.2549785060880052, 0.25482180473775135, 0.2546653937943015, 0.2545092725752814, 0.2543534404000416, 0.2541978965896529, 0.25404264046690245, 0.25388767135628887, 0.2537329885840189, 0.25357859147800255, 0.25342447936784934, 0.25327065158486384, 0.25311710746204164, 0.25296384633406543, 0.25281086753730053, 0.2526581704097909, 0.25250575429125505, 0.25235361852308213, 0.2522017624483276, 0.25205018541170926, 0.25189888675960337, 0.25174786584004016, 0.2515971220027003, 0.25144665459891075, 0.25129646298164043, 0.25114654650549684, 0.2509969045267213, 0.25084753640318586, 0.2506984414943885, 0.2505496191614499, 0.25040106876710905, 0.25025278967571923, 0.2501047812532446, 0.24995704286725592, 0.2498095738869268, 0.24966237368302954, 0.2495154416279317, 0.24936877709559196, 0.2492223794615562, 0.24907624810295387, 0.24893038239849405, 0.24878478172846152, 0.24863944547471323, 0.24849437302067415, 0.24834956375133366, 0.24820501705324174, 0.24806073231450534, 0.24791670892478418, 0.24777294627528756, 0.24762944375877, 0.24748620076952818, 0.2473432167033965, 0.2472004909577439, 0.24705802293146994, 0.24691581202500093, 0.2467738576402866, 0.24663215918079606, 0.24649071605151437, 0.2463495276589386, 0.24620859341107454, 0.2460679127174327, 0.24592748498902478, 0.24578730963836007, 0.2456473860794419, 0.24550771372776373, 0.24536829200030583, 0.2452291203155315, 0.24509019809338356, 0.2449515247552807, 0.244813099724114, 0.24467492242424319, 0.24453699228149314, 0.24439930872315047, 0.2442618711779597, 0.2441246790761199, 0.24398773184928127, 0.2438510289305412, 0.24371456975444128, 0.24357835375696327, 0.24344238037552596, 0.24330664904898142, 0.24317115921761187, 0.2430359103231257, 0.24290090180865428, 0.24276613311874862, 0.24263160369937561, 0.2424973129979147, 0.2423632604631545, 0.24222944554528925, 0.24209586769591535, 0.24196252636802817, 0.24182942101601831, 0.24169655109566837, 0.2415639160641496, 0.24143151538001822, 0.24129934850321244, 0.24116741489504867, 0.24103571401821844, 0.24090424533678487, 0.24077300831617926, 0.24064200242319791, 0.24051122712599865, 0.2403806818940975, 0.24025036619836543, 0.24012027951102477, 0.2399904213056462, 0.2398607910571453, 0.23973138824177906, 0.239602212337143, 0.23947326282216735, 0.23934453917711418, 0.23921604088357395, 0.23908776742446217, 0.23895971828401624, 0.23883189294779203, 0.23870429090266093, 0.23857691163680625, 0.23844975463972015, 0.2383228194022002, 0.23819610541634678, 0.23806961217555875, 0.2379433391745313, 0.23781728590925216, 0.23769145187699858, 0.23756583657633398, 0.23744043950710486, 0.23731526017043766, 0.23719029806873546, 0.23706555270567498, 0.23694102358620303, 0.23681671021653386, 0.2366926121041456, 0.23656872875777726, 0.23644505968742552, 0.23632160440434186, 0.23619836242102893, 0.23607533325123786, 0.23595251640996498, 0.23582991141344856, 0.23570751777916601, 0.23558533502583048, 0.23546336267338813, 0.2353416002430144, 0.23522004725711168, 0.23509870323930568, 0.23497756771444264, 0.23485664020858615, 0.23473592024901418, 0.2346154073642158, 0.23449510108388852, 0.2343750009389348, 0.2342551064614593, 0.23413541718476594, 0.2340159326433545, 0.23389665237291793, 0.23377757591033924, 0.23365870279368842, 0.23354003256221958, 0.2334215647563678, 0.23330329891774626, 0.23318523458914317, 0.23306737131451896, 0.232949708639003, 0.232832246108891, 0.23271498327164183, 0.2325979196758745, 0.23248105487136547, 0.2323643884090455, 0.23224791984099669, 0.23213164872044995, 0.2320155746017814, 0.23189969704050997, 0.23178401559329434, 0.23166852981793012, 0.23155323927334676, 0.23143814351960473, 0.23132324211789274, 0.2312085346305247, 0.2310940206209371, 0.2309796996536857, 0.23086557129444316, 0.2307516351099958, 0.23063789066824097, 0.23052433753818422, 0.2304109752899361, 0.23029780349470988, 0.2301848217248183, 0.23007202955367093, 0.22995942655577123, 0.22984701230671384, 0.22973478638318184, 0.22962274836294377, 0.22951089782485093, 0.22939923434883452, 0.22928775751590322, 0.22917646690813967, 0.2290653621086984, 0.22895444270180285, 0.22884370827274245, 0.22873315840787, 0.22862279269459898, 0.2285126107214007, 0.22840261207780144, 0.22829279635438027, 0.22818316314276546, 0.22807371203563254, 0.22796444262670118, 0.22785535451073266, 0.22774644728352697, 0.2276377205419203, 0.22752917388378233, 0.22742080690801336, 0.2273126192145419, 0.22720461040432183, 0.22709678007932974, 0.2269891278425623, 0.22688165329803367, 0.22677435605077273, 0.22666723570682054, 0.22656029187322743, 0.22645352415805087, 0.22634693217035237, 0.22624051552019522, 0.22613427381864148, 0.22602820667774973, 0.22592231371057228, 0.2258165945311527, 0.225711048754523, 0.22560567599670123, 0.22550047587468885, 0.2253954480064683, 0.2252905920110001, 0.2251859075082205, 0.2250813941190389, 0.22497705146533542, 0.22487287916995796, 0.22476887685672017, 0.22466504415039848, 0.22456138067672982, 0.22445788606240902, 0.22435455993508635, 0.2242514019233648, 0.2241484116567978, 0.22404558876588668, 0.22394293288207817, 0.22384044363776162, 0.223738120666267, 0.2236359636018621, 0.22353397207975015, 0.22343214573606723, 0.2233304842078801, 0.22322898713318345, 0.2231276541508975, 0.22302648490086566, 0.22292547902385204, 0.22282463616153902, 0.22272395595652464, 0.2226234380523206, 0.22252308209334948, 0.22242288772494226, 0.22232285459333623, 0.22222298234567253, 0.22212327062999343, 0.2220237190952403, 0.22192432739125106, 0.22182509516875792, 0.22172602207938466, 0.22162710777564476, 0.22152835191093873, 0.2214297541395517, 0.22133131411665133, 0.22123303149828524, 0.2211349059413787, 0.22103693710373234, 0.2209391246440198, 0.22084146822178555, 0.2207439674974422, 0.22064662213226865, 0.22054943178840725, 0.22045239612886217, 0.22035551481749643, 0.22025878751902997, 0.22016221389903737, 0.22006579362394532, 0.21996952636103081, 0.21987341177841824, 0.21977744954507764, 0.21968163933082213, 0.21958598080630598, 0.219490473643022, 0.21939511751329946, 0.21929991209030184, 0.21920485704802475, 0.21910995206129327, 0.21901519680576026, 0.2189205909579037, 0.21882613419502486, 0.21873182619524573, 0.21863766663750708, 0.2185436552015661, 0.2184497915679943, 0.2183560754181754, 0.21826250643430292, 0.21816908429937812, 0.21807580869720802, 0.21798267931240284, 0.21788969583037424, 0.21779685793733292, 0.21770416532028644, 0.21761161766703732, 0.21751921466618065, 0.21742695600710218, 0.21733484137997597, 0.21724287047576235, 0.21715104298620588, 0.2170593586038332, 0.21696781702195084, 0.21687641793464316, 0.2167851610367703, 0.21669404602396622, 0.21660307259263617, 0.2165122404399551, 0.21642154926386528, 0.21633099876307432, 0.21624058863705312, 0.21615031858603387, 0.2160601883110079, 0.2159701975137235, 0.21588034589668426, 0.21579063316314656, 0.21570105901711792, 0.2156116231633549, 0.21552232530736073, 0.21543316515538374, 0.21534414241441524, 0.2152552567921872, 0.21516650799717052, 0.2150778957385732, 0.21498941972633792, 0.21490107967114036, 0.21481287528438697, 0.2147248062782134, 0.21463687236548193, 0.21454907325978012, 0.21446140867541844, 0.2143738783274284, 0.21428648193156072, 0.21419921920428317, 0.21411208986277874, 0.2140250936249438, 0.21393823020938602, 0.2138514993354224, 0.2137649007230776, 0.21367843409308174, 0.21359209916686847, 0.2135058956665735, 0.2134198233150321, 0.2133338818357776, 0.21324807095303927, 0.21316239039174076, 0.21307683987749773, 0.21299141913661637, 0.21290612789609129, 0.21282096588360383, 0.21273593282752007, 0.21265102845688894, 0.2125662525014405, 0.212481604691584, 0.21239708475840602, 0.21231269243366865, 0.21222842744980766, 0.2121442895399307, 0.21206027843781539, 0.21197639387790754, 0.2118926355953193, 0.2118090033258275, 0.2117254968058716, 0.2116421157725521, 0.2115588599636285, 0.21147572911751786, 0.21139272297329254, 0.21130984127067895, 0.21122708375005536, 0.21114445015245015, 0.2110619402195404, 0.21097955369364965, 0.21089729031774643, 0.2108151498354425, 0.2107331319909909, 0.21065123652928452, 0.21056946319585396, 0.21048781173686607, 0.21040628189912222, 0.21032487343005637, 0.21024358607773358, 0.2101624195908481, 0.2100813737187218, 0.21000044821130232, 0.20991964281916145, 0.20983895729349347, 0.20975839138611335, 0.20967794484945504, 0.2095976174365699, 0.2095174089011251, 0.20943731899740145, 0.20935734748029244, 0.20927749410530197, 0.20919775862854295, 0.2091181408067357, 0.20903864039720607, 0.20895925715788402, 0.20887999084730174, 0.20880084122459222, 0.20872180804948762, 0.2086428910823172, 0.20856409008400645, 0.20848540481607472, 0.208406835040634, 0.20832838052038724, 0.20825004101862676, 0.20817181629923245, 0.2080937061266705, 0.20801571026599142, 0.2079378284828288, 0.20786006054339737, 0.2077824062144918, 0.20770486526348467, 0.20762743745832532, 0.20755012256753802, 0.2074729203602205, 0.20739583060604233, 0.20731885307524328, 0.20724198753863202, 0.20716523376758425, 0.2070885915340415, 0.20701206061050917, 0.2069356407700554, 0.20685933178630922, 0.2067831334334592, 0.20670704548625182, 0.2066310677199901, 0.2065551999105318, 0.2064794418342882, 0.20640379326822247, 0.20632825398984808, 0.2062528237772273, 0.20617750240897006, 0.20610228966423183, 0.20602718532271266, 0.20595218916465552, 0.20587730097084464, 0.20580252052260437, 0.20572784760179735, 0.20565328199082336, 0.20557882347261766, 0.2055044718306494, 0.20543022684892068, 0.2053560883119645, 0.20528205600484353, 0.20520812971314886, 0.20513430922299827, 0.20506059432103502, 0.2049869847944262, 0.20491348043086138, 0.20484008101855142, 0.20476678634622653, 0.20469359620313535, 0.20462051037904339, 0.20454752866423145, 0.20447465084949432, 0.2044018767261395, 0.20432920608598568, 0.20425663872136113, 0.20418417442510292, 0.2041118129905549, 0.20403955421156658, 0.20396739788249177, 0.2038953437981871, 0.20382339175401085, 0.20375154154582129, 0.2036797929699757, 0.20360814582332845, 0.20353659990323028, 0.20346515500752638, 0.20339381093455558, 0.20332256748314848]\n"
          ]
        },
        {
          "output_type": "display_data",
          "data": {
            "text/plain": [
              "<Figure size 640x480 with 1 Axes>"
            ],
            "image/png": "[encoded data removed]"
          },
          "metadata": {}
        }
      ]
    },
    {
      "cell_type": "markdown",
      "metadata": {
        "id": "y_vhtrV2_0bK"
      },
      "source": [
        "Now to predict we implement the following function that takes multiple examples in one numpy array x, and the parameters a, and gives back the prediction made for each example.\n",
        "<br>**Reminder:** If the output of the sigmoid function is >0.5, we consider the output is 1, otherwise, we consider it 0"
      ]
    },
    {
      "cell_type": "code",
      "metadata": {
        "id": "psgUymxu_3ui"
      },
      "source": [
        "def predict_smoker(x, a):\n",
        "\n",
        "  ones = np.ones((x.shape[0], 1))\n",
        "  new_x = np.hstack([ones, x])\n",
        "  result = sigmoid(np.dot(new_x, a))\n",
        "  result = result> 0.5\n",
        "  result = result.astype(int)\n",
        "  return result\n",
        "\n"
      ],
      "execution_count": null,
      "outputs": []
    },
    {
      "cell_type": "markdown",
      "metadata": {
        "id": "vscBj6pvtd8S"
      },
      "source": [
        "Make predictions on your test data using the predict_smoker: Compute the predictions associated with your test set"
      ]
    },
    {
      "cell_type": "code",
      "metadata": {
        "id": "nyEqsVz8A4tU",
        "colab": {
          "base_uri": "https://localhost:8080/",
          "height": 106
        },
        "outputId": "a56c9db7-6599-4e76-9ad0-1b9041261c45"
      },
      "source": [
        "#Test Your Zaka\n",
        " y_test_predicted = predict_smoker(x_test, a)"
      ],
      "execution_count": null,
      "outputs": [
        {
          "output_type": "error",
          "ename": "IndentationError",
          "evalue": "unexpected indent (<ipython-input-60-464c27fdc1af>, line 2)",
          "traceback": [
            "\u001b[0;36m  File \u001b[0;32m\"<ipython-input-60-464c27fdc1af>\"\u001b[0;36m, line \u001b[0;32m2\u001b[0m\n\u001b[0;31m    y_test_predicted = predict_smoker(x_test, a)\u001b[0m\n\u001b[0m    ^\u001b[0m\n\u001b[0;31mIndentationError\u001b[0m\u001b[0;31m:\u001b[0m unexpected indent\n"
          ]
        }
      ]
    },
    {
      "cell_type": "markdown",
      "metadata": {
        "id": "UH_3wnGBFwKb"
      },
      "source": [
        "##Classifier Evaluation"
      ]
    },
    {
      "cell_type": "markdown",
      "metadata": {
        "id": "LPZKVpvptie4"
      },
      "source": [
        "Now you will evaluate your classifier"
      ]
    },
    {
      "cell_type": "markdown",
      "metadata": {
        "id": "IbSnkaDOGnIl"
      },
      "source": [
        "###Accuracy Score"
      ]
    },
    {
      "cell_type": "markdown",
      "metadata": {
        "id": "vIqHp7vxtr2n"
      },
      "source": [
        "Compute the accuracy score of your classifier"
      ]
    },
    {
      "cell_type": "code",
      "metadata": {
        "id": "njQiaNjJGp0J",
        "colab": {
          "base_uri": "https://localhost:8080/"
        },
        "outputId": "29214aba-5052-4af5-9114-dbe167fc07c6"
      },
      "source": [
        "#Test Your Zaka\n",
        "y_wrong = np.count_nonzero(y_test- y_test_predicted, axis=0)\n",
        "y_correct = n_test - y_wrong\n",
        "accuracy_score = float (y_correct)/n_test\n",
        "print(\"Our classifier has an accuracy score of: \", accuracy_score*100, \"%\")"
      ],
      "execution_count": null,
      "outputs": [
        {
          "output_type": "stream",
          "name": "stdout",
          "text": [
            "Our classifier has an accuracy score of:  90.63670411985018 %\n"
          ]
        }
      ]
    },
    {
      "cell_type": "markdown",
      "metadata": {
        "id": "FpeaJXMWHGX5"
      },
      "source": [
        "###Confusion Matrix"
      ]
    },
    {
      "cell_type": "markdown",
      "metadata": {
        "id": "zIVqihfTtwCx"
      },
      "source": [
        "Compute the decision matrix for your classifier"
      ]
    },
    {
      "cell_type": "code",
      "metadata": {
        "id": "tVoH9BEDHIrL",
        "colab": {
          "base_uri": "https://localhost:8080/"
        },
        "outputId": "f6c5df98-1958-4ca3-857d-f49b2a749e45"
      },
      "source": [
        "#Test Your Zaka\n",
        "from sklearn.metrics import confusion_matrix\n",
        "TN, FP, FN, TP = confusion_matrix(y_test,y_test_predicted).ravel()\n",
        "conf = confusion_matrix(y_test,y_test_predicted)\n",
        "print(\"confusion matrix:\\n\",conf )"
      ],
      "execution_count": null,
      "outputs": [
        {
          "output_type": "stream",
          "name": "stdout",
          "text": [
            "confusion matrix:\n",
            " [[202   0]\n",
            " [ 25  40]]\n"
          ]
        }
      ]
    }
  ]
}